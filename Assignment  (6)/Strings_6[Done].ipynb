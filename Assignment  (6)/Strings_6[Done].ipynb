{
 "cells": [
  {
   "cell_type": "markdown",
   "metadata": {},
   "source": [
    "<h3>Question 1</h3>\n",
    "<p>Write a function that takes a string as a parameter and returns a string with every successive repetitive character replaced with a star(*). For example, ’balloon’ is returned as ’bal*o*n’.</p>"
   ]
  },
  {
   "cell_type": "code",
   "execution_count": 1,
   "metadata": {},
   "outputs": [
    {
     "name": "stdout",
     "output_type": "stream",
     "text": [
      "a**\n",
      "ab*a\n",
      "ab**a\n",
      "abcdef\n"
     ]
    }
   ],
   "source": [
    "def star(string):\n",
    "    new_string = ''\n",
    "    for i in range(len(string)):\n",
    "        if i == 0:\n",
    "            new_string += string[i]\n",
    "        elif string[i] == string[i-1]:\n",
    "            new_string += '*'\n",
    "        else:\n",
    "            new_string += string[i]\n",
    "    return new_string\n",
    "\n",
    "def main():\n",
    "    print(star('aaa'))\n",
    "    print(star('abba'))\n",
    "    print(star('abbba'))\n",
    "    print(star('abcdef'))\n",
    "\n",
    "if __name__ == \"__main__\":\n",
    "    main()"
   ]
  },
  {
   "cell_type": "markdown",
   "metadata": {},
   "source": [
    "\n",
    "<h3>Question 2</h3>\n",
    "<p>2. Write a function that takes two strings and returns True if they are anagrams and False otherwise. A pair of strings is anagrams if the letters in one word can be arranged to form the second one.</p>"
   ]
  },
  {
   "cell_type": "code",
   "execution_count": 13,
   "metadata": {},
   "outputs": [
    {
     "name": "stdout",
     "output_type": "stream",
     "text": [
      "False\n"
     ]
    }
   ],
   "source": [
    "def isAnagram(a, b):\n",
    "    if sorted(a) == sorted(b):\n",
    "        return True\n",
    "    else:\n",
    "        return False\n",
    "\n",
    "print(isAnagram('llove', 'lovee'))"
   ]
  },
  {
   "cell_type": "markdown",
   "metadata": {},
   "source": [
    "<h3>Question 3</h3>\n",
    "\n",
    "<p>3. Write a function that takes a sentence as an input parameter and displays the number of words in the sentence.</p>\n"
   ]
  },
  {
   "cell_type": "code",
   "execution_count": 20,
   "metadata": {},
   "outputs": [
    {
     "name": "stdout",
     "output_type": "stream",
     "text": [
      "Number of words: 5\n"
     ]
    }
   ],
   "source": [
    "def count_words(input_string):\n",
    "    word_count = 0\n",
    "    is_inside_word = False\n",
    "\n",
    "    for char in input_string:\n",
    "        if char in (' ', '\\n', '\\t'):\n",
    "            is_inside_word = False\n",
    "        elif not is_inside_word:\n",
    "            is_inside_word = True\n",
    "            word_count += 1\n",
    "\n",
    "    return word_count\n",
    "\n",
    "input_string = \"One two     three\\n four\\tfive \"\n",
    "print(\"Number of words:\", count_words(input_string))\n"
   ]
  },
  {
   "cell_type": "markdown",
   "metadata": {},
   "source": [
    "<h3>Question 4</h3>\n",
    "<p>4. Write a function that takes a sentence as an input parameter and replaces the first letter of every word with the corresponding uppercase letter and the rest of the letters in the word by corresponding letters in lowercase without using a builtin function.</p>"
   ]
  },
  {
   "cell_type": "code",
   "execution_count": 7,
   "metadata": {},
   "outputs": [
    {
     "name": "stdout",
     "output_type": "stream",
     "text": [
      "Hello World\n",
      "Hello World I Am Here\n"
     ]
    }
   ],
   "source": [
    "\n",
    "def capitalize(string):\n",
    "    new_string = ''\n",
    "    for i in range(len(string)):\n",
    "        if i == 0:\n",
    "            new_string += string[i].upper()\n",
    "        elif string[i-1] == ' ':\n",
    "            new_string += string[i].upper()\n",
    "        else:\n",
    "            new_string += string[i].lower()\n",
    "    return new_string\n",
    "\n",
    "def main():\n",
    "    print(capitalize('hello world'))\n",
    "    print(capitalize('hello world i am here'))\n",
    "\n",
    "if __name__ == \"__main__\":\n",
    "    main()"
   ]
  },
  {
   "cell_type": "code",
   "execution_count": null,
   "metadata": {},
   "outputs": [],
   "source": [
    "a= \"sunil\""
   ]
  },
  {
   "cell_type": "markdown",
   "metadata": {},
   "source": [
    "<h3>Question 5</h3>\n",
    "<p>5. Write a function that takes a string as an input and determines the count of the number of words using regular expressions.</p>"
   ]
  },
  {
   "cell_type": "code",
   "execution_count": 9,
   "metadata": {},
   "outputs": [
    {
     "name": "stdout",
     "output_type": "stream",
     "text": [
      "2\n",
      "5\n"
     ]
    }
   ],
   "source": [
    "'''Write a function that takes a string as an input and determines the count of the number of words using\n",
    "regular expression'''\n",
    "import re\n",
    "def word_count_regex(string):\n",
    "    return len(re.findall(r'\\w+', string))\n",
    "\n",
    "def main():\n",
    "    print(word_count_regex('Hello World'))\n",
    "    print(word_count_regex('Hello World I am here'))\n",
    "\n",
    "if __name__ == \"__main__\":\n",
    "    main()\n",
    "    "
   ]
  },
  {
   "cell_type": "markdown",
   "metadata": {},
   "source": [
    "\n",
    "<h3>Question 6</h3>\n",
    "<p>What will be the output on executing each of the statements, following the assignment statement:</p>\n",
    "<code>address = ’B-6, Lodhi road, Delhi’</code>\n",
    "<ol>\n",
    "  <li>a. <code>len(address)</code></li>\n",
    "  <li>b. <code>address[17:-1]</code></li>\n",
    "  <li>c. <code>address[-len(address): len(address)]</code></li>\n",
    "  <li>d. <code>address[:-12] + address[-12:]</code></li>\n",
    "  <li>e. <code>address.find(’delhi’)</code></li>\n",
    "  <li>f. <code>address.swapcase()</code></li>\n",
    "  <li>g. <code>address.split(’,’)</code></li>\n",
    "  <li>h. <code>address.isalpha()</code></li>\n",
    "</ol>\n"
   ]
  },
  {
   "cell_type": "code",
   "execution_count": 10,
   "metadata": {},
   "outputs": [
    {
     "name": "stdout",
     "output_type": "stream",
     "text": [
      "a. 22\n",
      "b. Delh\n",
      "c. B-6, Lodhi road, Delhi\n",
      "d. B-6, Lodhi road, Delhi\n",
      "e. 17\n",
      "f. b-6, lODHI ROAD, dELHI\n",
      "g. ['B-6', ' Lodhi road', ' Delhi']\n",
      "h. False\n"
     ]
    }
   ],
   "source": [
    "# Given assignment statement\n",
    "address = 'B-6, Lodhi road, Delhi'\n",
    "\n",
    "# a. len(address)\n",
    "print(\"a.\", len(address))\n",
    "\n",
    "# b. address[17:-1]\n",
    "print(\"b.\", address[17:-1])\n",
    "\n",
    "# c. address[-len(address): len(address)]\n",
    "print(\"c.\", address[-len(address): len(address)])\n",
    "\n",
    "# d. address[:-12] + address[-12:]\n",
    "print(\"d.\", address[:-12] + address[-12:])\n",
    "\n",
    "# e. address.find('delhi')\n",
    "print(\"e.\", address.find('Delhi'))\n",
    "\n",
    "# f. address.swapcase()\n",
    "print(\"f.\", address.swapcase())\n",
    "\n",
    "# g. address.split(',')\n",
    "print(\"g.\", address.split(','))\n",
    "\n",
    "# h. address.isalpha()\n",
    "print(\"h.\", address.isalpha())\n"
   ]
  },
  {
   "cell_type": "markdown",
   "metadata": {},
   "source": [
    "<h3>Question 7</h3>\n",
    "<p>Examine the following string:</p>\n",
    "<code>greeting = ’Good Morning. Have a Good Day!!’</code>\n",
    "<ol>\n",
    "  <li>a. <code>greeting.count(’Good’)</code></li>\n",
    "  <li>b. <code>greeting.find(’a’)</code></li>\n",
    "  <li>c. <code>greeting.rfind(’a’)</code></li>\n",
    "  <li>d. <code>greeting.capitalize()</code></li>\n",
    "  <li>e. <code>greeting.lower()</code></li>\n",
    "  <li>f. <code>greeting.upper()</code></li>\n",
    "  <li>g. <code>greeting.swapcase()</code></li>\n",
    "  <li>h. <code>greeting.istitle()</code></li>\n",
    "  <li>i. <code>greeting.replace(’Good’, ’Sweet’)</code></li>\n",
    "  <li>j. <code>greeting.strip()</code></li>\n",
    "  <li>k. <code>greeting.split()</code></li>\n",
    "  <li>l. <code>greeting.partition(’.’)</code></li>\n",
    "  li>m. <code>greeting.startswith(’good’)</code></li>\n",
    "  <li>n. <code>greeting.endswith(’!!’)</code></li>\n",
    "</ol>"
   ]
  },
  {
   "cell_type": "code",
   "execution_count": 21,
   "metadata": {},
   "outputs": [
    {
     "name": "stdout",
     "output_type": "stream",
     "text": [
      "a. 2\n",
      "b. 15\n",
      "c. 27\n",
      "d. Good morning. have a good day!!\n",
      "e. good morning. have a good day!!\n",
      "f. GOOD MORNING. HAVE A GOOD DAY!!\n",
      "g. gOOD mORNING. hAVE A gOOD dAY!!\n",
      "h. False\n",
      "i. Sweet Morning. Have a Sweet Day!!\n",
      "j. Good Morning. Have a Good Day!!\n",
      "k. ['Good', 'Morning.', 'Have', 'a', 'Good', 'Day!!']\n",
      "l. ('Good Morning', '.', ' Have a Good Day!!')\n",
      "m. True\n",
      "n. True\n"
     ]
    }
   ],
   "source": [
    "# Given string\n",
    "greeting = 'Good Morning. Have a Good Day!!'\n",
    "\n",
    "# a. greeting.count('Good')\n",
    "print(\"a.\", greeting.count('Good'))\n",
    "\n",
    "# b. greeting.find('a')\n",
    "print(\"b.\", greeting.find('a'))\n",
    "\n",
    "# c. greeting.rfind('a')\n",
    "print(\"c.\", greeting.rfind('a'))\n",
    "\n",
    "# d. greeting.capitalize()\n",
    "print(\"d.\", greeting.capitalize())\n",
    "\n",
    "# e. greeting.lower()\n",
    "print(\"e.\", greeting.lower())\n",
    "\n",
    "# f. greeting.upper()\n",
    "print(\"f.\", greeting.upper())\n",
    "\n",
    "# g. greeting.swapcase()\n",
    "print(\"g.\", greeting.swapcase())\n",
    "\n",
    "# h. greeting.istitle()\n",
    "print(\"h.\", greeting.istitle())\n",
    "\n",
    "# i. greeting.replace('Good', 'Sweet')\n",
    "print(\"i.\", greeting.replace('Good', 'Sweet'))\n",
    "\n",
    "# j. greeting.strip()\n",
    "print(\"j.\", greeting.strip())\n",
    "\n",
    "# k. greeting.split()\n",
    "print(\"k.\", greeting.split())\n",
    "\n",
    "# l. greeting.partition('.')\n",
    "print(\"l.\", greeting.partition('.'))\n",
    "\n",
    "# m. greeting.startswith('good')\n",
    "print(\"m.\", greeting.startswith('Good'))\n",
    "\n",
    "# n. greeting.endswith('!!')\n",
    "print(\"n.\", greeting.endswith('!!'))\n"
   ]
  },
  {
   "cell_type": "markdown",
   "metadata": {},
   "source": [
    "<h3>Question 8</h3>"
   ]
  },
  {
   "cell_type": "markdown",
   "metadata": {},
   "source": [
    "<h3>Part A</h3>\n",
    "<ol>\n",
    "  <li>string1 = ’Python Programming Language’</li>\n",
    "  <ol>\n",
    "    <li>match1 = <code>re.search(’......m?’, string1)</code><br><code>print(match1.group())</code></li>\n",
    "    <li>match2 = <code>re.search(’......m{1,2}’, string1)</code><br><code>print(match2.group())</code></li>\n",
    "    <li>match3 = <code>re.search(’.*Language$’, string1)</code><br><code>print(match3.group())</code></li>\n",
    "    <li>match4 = <code>re.search(’\\w*\\s\\w*’, string1)</code><br><code>print(match4.group())</code></li>\n",
    "    <li>match5 = <code>re.search(’.*’, string1)</code><br><code>print(match5.group())</code></li>\n",
    "  </ol>\n",
    "</ol>\n"
   ]
  },
  {
   "cell_type": "code",
   "execution_count": 2,
   "metadata": {},
   "outputs": [
    {
     "name": "stdout",
     "output_type": "stream",
     "text": [
      "1. Python\n",
      "2. Programm\n",
      "3. Python Programming Language\n",
      "4. Python Programming\n",
      "5. Python Programming Language\n"
     ]
    }
   ],
   "source": [
    "import re\n",
    "\n",
    "# For string1 = 'Python Programming Language'\n",
    "string1 = 'Python Programming Language'\n",
    "\n",
    "# 1. match1 = re.search('......m?', string1)\n",
    "match1 = re.search('......m?', string1)\n",
    "print(\"1.\", match1.group())\n",
    "\n",
    "# 2. match2 = re.search('......m{1,2}', string1)\n",
    "match2 = re.search('......m{1,2}', string1)\n",
    "print(\"2.\", match2.group())\n",
    "\n",
    "# 3. match3 = re.search('.*Language$', string1)\n",
    "match3 = re.search('.*Language$', string1)\n",
    "print(\"3.\", match3.group())\n",
    "\n",
    "# 4. match4 = re.search('\\w*\\s\\w*', string1)\n",
    "match4 = re.search('\\w*\\s\\w*', string1)\n",
    "print(\"4.\", match4.group())\n",
    "\n",
    "# 5. match5 = re.search('.*', string1)\n",
    "match5 = re.search('.*', string1)\n",
    "print(\"5.\", match5.group())"
   ]
  },
  {
   "cell_type": "markdown",
   "metadata": {},
   "source": [
    "<h3>Part B</h3>\n",
    "<ol>\n",
    "  <li>string2 = ’Car Number DL5645’</li>\n",
    "  <ol>\n",
    "    <li>match1 = <code>re.search(’\\w\\w?\\d{1,4}’, string2)</code><br><code>print(match1.group())</code></li>\n",
    "    <li>match2 = <code>re.search(’.*5’, string2)</code><br><code>print(match2.group())</code></li>\n",
    "    <li>match3 = <code>re.search(’.*5?’, string2)</code><br><code>print(match3.group())</code></li>\n",
    "    <li>match4 = <code>re.search(’\\d{3}’, string2)</code><br><code>print(match4.group())</code></li>\n",
    "    <li>match5 = <code>re.search(’ˆ C.*5$’, string2)</code><br><code>print(match5.group())</code></li>\n",
    "  </ol>\n",
    "</ol>\n"
   ]
  },
  {
   "cell_type": "code",
   "execution_count": 5,
   "metadata": {},
   "outputs": [
    {
     "name": "stdout",
     "output_type": "stream",
     "text": [
      "6. DL5645\n",
      "7. Car Number DL5645\n",
      "8. Car Number DL5645\n",
      "9. 564\n",
      "10. Car Number DL5645\n"
     ]
    }
   ],
   "source": [
    "# For string2 = 'Car Number DL5645'\n",
    "string2 = 'Car Number DL5645'\n",
    "\n",
    "# 1. match1 = re.search('\\w\\w?\\d{1,4}', string2)\n",
    "match1 = re.search('\\w\\w?\\d{1,4}', string2)\n",
    "print(\"6.\", match1.group())\n",
    "\n",
    "# 2. match2 = re.search('.*5', string2)\n",
    "match2 = re.search('.*5', string2)\n",
    "print(\"7.\", match2.group())\n",
    "\n",
    "# 3. match3 = re.search('.*5?', string2)\n",
    "match3 = re.search('.*5?', string2)\n",
    "print(\"8.\", match3.group())\n",
    "\n",
    "# 4. match4 = re.search('\\d{3}', string2)\n",
    "match4 = re.search('\\d{3}', string2)\n",
    "print(\"9.\", match4.group())\n",
    "\n",
    "# 5. match5 = re.search('^ C.*5$', string2)\n",
    "match5 = re.search('^C.*5$', string2)\n",
    "print(\"10.\", match5.group())\n"
   ]
  },
  {
   "cell_type": "markdown",
   "metadata": {},
   "source": [
    "<h3>Part C</h3>\n",
    "<ol>\n",
    "  <li>string3 = ’cdcccdcddd343344aabb’</li>\n",
    "  <ol>\n",
    "    <li>match1 = <code>re.search(’(c|d)*\\d*(a|b)*’, string3)</code><br><code>print(match1.group())</code></li>\n",
    "    <li>match2 = <code>re.search(’(cd)*d’, string3)</code><br><code>print(match2.group())</code></li>\n",
    "    <li>match3 = <code>re.search(’(cc|cd)*(3|4)*(aa|bb)’, string3)</code><br><code>print(match3.group())</code></li>\n",
    "    <li>match4 = <code>re.search(’(cc|cd|dd)*(3|4)*(aa|bb)’, string3)</code><br><code>print(match4.group())</code></li>\n",
    "    <li>match5 = <code>re.search(’(cc|cd|dd)*(3|4)*(aa|bb)*’, string3)</code><br><code>print(match5.group())</code></li>\n",
    "  </ol>\n",
    "</ol>\n"
   ]
  },
  {
   "cell_type": "code",
   "execution_count": 12,
   "metadata": {},
   "outputs": [
    {
     "name": "stdout",
     "output_type": "stream",
     "text": [
      "11. cdcccdcddd343344aabb\n",
      "12. d\n",
      "13. 343344aa\n",
      "14. cdcccdcddd343344aa\n",
      "15. cdcccdcddd343344aabb\n"
     ]
    }
   ],
   "source": [
    "# For string3 = 'cdcccdcddd343344aabb'\n",
    "string3 = 'cdcccdcddd343344aabb'\n",
    "\n",
    "# 1. match1 = re.search('(c|d)*\\d*(a|b)*', string3)\n",
    "match1 = re.search('(c|d)*\\d*(a|b)*', string3)\n",
    "print(\"11.\", match1.group())\n",
    "\n",
    "# 2. match2 = re.search('(cd)*d', string3)\n",
    "match2 = re.search('(cd)*d', string3)\n",
    "print(\"12.\", match2.group())\n",
    "\n",
    "# 3. match3 = re.search('(cc|cd)*(3|4)*(aa|bb)', string3)\n",
    "match3 = re.search('(cc|cd)*(3|4)*(aa|bb)', string3)\n",
    "print(\"13.\", match3.group())\n",
    "\n",
    "# 4. match4 = re.search('(cc|cd|dd)*(3|4)*(aa|bb)', string3)\n",
    "match4 = re.search('(cc|cd|dd)*(3|4)*(aa|bb)', string3)\n",
    "print(\"14.\", match4.group())\n",
    "\n",
    "# 5. match5 = re.search('(cc|cd|dd)*(3|4)*(aa|bb)*', string3)\n",
    "match5 = re.search('(cc|cd|dd)*(3|4)*(aa|bb)*', string3)\n",
    "print(\"15.\", match5.group())"
   ]
  },
  {
   "cell_type": "markdown",
   "metadata": {},
   "source": [
    "<h3>Question 9</h3>"
   ]
  },
  {
   "cell_type": "markdown",
   "metadata": {},
   "source": [
    " <li>a. Reverse a string</li>"
   ]
  },
  {
   "cell_type": "code",
   "execution_count": 1,
   "metadata": {},
   "outputs": [
    {
     "name": "stdout",
     "output_type": "stream",
     "text": [
      "reti ot emoclew\n"
     ]
    }
   ],
   "source": [
    "def reverse_string(input_str):\n",
    "    return input_str[::-1]\n",
    "\n",
    "# Example usage:\n",
    "input_data = 'welcome to iter'\n",
    "output = reverse_string(input_data)\n",
    "print(output)"
   ]
  },
  {
   "cell_type": "markdown",
   "metadata": {},
   "source": [
    "<li>b. Reverse a string without reversing the words.</li>"
   ]
  },
  {
   "cell_type": "code",
   "execution_count": 16,
   "metadata": {},
   "outputs": [
    {
     "name": "stdout",
     "output_type": "stream",
     "text": [
      "iter to welcome\n"
     ]
    }
   ],
   "source": [
    "def reverse_string_word_by_word(input_str):\n",
    "   \n",
    "    words = input_str.split()\n",
    "    reversed_words = words[::-1]\n",
    "    reversed_string = ' '.join(reversed_words)\n",
    "    return reversed_string\n",
    "\n",
    "# Example usage:\n",
    "input_data = 'welcome to iter'\n",
    "output = reverse_string_word_by_word(input_data)\n",
    "print(output)\n"
   ]
  },
  {
   "cell_type": "markdown",
   "metadata": {},
   "source": [
    "<li>c. Check if a string is symmetric or asymmetric</li>"
   ]
  },
  {
   "cell_type": "code",
   "execution_count": 20,
   "metadata": {},
   "outputs": [
    {
     "name": "stdout",
     "output_type": "stream",
     "text": [
      "The string is symmetric\n"
     ]
    }
   ],
   "source": [
    "def is_symmetric(s):\n",
    "    return s == s[::-1]\n",
    "\n",
    "# Example usage:\n",
    "string1 = \"radar\"\n",
    "result1 = is_symmetric(string1)\n",
    "if result1:\n",
    "    print(f\"{string1} is symmetric.\")\n",
    "else:\n",
    "    print(f\"{string1} is asymmetric.\")\n",
    "\n"
   ]
  },
  {
   "cell_type": "markdown",
   "metadata": {},
   "source": [
    "<li>d. Check if a string is palindrome.</li>"
   ]
  },
  {
   "cell_type": "code",
   "execution_count": 2,
   "metadata": {},
   "outputs": [
    {
     "name": "stdout",
     "output_type": "stream",
     "text": [
      "racecar is a palindrome.\n"
     ]
    }
   ],
   "source": [
    "def is_palindrome(s):\n",
    "    return s == s[::-1]\n",
    "\n",
    "# Example usage:\n",
    "word = \"racecar\"\n",
    "result = is_palindrome(word)\n",
    "\n",
    "if result:\n",
    "    print(f\"{word} is a palindrome.\")\n",
    "else:\n",
    "    print(f\"{word} is not a palindrome.\")\n"
   ]
  },
  {
   "cell_type": "markdown",
   "metadata": {},
   "source": [
    "<li>e. Given a string s and index i, delete ith value from s</li>"
   ]
  },
  {
   "cell_type": "code",
   "execution_count": 21,
   "metadata": {},
   "outputs": [
    {
     "name": "stdout",
     "output_type": "stream",
     "text": [
      "abdef\n"
     ]
    }
   ],
   "source": [
    "def delete_char_at_index(input_str, index):\n",
    "    if 0 <= index < len(input_str):\n",
    "        return input_str[:index] + input_str[index+1:]\n",
    "    else:\n",
    "        return \"Invalid index\"\n",
    "\n",
    "# Example usage:\n",
    "input_data = 'abcdef'\n",
    "index_to_delete = 2\n",
    "output = delete_char_at_index(input_data, index_to_delete)\n",
    "print(output)"
   ]
  },
  {
   "cell_type": "markdown",
   "metadata": {},
   "source": [
    " <li>f. Count the number of vowels and consonants in a string.</li>"
   ]
  },
  {
   "cell_type": "code",
   "execution_count": 14,
   "metadata": {},
   "outputs": [
    {
     "name": "stdout",
     "output_type": "stream",
     "text": [
      "Vowels: 3, Consonants: 7\n"
     ]
    }
   ],
   "source": [
    "def count_vowels_consonants(input_str):\n",
    "    # Define a string containing all vowels\n",
    "    vowels = \"aeiouAEIOU\"\n",
    "\n",
    "    # Step 1: Count the number of vowels in the input string\n",
    "    vowel_count = sum(1 for char in input_str if char in vowels)\n",
    "\n",
    "    # Step 2: Count the number of consonants in the input string\n",
    "    consonant_count = sum(1 for char in input_str if char.isalpha() and char not in vowels)\n",
    "\n",
    "    # Step 3: Return the counts of vowels and consonants\n",
    "    return vowel_count, consonant_count\n",
    "\n",
    "# Example usage:\n",
    "input_data = 'hello World'\n",
    "vowels, consonants = count_vowels_consonants(input_data)\n",
    "\n",
    "# Display the result\n",
    "print(f\"In the string '{input_data}':\")\n",
    "print(f\"Vowels: {vowels}, Consonants: {consonants}\")\n"
   ]
  },
  {
   "cell_type": "markdown",
   "metadata": {},
   "source": [
    "  <li>g. Find length of a string without using inbuilt function.</li>"
   ]
  },
  {
   "cell_type": "code",
   "execution_count": 15,
   "metadata": {},
   "outputs": [
    {
     "name": "stdout",
     "output_type": "stream",
     "text": [
      "6\n"
     ]
    }
   ],
   "source": [
    "def find_string_length(input_str):\n",
    "    length = 0\n",
    "    for char in input_str:\n",
    "        length += 1\n",
    "    return length\n",
    "\n",
    "# Example usage:\n",
    "input_data = 'abcdef'\n",
    "output = find_string_length(input_data)\n",
    "print(output)"
   ]
  },
  {
   "cell_type": "markdown",
   "metadata": {},
   "source": [
    "  <li>h. Check if a string contains at least one digit and one alphabet.</li>"
   ]
  },
  {
   "cell_type": "code",
   "execution_count": 16,
   "metadata": {},
   "outputs": [
    {
     "name": "stdout",
     "output_type": "stream",
     "text": [
      "True\n"
     ]
    }
   ],
   "source": [
    "def contains_digit_and_alphabet(input_str):\n",
    "    has_digit = any(char.isdigit() for char in input_str)\n",
    "    has_alphabet = any(char.isalpha() for char in input_str)\n",
    "    return has_digit and has_alphabet\n",
    "\n",
    "# Example usage:\n",
    "input_data = 'abc123'\n",
    "output = contains_digit_and_alphabet(input_data)\n",
    "print(output)"
   ]
  },
  {
   "cell_type": "markdown",
   "metadata": {},
   "source": [
    "<li>i. Remove duplicates from a string.</li>"
   ]
  },
  {
   "cell_type": "code",
   "execution_count": 22,
   "metadata": {},
   "outputs": [
    {
     "name": "stdout",
     "output_type": "stream",
     "text": [
      "abc\n"
     ]
    }
   ],
   "source": [
    "def remove_duplicates(input_str):\n",
    "    unique_chars = ''\n",
    "    for char in input_str:\n",
    "        if char not in unique_chars:\n",
    "            unique_chars += char\n",
    "    return unique_chars\n",
    "\n",
    "# Example usage:\n",
    "input_data = 'abcaab'\n",
    "output = remove_duplicates(input_data)\n",
    "print(output)\n"
   ]
  },
  {
   "cell_type": "markdown",
   "metadata": {},
   "source": [
    "  <li>j. Count frequency of characters in a string.</li>"
   ]
  },
  {
   "cell_type": "code",
   "execution_count": 1,
   "metadata": {},
   "outputs": [
    {
     "name": "stdout",
     "output_type": "stream",
     "text": [
      "{'a': 3, 'b': 2, 'c': 1}\n"
     ]
    }
   ],
   "source": [
    "def count_character_frequency(input_str):\n",
    "    dict = {}\n",
    "    for char in input_str:\n",
    "        dict[char] = dict.get(char, 0) + 1\n",
    "    return dict\n",
    "\n",
    "\n",
    "input_data = 'abcaab'\n",
    "output = count_character_frequency(input_data)\n",
    "print(output)"
   ]
  },
  {
   "cell_type": "markdown",
   "metadata": {},
   "source": [
    "<li>k. Find the character having maximum frequency in a string.</li>"
   ]
  },
  {
   "cell_type": "code",
   "execution_count": 24,
   "metadata": {},
   "outputs": [
    {
     "name": "stdout",
     "output_type": "stream",
     "text": [
      "a\n"
     ]
    }
   ],
   "source": [
    "def max_frequency_char(input_str):\n",
    "    dict = count_character_frequency(input_str)\n",
    "    max_char = max(dict, key=frequency_dict.get)\n",
    "    return max_char\n",
    "    \n",
    "input_data = 'abcaab'\n",
    "output = max_frequency_char(input_data)\n",
    "print(output)"
   ]
  },
  {
   "cell_type": "code",
   "execution_count": null,
   "metadata": {},
   "outputs": [],
   "source": []
  }
 ],
 "metadata": {
  "kernelspec": {
   "display_name": "tf_gpu",
   "language": "python",
   "name": "python3"
  },
  "language_info": {
   "codemirror_mode": {
    "name": "ipython",
    "version": 3
   },
   "file_extension": ".py",
   "mimetype": "text/x-python",
   "name": "python",
   "nbconvert_exporter": "python",
   "pygments_lexer": "ipython3",
   "version": "3.9.0"
  }
 },
 "nbformat": 4,
 "nbformat_minor": 2
}
