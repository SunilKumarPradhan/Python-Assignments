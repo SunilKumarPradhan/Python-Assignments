{
 "cells": [
  {
   "cell_type": "markdown",
   "metadata": {},
   "source": [
    "<h4>Question 1</h4>\n",
    "<p>Evaluate the following expressions:\n",
    "<br>(x &lt; y) or (not(z == y) and (z &lt; x))\n",
    "<br>a. x = 0, y = 6, z = 10\n",
    "<br>b. x = 1, y = 1, z = 1</p>"
   ]
  },
  {
   "cell_type": "code",
   "execution_count": null,
   "metadata": {},
   "outputs": [],
   "source": [
    "# Given values\n",
    "x = 0\n",
    "y = 6\n",
    "z = 10\n",
    "\n",
    "# Expression\n",
    "result = (x < y) or (not(z == y) and (z < x))\n",
    "\n",
    "# Displaying the result\n",
    "print(result)\n"
   ]
  },
  {
   "cell_type": "code",
   "execution_count": null,
   "metadata": {},
   "outputs": [],
   "source": [
    "# Given values\n",
    "x = 1\n",
    "y = 1\n",
    "z = 1\n",
    "\n",
    "# Expression\n",
    "result = (x < y) or (not(z == y) and (z < x))\n",
    "\n",
    "# Displaying the result\n",
    "print(result)\n"
   ]
  },
  {
   "cell_type": "markdown",
   "metadata": {},
   "source": [
    "<h4>Question 2</h4>\n",
    "<p>Evaluate the following expressions involving arithmetic operators:</p>\n",
    "<ol>\n",
    "  <li>a. -7*20 + 8/16*2 + 54</li>\n",
    "  <li>b. 7**2 // 9 % 3</li>\n",
    "  <li>c. (7 - 4*2)*10 - 25*8 // 5</li>\n",
    "  <li>d. 5 % 10 + 10 - 25*8 // 5</li>\n",
    "  <li>e. 'hello'*2 - 5</li>\n",
    "</ol>"
   ]
  },
  {
   "cell_type": "code",
   "execution_count": 1,
   "metadata": {},
   "outputs": [
    {
     "name": "stdout",
     "output_type": "stream",
     "text": [
      "a. -85.0\n",
      "b. 2\n",
      "c. -50\n",
      "d. -25\n"
     ]
    },
    {
     "ename": "TypeError",
     "evalue": "unsupported operand type(s) for -: 'str' and 'int'",
     "output_type": "error",
     "traceback": [
      "\u001b[1;31m---------------------------------------------------------------------------\u001b[0m",
      "\u001b[1;31mTypeError\u001b[0m                                 Traceback (most recent call last)",
      "Cell \u001b[1;32mIn[1], line 18\u001b[0m\n\u001b[0;32m     15\u001b[0m \u001b[38;5;28mprint\u001b[39m(\u001b[38;5;124m\"\u001b[39m\u001b[38;5;124md.\u001b[39m\u001b[38;5;124m\"\u001b[39m,expr_d)\n\u001b[0;32m     17\u001b[0m \u001b[38;5;66;03m# Expression e\u001b[39;00m\n\u001b[1;32m---> 18\u001b[0m expr_e \u001b[38;5;241m=\u001b[39m \u001b[38;5;124;43m'\u001b[39;49m\u001b[38;5;124;43mhello\u001b[39;49m\u001b[38;5;124;43m'\u001b[39;49m\u001b[43m \u001b[49m\u001b[38;5;241;43m*\u001b[39;49m\u001b[43m \u001b[49m\u001b[38;5;241;43m2\u001b[39;49m\u001b[43m \u001b[49m\u001b[38;5;241;43m-\u001b[39;49m\u001b[43m \u001b[49m\u001b[38;5;241;43m5\u001b[39;49m  \n\u001b[0;32m     19\u001b[0m \u001b[38;5;66;03m# This will cause an error.\u001b[39;00m\n\u001b[0;32m     20\u001b[0m \u001b[38;5;66;03m# The expression 'hello' * 2 will result in 'hellohello'\u001b[39;00m\n\u001b[0;32m     21\u001b[0m \u001b[38;5;66;03m# The expression 'hellohello' - 5 will cause an error because you cannot subtract a number from a string.\u001b[39;00m\n\u001b[0;32m     22\u001b[0m \u001b[38;5;28mprint\u001b[39m(\u001b[38;5;124m\"\u001b[39m\u001b[38;5;124me.\u001b[39m\u001b[38;5;124m\"\u001b[39m, expr_e)\n",
      "\u001b[1;31mTypeError\u001b[0m: unsupported operand type(s) for -: 'str' and 'int'"
     ]
    }
   ],
   "source": [
    "# Expression a\n",
    "expr_a = -7 * 20 + 8 / 16 * 2 + 54\n",
    "print(\"a.\",expr_a)\n",
    "\n",
    "# Expression b\n",
    "expr_b = 7 ** 2 // 9 % 3\n",
    "print(\"b.\",expr_b)\n",
    "\n",
    "# Expression c\n",
    "expr_c = (7 - 4 * 2) * 10 - 25 * 8 // 5\n",
    "print(\"c.\", expr_c)\n",
    "\n",
    "# Expression d\n",
    "expr_d = 5 % 10 + 10 - 25 * 8 // 5\n",
    "print(\"d.\",expr_d)\n",
    "\n",
    "# Expression e\n",
    "expr_e = 'hello' * 2 - 5  \n",
    "# This will cause an error.\n",
    "# The expression 'hello' * 2 will result in 'hellohello'\n",
    "# The expression 'hellohello' - 5 will cause an error because you cannot subtract a number from a string.\n",
    "print(\"e.\", expr_e)"
   ]
  },
  {
   "cell_type": "markdown",
   "metadata": {},
   "source": [
    "<h4>Question 3</h4>\n",
    "<p>Evaluate the following expressions involving relational and logical operators:</p>\n",
    "<ol>\n",
    "  <li>a. <code>&gt;&gt;&gt;'hi' &gt; 'hello' and 'bye' &lt; 'Bye'</code></li>\n",
    "  <li>b. <code>&gt;&gt;&gt;'hi' &gt; 'hello' or 'bye' &lt; 'Bye'</code></li>\n",
    "  <li>c.<code>&gt;&gt;&gt; 7 &gt; 8 or 5 &lt; 6 and 'I am fine' &gt; 'I am not fine'</code></li>\n",
    "  <li>d.<code>&gt;&gt;&gt; 10 != 9 and 29 &gt;= 29</code></li>\n",
    "  <li>e. <code>&gt;&gt;&gt;10 != 9 and 29 &gt;= 29 and 'hi' &gt; 'hello' or 'bye' &lt; 'Bye' and 7 &lt;= 2.5</code></li>\n",
    "</ol>"
   ]
  },
  {
   "cell_type": "code",
   "execution_count": 2,
   "metadata": {},
   "outputs": [
    {
     "name": "stdout",
     "output_type": "stream",
     "text": [
      "a. False\n",
      "b. True\n",
      "c. False\n",
      "d. True\n",
      "e. True\n"
     ]
    }
   ],
   "source": [
    "# Expression a\n",
    "expr_a = 'hi' > 'hello' and 'bye' < 'Bye'\n",
    "print(\"a.\", expr_a)\n",
    "\n",
    "# Expression b\n",
    "expr_b = 'hi' > 'hello' or 'bye' < 'Bye'\n",
    "print(\"b.\", expr_b)\n",
    "\n",
    "# Expression c\n",
    "expr_c = 7 > 8 or 5 < 6 and 'I am fine' > 'I am not fine'\n",
    "print(\"c.\", expr_c)\n",
    "\n",
    "# Expression d\n",
    "expr_d = 10 != 9 and 29 >= 29\n",
    "print(\"d.\", expr_d)\n",
    "\n",
    "# Expression e\n",
    "expr_e = 10 != 9 and 29 >= 29 and 'hi' > 'hello' or 'bye' < 'Bye' and 7 <= 2.5\n",
    "print(\"e.\", expr_e)\n"
   ]
  },
  {
   "cell_type": "markdown",
   "metadata": {},
   "source": [
    "<h4>Question 4</h4>\n",
    "<p>Evaluate the following expressions involving arithmetic, relational, and logical operators:</p>\n",
    "<ol>\n",
    "  <li>a. <code>&gt;&gt;&gt;5 % 10 + 10 &lt; 50 and 29 &gt;= 29</code></li>\n",
    "  <li>b. <code>&gt;&gt;&gt;7**2 &lt;= 5 // 9 % 3 or 'bye' &lt; 'Bye'</code></li>\n",
    "  <li>c. <code>&gt;&gt;&gt;5 % 10 &lt; 8 and -25 &gt; 1 * 8 // 5</code></li>\n",
    "  <li>d. <code>&gt;&gt;&gt;7**2 // 4 + 5 &gt; 8 or 5 != 6</code></li>\n",
    "  <li>e. <code>&gt;&gt;&gt;/4 &lt; 6 and 'I am fine' &gt; 'I am not fine'</code></li>\n",
    "  <li>f. <code>&gt;&gt;&gt;10 + 6 * 2**2 != 9 // 4 - 3 and 29 &gt;= 29/9</code></li>\n",
    "  <li>g. <code>&gt;&gt;&gt;'hello' * 5 &gt; 'hello' or 'bye' &lt; 'Bye'</code></li>\n",
    "</ol>"
   ]
  },
  {
   "cell_type": "code",
   "execution_count": 1,
   "metadata": {},
   "outputs": [
    {
     "name": "stdout",
     "output_type": "stream",
     "text": [
      "a. Result: True\n",
      "b. Result: False\n",
      "c. Result: False\n",
      "d. Result: True\n",
      "e. Result: False\n",
      "f. Result: True\n",
      "g. Result: True\n"
     ]
    }
   ],
   "source": [
    "\n",
    "expr_a = 5 % 10 + 10 < 50 and 29 >= 29\n",
    "print(\"a. Result:\", expr_a)\n",
    "\n",
    "\n",
    "# Expression b\n",
    "expr_b = 7 ** 2 <= 5 // 9 % 3 or 'bye' < 'Bye'\n",
    "print(\"b. Result:\", expr_b)\n",
    "# 49 <= 0 or 'bye'(b:98) < 'Bye'(B:66)\n",
    "# False or False\n",
    "# Result: False\n",
    "\n",
    "# Expression c\n",
    "expr_c = 5 % 10 < 8 and -25 > 1 * 8 // 5\n",
    "print(\"c. Result:\", expr_c)\n",
    "# 0 < 8 and -25 > 8 // 5\n",
    "# 0 < 8 and -25 > 1\n",
    "# True and False\n",
    "# Result: False\n",
    "\n",
    "# Expression d\n",
    "expr_d = 7 ** 2 // 4 + 5 > 8 or 5 != 6\n",
    "print(\"d. Result:\", expr_d)\n",
    "# 49 // 4 + 5 > 8 or 5 != 6\n",
    "# 12 + 5 > 8 or True\n",
    "# True or True\n",
    "# Result: True\n",
    "\n",
    "# Expression e\n",
    "expr_e = 7/4 < 6 and 'I am fine' > 'I am not fine'\n",
    "print(\"e. Result:\", expr_e)\n",
    "# 1.75 < 6 and 'I am fine' > 'I am not fine'\n",
    "# True and False\n",
    "# Result: False\n",
    "\n",
    "# Expression f\n",
    "expr_f = 10 + 6 * 2 ** 2 != 9 // 4 - 3 and 29 >= 29/9\n",
    "print(\"f. Result:\", expr_f)\n",
    "# 10 + 6 * 4 != 2 - 3 and 29 >= 29/9\n",
    "# 10 + 24 != -1 and 29 >= 3.2222222222222223\n",
    "# 34 != -1 and True\n",
    "# True and True\n",
    "# Result: True\n",
    "\n",
    "# Expression g\n",
    "expr_g = 'hello' * 5 > 'hello' or 'bye' < 'Bye'\n",
    "print(\"g. Result:\", expr_g)\n",
    "# 'hellohellohellohellohello' > 'hello' or 'bye' < 'Bye'\n",
    "# True or True\n",
    "# Result: True\n"
   ]
  },
  {
   "cell_type": "markdown",
   "metadata": {},
   "source": [
    "<h4>Question 5</h4>\n",
    "<p>Evaluate the following expressions involving bitwise operators:\n",
    "<ol>\n",
    "<li>a.<code>&gt;&gt;&gt; 15 & 22</code></li>\n",
    "<li>b.<code>&gt;&gt;&gt; 15 | 22</code></li>\n",
    "<li>c.<code>&gt;&gt;&gt; -15 & 22</code></li>\n",
    "<li>d.<code>&gt;&gt;&gt;-15 | 22</code></li>\n",
    "<li>e.<code>&gt;&gt;&gt; ∼ 15</code></li>\n",
    "<li>f.<code>&gt;&gt;&gt; ∼ 22</code></li>\n",
    "<li>g.<code>&gt;&gt;&gt;∼ −20</code></li>\n",
    "<li>h.<code>&gt;&gt;&gt; 15 22</code></li>\n",
    "<li>i.<code>&gt;&gt;&gt;8 << 3</code></li>\n",
    "<li>j.<code>&gt;&gt;&gt;40 >> 3</code></li>\n",
    "</ol>\n",
    "</p>"
   ]
  },
  {
   "cell_type": "code",
   "execution_count": 6,
   "metadata": {},
   "outputs": [
    {
     "name": "stdout",
     "output_type": "stream",
     "text": [
      "a. Result: 6\n",
      "b. Result: 31\n",
      "c. Result: 16\n",
      "d. Result: 10\n",
      "e. Result: -16\n",
      "f. Result: -23\n",
      "g. Result: 19\n",
      "h. Result: 25\n",
      "i. Result: 64\n",
      "j. Result: 5\n"
     ]
    }
   ],
   "source": [
    "# Expression a\n",
    "expr_a = 15 & 22\n",
    "print(\"a. Result:\", expr_a)\n",
    "\n",
    "# Expression b\n",
    "expr_b = 15 | 22\n",
    "print(\"b. Result:\", expr_b)\n",
    "\n",
    "# Expression c\n",
    "expr_c = -15 & 22\n",
    "print(\"c. Result:\", expr_c)\n",
    "\n",
    "# Expression d\n",
    "expr_d =  15 & -22\n",
    "print(\"d. Result:\", expr_d)\n",
    "\n",
    "# Expression e\n",
    "expr_e = ~15\n",
    "print(\"e. Result:\", expr_e)\n",
    "\n",
    "# Expression f\n",
    "expr_f = ~22\n",
    "print(\"f. Result:\", expr_f)\n",
    "\n",
    "# Expression g\n",
    "expr_g = ~ -20\n",
    "print(\"g. Result:\", expr_g)\n",
    "\n",
    "# Expression h\n",
    "expr_h = 15 ^ 22\n",
    "print(\"h. Result:\", expr_h)\n",
    "\n",
    "# Expression i\n",
    "expr_i = 8 << 3\n",
    "print(\"i. Result:\", expr_i)\n",
    "\n",
    "# Expression j\n",
    "expr_j = 40 >> 3\n",
    "print(\"j. Result:\", expr_j)\n"
   ]
  },
  {
   "cell_type": "markdown",
   "metadata": {},
   "source": [
    "<h4>Question 6</h4>\n",
    "\n",
    "<p>Differentiate between the following operators with the help of examples:</p>\n",
    "<ol>\n",
    "  <li><code>a. = and ==</code></li>\n",
    "  <li><code>b. / and %</code></li>\n",
    "  <li><code>c. / and //</code></li>\n",
    "  <li><code>d. * and **</code></li>\n",
    "</ol>\n",
    "\n",
    "\n",
    "\n",
    "\n",
    "\n",
    "</html>\n"
   ]
  },
  {
   "cell_type": "markdown",
   "metadata": {},
   "source": [
    "<p>a. = and ==\n",
    "= is the assignment operator, used to assign a value to a variable.\n",
    "== is the equality operator, used to check if two values are equal.\n",
    "\n",
    "b. / and %\n",
    "/ is the division operator, used for division.\n",
    "% is the modulus operator, used to get the remainder after division.\n",
    "\n",
    "c. / and //\n",
    "/ is the division operator, as mentioned earlier.\n",
    "// is the floor division operator, which performs division and rounds down to the nearest integer.\n",
    "\n",
    "d. * and **\n",
    "<br>* is the multiplication operator, used for multiplication.\n",
    "<br>** is the exponentiation operator, used to raise a number to the power of another.\n",
    "</p>"
   ]
  },
  {
   "cell_type": "markdown",
   "metadata": {},
   "source": [
    "<h2>Explanation of the above</h2>\n",
    "result x = 10  # Assigns the value 10 to the variable x\n",
    "\n",
    "result = (a == b)  # Checks if the values of a and b are equal\n",
    "<hr>\n",
    "result = 15 / 2  # Performs division, result is 7.5\n",
    "\n",
    "remainder = 15 % 2  # Gets the remainder after dividing 15 by 2, result is 1\n",
    "<hr>\n",
    "result = 15 / 2  # Performs division, result is 7.5\n",
    "\n",
    "result = 15 // 2  # Performs floor division, result is 7\n",
    "<hr>\n",
    "result = 3 * 4  # Performs multiplication, result is 12\n",
    "\n",
    "result = 2 ** 3  # Raises 2 to the power of 3, result is 8\n",
    "\n"
   ]
  },
  {
   "cell_type": "markdown",
   "metadata": {},
   "source": [
    "\n",
    "<h4>Question 7</h4>\n",
    "<p>What output will be displayed when the following commands are executed in the Python shell in sequence:</p>\n",
    "<h2>Part A</h2>\n",
    "<ol>\n",
    "  <li><code>&gt;&gt;&gt; a = 6</code></li>\n",
    "  <li><code>&gt;&gt;&gt; a == 6</code></li>\n",
    "  <li><code>&gt;&gt;&gt; a &lt; 5.9</code></li>\n",
    "  <li><code>&gt;&gt;&gt; a &gt; 5.9</code></li>\n",
    "</ol>\n",
    "</html>"
   ]
  },
  {
   "cell_type": "markdown",
   "metadata": {},
   "source": [
    "<h2>Answers</h2>\n",
    "<ol>\n",
    "<li><code>&gt;&gt;&gt; a=6</code></li>\n",
    "<li><code>&gt;&gt;&gt; a==6</code></li>\n",
    "True\n",
    "<li><code>&gt;&gt;&gt; a &lt; 5.9</code></li>\n",
    "False\n",
    "<li><code>&gt;&gt;&gt; a &gt; 5.9</code></li>\n",
    "True\n",
    "<ol>\n",
    "\n"
   ]
  },
  {
   "cell_type": "markdown",
   "metadata": {},
   "source": [
    "<h2>Part B</h2>\n",
    "<ol>\n",
    "  <li><code>&gt;&gt;&gt; b = 7</code></li>\n",
    "  <li><code>&gt;&gt;&gt; b / 6</code></li>\n",
    "  <li><code>&gt;&gt;&gt; b // 6</code></li>\n",
    "  <li><code>&gt;&gt;&gt; b / 4</code></li>\n",
    "  <li><code>&gt;&gt;&gt; b % 4</code></li>\n",
    "  <li><code>&gt;&gt;&gt; b % 7</code></li>\n",
    "  <li><code>&gt;&gt;&gt; b * 2</code></li>\n",
    "  <li><code>&gt;&gt;&gt; b ** 2</code></li>\n",
    "</ol>\n",
    "</html>"
   ]
  },
  {
   "cell_type": "markdown",
   "metadata": {},
   "source": [
    "<h2>Answers</h2>\n",
    "<ol>\n",
    "<li><code>&gt;&gt;&gt; b = 7</code></li>\n",
    "<li><code>&gt;&gt;&gt; b / 6</code></li>\n",
    "1.1666666666666667\n",
    "<li><code>&gt;&gt;&gt; b // 6</code></li>\n",
    "1\n",
    "<li><code>&gt;&gt;&gt; b / 4</code></li>\n",
    "1.75\n",
    "<li><code>&gt;&gt;&gt; b % 4</code></li>\n",
    "3\n",
    "<li><code>&gt;&gt;&gt; b % 7</code></li>\n",
    "0\n",
    "<li><code>&gt;&gt;&gt; b * 2</code></li>\n",
    "14\n",
    "<li><code>&gt;&gt;&gt; b ** 2</code></li>\n",
    "49\n",
    "</ol>\n"
   ]
  },
  {
   "cell_type": "markdown",
   "metadata": {},
   "source": [
    "\n",
    "\n",
    "<h4>Question 8</h4>\n",
    "<p>Construct logical expressions for representing the following conditions:</p>\n",
    "<ol>\n",
    "  <li>a. marks scored should be greater than 300 and less than 400.</li>\n",
    "  <li>b. Whether the value of grade is an uppercase letter.</li>\n",
    "  <li>c. The post is engineer and experience is more than four years</li>\n",
    "</ol>\n",
    "</html>\n"
   ]
  },
  {
   "cell_type": "markdown",
   "metadata": {},
   "source": [
    "<code><br>a.marks>300 and marks &lt;400 </code>\n",
    "\n",
    "<code><br>b.grade.isupper()</code>\n",
    "\n",
    "<code><br>c.post == 'engineer' and experience > 4</code>"
   ]
  },
  {
   "cell_type": "markdown",
   "metadata": {},
   "source": [
    "<h4>Question 9</h4>\n",
    "<p>Write Python statements for the following equations:</p>\n",
    "<ol>\n",
    "  <li><code>root1 = (-b + √(b^2 - 4ac)) / (2a)</code></li>\n",
    "  <li><code>result = 2xy − 9y / (4yx^2 − 2) + (3 / 2y^(1/2) + 1 / 2y^(1/2))</code></li>\n",
    "  <li><code>result = 2 * cos(x + y) * cos(x − y) + e − 1 − + tan(x) − log(v)</code></li>\n",
    "</ol>\n",
    "</html>\n"
   ]
  },
  {
   "cell_type": "markdown",
   "metadata": {},
   "source": [
    "Answer 1 "
   ]
  },
  {
   "cell_type": "code",
   "execution_count": 1,
   "metadata": {},
   "outputs": [
    {
     "name": "stdout",
     "output_type": "stream",
     "text": [
      "2.4663649828320295\n",
      "-1.2163649828320293\n"
     ]
    }
   ],
   "source": [
    "######Answer 1############\n",
    "xa=4\n",
    "xb=-5\n",
    "xc=-12\n",
    "det=xb**2-4*xa*xc\n",
    "root1=(-xb+det**0.5)/(2*xa)\n",
    "print(root1)\n",
    "root2=(-xb-det**0.5)/(2*xa)\n",
    "print(root2)"
   ]
  },
  {
   "cell_type": "markdown",
   "metadata": {},
   "source": [
    "Answer 2"
   ]
  },
  {
   "cell_type": "code",
   "execution_count": null,
   "metadata": {},
   "outputs": [],
   "source": [
    "import math\n",
    "x=3\n",
    "y=5\n",
    "v=10\n",
    "result=((2*x*y-9*y)/(2*x*y**3))-((4*y*x**2)/2*y)\n",
    "#result=2*x*y-9*y/2*x*y**3-4*y*x**2/2*y\n",
    "print(result)"
   ]
  },
  {
   "cell_type": "markdown",
   "metadata": {},
   "source": [
    "Answer 3"
   ]
  },
  {
   "cell_type": "code",
   "execution_count": 3,
   "metadata": {},
   "outputs": [
    {
     "name": "stdout",
     "output_type": "stream",
     "text": [
      "15.184074975982124\n"
     ]
    }
   ],
   "source": [
    "import math\n",
    "x=3\n",
    "y=5\n",
    "v=10\n",
    "result2=2*math.cos(0.5*(x+y))*math.cos(0.5*(x-y))+math.exp(x)-1-x/4+math.tan(x)-math.log(v)\n",
    "print(result2)"
   ]
  },
  {
   "cell_type": "markdown",
   "metadata": {},
   "source": [
    "<h4>Question 10</h4>\n",
    "<p>How does the effect of the following two statements differ:</p>\n",
    "<ol>\n",
    "  <li><code>x += x + 10</code></li>\n",
    "  <li><code>x = x + 10</code></li>\n",
    "</ol>\n",
    "</html>\n"
   ]
  },
  {
   "cell_type": "code",
   "execution_count": 5,
   "metadata": {},
   "outputs": [
    {
     "name": "stdout",
     "output_type": "stream",
     "text": [
      "12\n",
      "11\n"
     ]
    }
   ],
   "source": [
    "xa=1\n",
    "xb=1\n",
    "xa += xa + 10\n",
    "xb = xb+ 10\n",
    "print(xa) \n",
    "print(xb)\n"
   ]
  },
  {
   "cell_type": "markdown",
   "metadata": {},
   "source": [
    "<h4>Question 11</h4>\n",
    "<p>Write a program that asks the user to enter the width and length of a room. Once these values have been read, your program should compute and display the area of the room. The length and the width will be entered as floating-point numbers. Include units in your prompt and output message; either feet or meters, depending on which unit you are more comfortable working with.</p>\n",
    "</html>\n"
   ]
  },
  {
   "cell_type": "code",
   "execution_count": 7,
   "metadata": {},
   "outputs": [
    {
     "name": "stdout",
     "output_type": "stream",
     "text": [
      "area of room is 15.0 square meters\n"
     ]
    }
   ],
   "source": [
    "\n",
    "length=float(input(\"enter the length of room in meters\"))\n",
    "width=float(input(\"enter the width of room in meters\"))\n",
    "area=length*width\n",
    "print(\"area of room is\",area,\"square meters\")"
   ]
  },
  {
   "cell_type": "markdown",
   "metadata": {},
   "source": [
    "<h4>Question 12</h4>\n",
    "<p>An online retailer sells two products: widgets and gizmos. Each widget weighs 75 grams. Each gizmo weighs 112 grams. Write a program that reads the number of widgets and the number of gizmos from the user. Then your program should compute and display the total weight of the parts.</p>\n",
    "</html>\n"
   ]
  },
  {
   "cell_type": "code",
   "execution_count": 8,
   "metadata": {},
   "outputs": [
    {
     "name": "stdout",
     "output_type": "stream",
     "text": [
      "total weight of parts is 673 grams\n"
     ]
    }
   ],
   "source": [
    "\n",
    "widgets=int(input(\"enter the number of widgets\"))\n",
    "gizmos=int(input(\"enter the number of gizmos\"))\n",
    "total_weight=widgets*75+gizmos*112\n",
    "print(\"total weight of parts is\",total_weight,\"grams\")"
   ]
  },
  {
   "cell_type": "markdown",
   "metadata": {},
   "source": [
    "<h4>Question 13</h4>\n",
    "<p>Write a program that determines how quickly an object is travelling when it hits the ground. The user will enter the height from which the object is dropped in meters (m). Because the object is dropped its initial speed is 0 m/s. Assume that the acceleration due to gravity is 9.8 m/s². You can use the formula \\( v = (vi + 2ad) \\) to compute the final speed, vf, when the initial speed, vi, acceleration, a, and distance, d, are known.</p>\n",
    "</html>\n"
   ]
  },
  {
   "cell_type": "code",
   "execution_count": 9,
   "metadata": {},
   "outputs": [
    {
     "name": "stdout",
     "output_type": "stream",
     "text": [
      "final speed of object is 17.146428199482248 m/s\n"
     ]
    }
   ],
   "source": [
    "\n",
    "import math\n",
    "height=float(input(\"enter the height from which the object is dropped in meters\"))\n",
    "initial_speed=0\n",
    "acceleration=9.8\n",
    "final_speed=math.sqrt(initial_speed**2+2*acceleration*height)\n",
    "print(\"final speed of object is\",final_speed,\"m/s\")\n"
   ]
  },
  {
   "cell_type": "markdown",
   "metadata": {},
   "source": [
    "<h4>Question 14</h4>\n",
    "<p>Write a program that reads a four-digit integer from the user and displays the sum of its digits. For example, if the user enters 3141 then your program should display 3 + 1 + 4 + 1 = 9.</p>\n",
    "</html>"
   ]
  },
  {
   "cell_type": "code",
   "execution_count": 10,
   "metadata": {},
   "outputs": [
    {
     "name": "stdout",
     "output_type": "stream",
     "text": [
      "sum of digits is 10\n"
     ]
    }
   ],
   "source": [
    "\n",
    "number=int(input(\"enter the four digit number\"))\n",
    "sum=0\n",
    "while number>0:\n",
    "    digit=number%10\n",
    "    sum=sum+digit\n",
    "    number=number//10\n",
    "print(\"sum of digits is\",sum)\n"
   ]
  },
  {
   "cell_type": "markdown",
   "metadata": {},
   "source": [
    "<h4>Question 15</h4>\n",
    "<p>Write a program that reads three integers from the user and displays them in sorted order (from smallest to largest). Use the min and max functions to find\n"
   ]
  },
  {
   "cell_type": "code",
   "execution_count": 11,
   "metadata": {},
   "outputs": [
    {
     "name": "stdout",
     "output_type": "stream",
     "text": [
      "4 6 9\n"
     ]
    }
   ],
   "source": [
    "\n",
    "a=int(input(\"enter the first number\"))\n",
    "b=int(input(\"enter the second number\"))\n",
    "c=int(input(\"enter the third number\"))\n",
    "min=min(a,b,c)\n",
    "max=max(a,b,c)\n",
    "middle=a+b+c-min-max\n",
    "print(min,middle,max)\n"
   ]
  },
  {
   "cell_type": "markdown",
   "metadata": {},
   "source": [
    "<h4>Question 16</h4>\n",
    "<p>Create a program that reads duration from the user as a number of days, hours, minutes, and seconds. Compute\n",
    "and display the total number of seconds represented by this duration.</p>"
   ]
  },
  {
   "cell_type": "code",
   "execution_count": 12,
   "metadata": {},
   "outputs": [
    {
     "name": "stdout",
     "output_type": "stream",
     "text": [
      "total number of seconds is 277686\n"
     ]
    }
   ],
   "source": [
    "\n",
    "days=int(input(\"enter the number of days\"))\n",
    "hours=int(input(\"enter the number of hours\"))\n",
    "minutes=int(input(\"enter the number of minutes\"))\n",
    "seconds=int(input(\"enter the number of seconds\"))\n",
    "total_seconds=days*24*60*60+hours*60*60+minutes*60+seconds\n",
    "print(\"total number of seconds is\",total_seconds)\n"
   ]
  },
  {
   "cell_type": "code",
   "execution_count": null,
   "metadata": {},
   "outputs": [],
   "source": [
    "'''Linear Search'''\n",
    "def linear_search(list, target):\n",
    "    \"\"\"\n",
    "    Returns the index position of the target if found, else returns None\n",
    "    \"\"\"\n",
    "    for i in range(0, len(list)):\n",
    "        if list[i] == target:\n",
    "            return i\n",
    "    return None\n",
    "\n",
    "\n",
    "'''Binary Search'''\n",
    "def binary_search(list, target):\n",
    "    first = 0\n",
    "    last = len(list) - 1\n",
    "\n",
    "    while first <= last:\n",
    "        midpoint = (first + last)//2\n",
    "        if list[midpoint] == target:\n",
    "            return midpoint\n",
    "        elif list[midpoint] < target:\n",
    "            first = midpoint + 1\n",
    "        else:\n",
    "            last = midpoint - 1\n",
    "\n",
    "    return None\n",
    "\n",
    "    '''Bubble Sort'''\n",
    "def bubble_sort(list):\n",
    "    \"\"\"\n",
    "    Sorts a list in ascending order\n",
    "    Returns a sorted list\n",
    "    \"\"\"\n",
    "    for i in range(0, len(list) - 1):\n",
    "        for j in range(0, len(list) - 1 - i):\n",
    "            if list[j] > list[j+1]:\n",
    "                list[j], list[j+1] = list[j+1], list[j]\n",
    "\n",
    "    return list\n",
    "\n",
    "    '''Selection Sort'''\n",
    "def selection_sort(list):\n",
    "    \"\"\"\n",
    "    Sorts a list in ascending order\n",
    "    Returns a sorted list\n",
    "    \"\"\"\n",
    "    for i in range(0, len(list) - 1):\n",
    "        min_index = i\n",
    "\n",
    "        for j in range(i+1, len(list)):\n",
    "            if list[j] < list[min_index]:\n",
    "                min_index = j\n",
    "\n",
    "        if min_index != i:\n",
    "            list[min_index], list[i] = list[i], list[min_index]\n",
    "\n",
    "    return list\n",
    "\n",
    "    '''Insertion Sort'''\n",
    "def insertion_sort(list):\n",
    "    \"\"\"\n",
    "    Sorts a list in ascending order\n",
    "    Returns a sorted list\n",
    "    \"\"\"\n",
    "    for i in range(1, len(list)):\n",
    "        j = i\n",
    "\n",
    "        while j > 0 and list[j-1] > list[j]:\n",
    "            list[j], list[j-1] = list[j-1], list[j]\n",
    "            j -= 1\n",
    "\n",
    "    return list\n",
    "\n",
    "    "
   ]
  }
 ],
 "metadata": {
  "kernelspec": {
   "display_name": "tf_gpu",
   "language": "python",
   "name": "python3"
  },
  "language_info": {
   "codemirror_mode": {
    "name": "ipython",
    "version": 3
   },
   "file_extension": ".py",
   "mimetype": "text/x-python",
   "name": "python",
   "nbconvert_exporter": "python",
   "pygments_lexer": "ipython3",
   "version": "3.9.0"
  }
 },
 "nbformat": 4,
 "nbformat_minor": 2
}
