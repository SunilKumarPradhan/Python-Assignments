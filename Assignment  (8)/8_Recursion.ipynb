{
 "cells": [
  {
   "cell_type": "markdown",
   "metadata": {},
   "source": [
    "<h4>Question 1</h4>\n",
    "\n",
    "<p>Write a recursive function that converts a number inputted in string form to an integer type. For example, if input string is: ‘1234’ then the recursive function should convert it to 1234(int type)</p>"
   ]
  },
  {
   "cell_type": "code",
   "execution_count": 13,
   "metadata": {},
   "outputs": [
    {
     "name": "stdout",
     "output_type": "stream",
     "text": [
      "1234\n"
     ]
    }
   ],
   "source": [
    "#Write a recursive function that converts a number inputted in string form to an integer type. For example, if input string is: ‘1234’ then the recursive function should convert it to 1234(int type)\n",
    "\n",
    "def convert_to_int(string):\n",
    "    if len(string) == 1:\n",
    "        return int(string)\n",
    "    else:\n",
    "        return int(string[0]) * 10**(len(string)-1) + convert_to_int(string[1:])\n",
    "    \n",
    "print(convert_to_int('1234'))\n",
    "\n"
   ]
  },
  {
   "cell_type": "markdown",
   "metadata": {},
   "source": [
    "<h4>Question 2</h4>\n",
    "\n",
    "<p>Write a recursive function to print the sum of the digits of a given non-negative\n",
    "integer.</p>"
   ]
  },
  {
   "cell_type": "code",
   "execution_count": 14,
   "metadata": {},
   "outputs": [
    {
     "name": "stdout",
     "output_type": "stream",
     "text": [
      "10\n"
     ]
    }
   ],
   "source": [
    "#Write a recursive function to print the sum of the digits of a given non-negative integer.\n",
    "\n",
    "def sum_of_digits(number):\n",
    "    if number < 10:\n",
    "        return number\n",
    "    else:\n",
    "        return number % 10 + sum_of_digits(number // 10)\n",
    "    \n",
    "print(sum_of_digits(1234))\n",
    "\n"
   ]
  },
  {
   "cell_type": "markdown",
   "metadata": {},
   "source": [
    "<h4>Question 3</h4> \n",
    "<p>Write a recursive function to calculate the value of ’a’ to the power ’b’. For example,\n",
    "if a=2 and b=3, the output should be 2**3 = 8.</p>"
   ]
  },
  {
   "cell_type": "code",
   "execution_count": 15,
   "metadata": {},
   "outputs": [
    {
     "name": "stdout",
     "output_type": "stream",
     "text": [
      "8\n"
     ]
    }
   ],
   "source": [
    "#Write a recursive function to calculate the value of ’a’ to the power ’b’. For example,if a=2 and b=3, the output should be 2**3 = 8.\n",
    "\n",
    "def power(a, b):\n",
    "    if b == 0:\n",
    "        return 1\n",
    "    else:\n",
    "        return a * power(a, b-1)\n",
    "    \n",
    "print(power(2, 3))"
   ]
  },
  {
   "cell_type": "markdown",
   "metadata": {},
   "source": [
    "<h4>Question 4</h4>\n",
    "\n",
    "Write a recursive function to calculate the harmonic sum of first n terms. Note: Theharmonic sum is the sum of reciprocals of the positive integers. For example, if n =4, the output should be (1+1/2+1/3+1/4 ) = 2.0833\n"
   ]
  },
  {
   "cell_type": "code",
   "execution_count": 16,
   "metadata": {},
   "outputs": [
    {
     "name": "stdout",
     "output_type": "stream",
     "text": [
      "2.083333333333333\n"
     ]
    }
   ],
   "source": [
    "#Write a recursive function to calculate the harmonic sum of first n terms. Note: Theharmonic sum is the sum of reciprocals of the positive integers. For example, if n =4, the output should be (1+1/2+1/3+1/4 ) = 2.0833\n",
    "\n",
    "def harmonic_sum(n):\n",
    "    if n == 1:\n",
    "        return 1\n",
    "    else:\n",
    "        return 1/n + harmonic_sum(n-1)\n",
    "    \n",
    "print(harmonic_sum(4))"
   ]
  },
  {
   "cell_type": "markdown",
   "metadata": {},
   "source": [
    "<h4>Question 5</h4>\n",
    "\n",
    "<p>Write a recursive function to calculate the geometric sum of first n terms with constant ration r, where r lies in the interval (0,1). Note: In mathematics, a geometric series is a series with a constant ratio between successive terms. For example, if n = 4 and r = (1/2) then output should be (1+1/2+1/4+ 1/8 ) = 1.875</p>"
   ]
  },
  {
   "cell_type": "code",
   "execution_count": null,
   "metadata": {},
   "outputs": [],
   "source": [
    "#Write a recursive function to calculate the geometric sum of first n terms with constant ration r, where r lies in the interval (0,1). Note: In mathematics, a geometricseries is a series with a constant ratio between successive terms. For example, if n =4 and r = (1/2) then output should be (1+1/2+1/4+ 1/8 ) = 1.875\n",
    "\n",
    "def geometric_sum(n, r):\n",
    "    if n == 0:\n",
    "        return 1\n",
    "    else:\n",
    "        return r**n + geometric_sum(n-1, r)\n",
    "\n",
    "print(geometric_sum(4, 1/2))"
   ]
  },
  {
   "cell_type": "markdown",
   "metadata": {},
   "source": [
    "<h4>Question 6</h4>\n",
    "\n",
    "<p>Write a recursive function to calculate the sum of the positive integers of n+(n-2)+(n-4)... (until n−x ≤ 0). For example, if n=6, then output should be 6+(6-2)+(6-4)+(6-6) = 12</p>"
   ]
  },
  {
   "cell_type": "code",
   "execution_count": null,
   "metadata": {},
   "outputs": [],
   "source": [
    "#Write a recursive function to calculate the sum of the positive integers of n+(n-2)+(n-4)... (until n−x ≤ 0). For example, if n=6, then output should be 6+(6-2)+(6-4)+(6-6) = 12\n",
    "\n",
    "def sum_of_positive_integers(n):\n",
    "    if n <= 0:\n",
    "        return 0\n",
    "    else:\n",
    "        return n + sum_of_positive_integers(n-2)\n",
    "    \n",
    "print(sum_of_positive_integers(6))\n"
   ]
  },
  {
   "cell_type": "markdown",
   "metadata": {},
   "source": [
    "<h4>Question 7</h4>\n",
    "\n",
    "<p>Write a recursive function to print the sums of all the subsets of a given array. For Example: Input: lst = [2,3] Output:0, 2,3,5. Input: lst = [2,4,5] Output:0,2,4,5,6,7,9,1</p>"
   ]
  },
  {
   "cell_type": "code",
   "execution_count": 3,
   "metadata": {},
   "outputs": [
    {
     "name": "stdout",
     "output_type": "stream",
     "text": [
      "[0, 3, 2, 5]\n",
      "[0, 5, 4, 9, 2, 7, 6, 11]\n"
     ]
    }
   ],
   "source": [
    "#Write a recursive function to print the sums of all the subsets of a given array. For Example: Input: lst = [2,3] Output:0, 2,3,5. Input: lst = [2,4,5] Output:0,2,4,5,6,7,9,11\n",
    "\n",
    "def sum_of_subsets(lst):\n",
    "    if len(lst) == 0:\n",
    "        return [0]\n",
    "    else:\n",
    "        return sum_of_subsets(lst[1:]) + [lst[0] + x for x in sum_of_subsets(lst[1:])]\n",
    "    \n",
    "print(sum_of_subsets([2, 3]))\n",
    "print(sum_of_subsets([2, 4, 5]))\n",
    "\n",
    "\n"
   ]
  },
  {
   "cell_type": "markdown",
   "metadata": {},
   "source": [
    "<h4>Question 8</h4>\n",
    "\n",
    "<p>Write a recursive function to check whether a given number is prime or not.</p>\n"
   ]
  },
  {
   "cell_type": "code",
   "execution_count": 2,
   "metadata": {},
   "outputs": [
    {
     "name": "stdout",
     "output_type": "stream",
     "text": [
      "True\n",
      "True\n",
      "False\n"
     ]
    }
   ],
   "source": [
    "#Write a recursive function to check whether a given number is prime or not\n",
    "\n",
    "def is_prime(n, i=2):\n",
    "    if n == 2:\n",
    "        return True\n",
    "    elif n % i == 0:\n",
    "        return False\n",
    "    elif i * i > n:\n",
    "        return True\n",
    "    else:\n",
    "        return is_prime(n, i+1)\n",
    "\n",
    "\n",
    "print(is_prime(2))\n",
    "print(is_prime(3))\n",
    "print(is_prime(4))\n"
   ]
  },
  {
   "cell_type": "markdown",
   "metadata": {},
   "source": [
    "<h4>Question 9</h4>\n",
    "\n",
    "<p>Write a recursive function that multiplies two positive numbers a and b, and returns the result. Multiplication is to be achieved as a + a + a (b times).</p>"
   ]
  },
  {
   "cell_type": "code",
   "execution_count": 6,
   "metadata": {},
   "outputs": [
    {
     "name": "stdout",
     "output_type": "stream",
     "text": [
      "6\n"
     ]
    }
   ],
   "source": [
    "#Write a recursive function that multiplies two positive numbers a and b, and returns the result. Multiplication is to be achieved as a + a + a (b times).\n",
    "\n",
    "def multiply(a, b):\n",
    "    if b == 1:\n",
    "        return a\n",
    "    else:\n",
    "        return a + multiply(a, b-1)\n",
    "    \n",
    "print(multiply(2, 3))"
   ]
  },
  {
   "cell_type": "markdown",
   "metadata": {},
   "source": [
    "<h4>Question 10</h4>\n",
    "\n",
    "<p>Write a recursive function that takes number n as an input parameter and prints n-digit strictly increasing numbers.</p>"
   ]
  },
  {
   "cell_type": "code",
   "execution_count": 7,
   "metadata": {},
   "outputs": [
    {
     "name": "stdout",
     "output_type": "stream",
     "text": [
      "1\n",
      "2\n",
      "3\n",
      "4\n",
      "5\n"
     ]
    },
    {
     "data": {
      "text/plain": [
       "0"
      ]
     },
     "execution_count": 7,
     "metadata": {},
     "output_type": "execute_result"
    }
   ],
   "source": [
    "#Write a recursive function that takes number n as an input parameter and prints n-digit strictly increasing numbers.\n",
    "\n",
    "def strictly_increasing_numbers(n, i=1):\n",
    "    if n == 0:\n",
    "        return 0\n",
    "    else:\n",
    "        print(i)\n",
    "        return strictly_increasing_numbers(n-1, i+1)\n",
    "    \n",
    "strictly_increasing_numbers(5)"
   ]
  },
  {
   "cell_type": "markdown",
   "metadata": {},
   "source": [
    "<h4>Question 11</h4>\n",
    "\n",
    "<p>Write a recursive function that generates all binary strings of n-bit length.</p>"
   ]
  },
  {
   "cell_type": "code",
   "execution_count": 3,
   "metadata": {},
   "outputs": [
    {
     "name": "stdout",
     "output_type": "stream",
     "text": [
      "000\n",
      "001\n",
      "010\n",
      "011\n",
      "100\n",
      "101\n",
      "110\n",
      "111\n"
     ]
    }
   ],
   "source": [
    "#Write a recursive function that generates all binary strings of n-bit length.\n",
    "\n",
    "def binary_strings(n, string=''):\n",
    "    if n == 0:\n",
    "        print(string)\n",
    "    else:\n",
    "        binary_strings(n-1, string + '0')\n",
    "        binary_strings(n-1, string + '1')\n",
    "\n",
    "binary_strings(3)\n"
   ]
  },
  {
   "cell_type": "markdown",
   "metadata": {},
   "source": [
    "<h4>Question 12</h4>\n",
    "\n",
    "<p>Write a recursive function that takes two strings as input parameters and prints all interleaving strings of the given two strings preserving their order of occurrence. For example, interleaving of strings ‘AB’ and ‘CD’ will generate the strings: ‘ABCD’,‘ACBD’, ‘ACDB’, ‘CDAB’, ‘CADB’ and ‘CABD’.</p>"
   ]
  },
  {
   "cell_type": "code",
   "execution_count": 9,
   "metadata": {},
   "outputs": [
    {
     "name": "stdout",
     "output_type": "stream",
     "text": [
      "ABCD\n",
      "ACBD\n",
      "ACDB\n",
      "CABD\n",
      "CADB\n",
      "CDAB\n"
     ]
    }
   ],
   "source": [
    "#Write a recursive function that takes two strings as input parameters and prints all interleaving strings of the given two strings preserving their order of occurrence. For example, interleaving of strings ‘AB’ and ‘CD’ will generate the strings: ‘ABCD’,‘ACBD’, ‘ACDB’, ‘CDAB’, ‘CADB’ and ‘CABD’.\n",
    "\n",
    "def interleaving_strings(string1, string2, string=''):\n",
    "    if len(string1) == 0 and len(string2) == 0:\n",
    "        print(string)\n",
    "    else:\n",
    "        if len(string1) > 0:\n",
    "            interleaving_strings(string1[1:], string2, string + string1[0])\n",
    "        if len(string2) > 0:\n",
    "            interleaving_strings(string1, string2[1:], string + string2[0])\n",
    "\n",
    "interleaving_strings('AB', 'CD')"
   ]
  },
  {
   "cell_type": "markdown",
   "metadata": {},
   "source": [
    " <h4>Question 13</h4>\n",
    " \n",
    " Write a recursive function that inserts the element x at every kth position in the given list, and returns the modified list. For example, if we wish to insert element 50 at every 3rd position (counting 0, 1, 2, 3) in the list [1, 2, 3, 4, 5, 6, 7], the output list will be [1, 2, 3, 50, 4, 5, 6, 50, 7]. "
   ]
  },
  {
   "cell_type": "code",
   "execution_count": 24,
   "metadata": {},
   "outputs": [
    {
     "name": "stdout",
     "output_type": "stream",
     "text": [
      "[1, 2, 3, 50, 4, 5, 6, 50, 7]\n"
     ]
    }
   ],
   "source": [
    "def insert_at_kth(lst, x, k, current_position=1):\n",
    "    if not lst:\n",
    "        return []\n",
    "    else:\n",
    "        result = [lst[0]]\n",
    "        if current_position % k == 0:\n",
    "            result.append(x)\n",
    "        return result + insert_at_kth(lst[1:], x, k, current_position + 1)\n",
    "\n",
    "lst = [1, 2, 3, 4, 5, 6, 7]\n",
    "x = 50\n",
    "k = 3\n",
    "print(insert_at_kth(lst, x, k))\n"
   ]
  },
  {
   "cell_type": "markdown",
   "metadata": {},
   "source": [
    "<h4> Question 14</h4>\n",
    "\n",
    "Write a recursive function that deletes every kth element, and returns the modified list. For example, if we wish to delete every 3rd element from the list [1, 2, 3, 4, 5, 6, 7, 8, 9, 10, 11], the output list will be [1, 2, 4, 5, 7, 8, 10, 11]."
   ]
  },
  {
   "cell_type": "code",
   "execution_count": 25,
   "metadata": {},
   "outputs": [
    {
     "name": "stdout",
     "output_type": "stream",
     "text": [
      "[1, 2, 4, 5, 7, 8, 10, 11]\n"
     ]
    }
   ],
   "source": [
    "def delete_at_kth(lst, k, current_position=1):\n",
    "    if not lst:\n",
    "        return []\n",
    "    else:\n",
    "        result = []\n",
    "        if current_position % k != 0:\n",
    "            result.append(lst[0])\n",
    "        return result + delete_at_kth(lst[1:], k, current_position + 1)\n",
    "\n",
    "lst = [1, 2, 3, 4, 5, 6, 7, 8, 9, 10, 11]\n",
    "k = 3\n",
    "\n",
    "print(delete_at_kth(lst, k))\n"
   ]
  },
  {
   "cell_type": "markdown",
   "metadata": {},
   "source": [
    "<h4>Question 15</h4>\n",
    "\n",
    "Write a recursive function that recursively removes adjacent duplicates from a given list, and returns the modified list. For example, removing adjacent duplicates recursively from the list [1, 2, 4, 4, 5, 7, 7, 7, 8, 8, 9, 7] will yield list [1, 2, 5, 9,7].\n"
   ]
  },
  {
   "cell_type": "code",
   "execution_count": 1,
   "metadata": {},
   "outputs": [
    {
     "name": "stdout",
     "output_type": "stream",
     "text": [
      "[1, 2, 5, 9, 7]\n"
     ]
    }
   ],
   "source": [
    "\n",
    "\n",
    "#remove both adjacent duplicates \n",
    "\n",
    "def remove(list):\n",
    "    if len(list) <= 1:\n",
    "        return list\n",
    "    else:\n",
    "        if list[0] == list[1]:\n",
    "            while len(list) > 1 and list[0] == list[1]:\n",
    "                list.pop(0)\n",
    "            return remove(list[1:])\n",
    "        else:\n",
    "            return [list[0]] + remove(list[1:])\n",
    "        \n",
    "list = [1, 2, 4, 4, 5, 7, 7, 7, 8, 8, 9, 7]\n",
    "\n",
    "print(remove(list)) # Output: [1, 2, 5, 9, 7]"
   ]
  },
  {
   "cell_type": "markdown",
   "metadata": {},
   "source": [
    "<h4>Question 16</h4>\n",
    "\n",
    "<p>Write a recursive function that takes two numbers as input parameters and computes their greatest common divisor.</p>"
   ]
  },
  {
   "cell_type": "code",
   "execution_count": 10,
   "metadata": {},
   "outputs": [
    {
     "name": "stdout",
     "output_type": "stream",
     "text": [
      "3\n"
     ]
    }
   ],
   "source": [
    "#Write a recursive function that takes two numbers as input parameters and computes their greatest common divisor.\n",
    "\n",
    "def gcd(a, b):\n",
    "    if b == 0:\n",
    "        return a\n",
    "    else:\n",
    "        return gcd(b, a%b)\n",
    "    \n",
    "print(gcd(12, 15))"
   ]
  }
 ],
 "metadata": {
  "kernelspec": {
   "display_name": "tf_gpu",
   "language": "python",
   "name": "python3"
  },
  "language_info": {
   "codemirror_mode": {
    "name": "ipython",
    "version": 3
   },
   "file_extension": ".py",
   "mimetype": "text/x-python",
   "name": "python",
   "nbconvert_exporter": "python",
   "pygments_lexer": "ipython3",
   "version": "3.9.0"
  }
 },
 "nbformat": 4,
 "nbformat_minor": 2
}
