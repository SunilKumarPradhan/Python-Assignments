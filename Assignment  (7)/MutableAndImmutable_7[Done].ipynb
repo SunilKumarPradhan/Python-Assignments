{
 "cells": [
  {
   "cell_type": "markdown",
   "metadata": {},
   "source": [
    "<h4>Question 1</h4>\n",
    "<p>Write a function that takes a list of values as an input parameter and returns another list without any duplicates.</p>\n",
    "\n"
   ]
  },
  {
   "cell_type": "code",
   "execution_count": 1,
   "metadata": {},
   "outputs": [
    {
     "name": "stdout",
     "output_type": "stream",
     "text": [
      "[1, 2, 3, 4, 5, 6, 7, 8, 9]\n"
     ]
    }
   ],
   "source": [
    "\n",
    "def remove_duplicates(list):\n",
    "    new_list = []\n",
    "    for i in list:\n",
    "        if i not in new_list:\n",
    "            new_list.append(i)\n",
    "    return new_list\n",
    "\n",
    "def main():\n",
    "    list = [1, 2, 3, 4, 5, 6, 7, 8, 9]\n",
    "    print(remove_duplicates(list))\n",
    "\n",
    "if __name__ == \"__main__\":\n",
    "    main()\n"
   ]
  },
  {
   "cell_type": "markdown",
   "metadata": {},
   "source": [
    "<h4>Question 2</h4>\n",
    "<p>Write a function that takes a list of numbers as input from the user and produces the corresponding cumulative list where each element in the list at index i is the sum of elements at index j <= i.</p>\n",
    "\n",
    "\n"
   ]
  },
  {
   "cell_type": "code",
   "execution_count": 6,
   "metadata": {},
   "outputs": [
    {
     "name": "stdout",
     "output_type": "stream",
     "text": [
      "[1, 3, 6, 10, 15, 21, 28, 36, 45]\n"
     ]
    }
   ],
   "source": [
    "'''• Write a function that takes a list of numbers as input from the user and produces the corresponding\n",
    "cumulative list where each element in the list at index i is the sum of elements at index j <= i.'''\n",
    "def cumulative_sum(list):\n",
    "    new_list = []\n",
    "    for i in range(len(list)):\n",
    "        new_list.append(sum(list[:i+1]))\n",
    "    return new_list\n",
    "\n",
    "def main():\n",
    "    list = [1, 2, 3, 4, 5, 6, 7, 8, 9]\n",
    "    print(cumulative_sum(list))\n",
    "\n",
    "if __name__ == \"__main__\":\n",
    "    main()\n",
    "    "
   ]
  },
  {
   "cell_type": "markdown",
   "metadata": {},
   "source": [
    "\n",
    "<h4>Question 3</h4>\n",
    "<p>Write a program that takes a sentence as input from the user and computes the frequency of each letter. Use a variable of dictionary type to maintain the count.</p>\n",
    "\n",
    "\n"
   ]
  },
  {
   "cell_type": "code",
   "execution_count": 7,
   "metadata": {},
   "outputs": [
    {
     "name": "stdout",
     "output_type": "stream",
     "text": [
      "{'h': 2, 'e': 1, 'l': 3, 'o': 1, ' ': 3, 't': 1, 'i': 3, 's': 3, 'u': 1, 'n': 1}\n"
     ]
    }
   ],
   "source": [
    "'''Write a program that takes a sentence as input from the user and computes the frequency of each\n",
    "letter. Use a variable of dictionary type to maintain the count.'''\n",
    "def letter_frequency(sentence):\n",
    "    dict = {}\n",
    "    for i in sentence:\n",
    "        if i in dict:\n",
    "            dict[i] += 1\n",
    "        else:\n",
    "            dict[i] = 1\n",
    "    return dict\n",
    "\n",
    "def main():\n",
    "    sentence = input(\"Enter a sentence: \")\n",
    "    print(letter_frequency(sentence))\n",
    "\n",
    "if __name__ == \"__main__\":\n",
    "    main()\n",
    "    "
   ]
  },
  {
   "cell_type": "markdown",
   "metadata": {},
   "source": [
    "<h4>Question 4</h4>\n",
    "<p>Identify the output produced when the following functions are invoked.</p>\n",
    "\n",
    "<img src=\"F7\\4-1.png\">\n",
    "\n"
   ]
  },
  {
   "cell_type": "code",
   "execution_count": 3,
   "metadata": {},
   "outputs": [
    {
     "data": {
      "text/plain": [
       "[3, 4, 5, 6, 7]"
      ]
     },
     "execution_count": 3,
     "metadata": {},
     "output_type": "execute_result"
    }
   ],
   "source": [
    "[0, 1, 2, 3, 4]\n",
    "[3, 4, 5, 6, 7]\n"
   ]
  },
  {
   "cell_type": "markdown",
   "metadata": {},
   "source": [
    "<img src=\"F7\\4-2.png\">"
   ]
  },
  {
   "cell_type": "code",
   "execution_count": 4,
   "metadata": {},
   "outputs": [
    {
     "data": {
      "text/plain": [
       "[0, 1, 2, 3, 4]"
      ]
     },
     "execution_count": 4,
     "metadata": {},
     "output_type": "execute_result"
    }
   ],
   "source": [
    "[3, 4, 5, 6, 7]\n",
    "[0, 1, 2, 3, 4]\n"
   ]
  },
  {
   "cell_type": "markdown",
   "metadata": {},
   "source": [
    "\n",
    "<h4>Question 5</h4>\n",
    "<p>Determine the output of the following code snippets.</p>\n",
    "\n",
    "<img src=\"F7\\5-1.png\">\n",
    "\n",
    " \n",
    " "
   ]
  },
  {
   "cell_type": "code",
   "execution_count": 5,
   "metadata": {},
   "outputs": [
    {
     "name": "stdout",
     "output_type": "stream",
     "text": [
      "30\n"
     ]
    }
   ],
   "source": [
    "c = [1, 2, 3, 4, 5, 6, 7, 8, 9, 10]\n",
    "result = 0\n",
    "for i in range(0, 10):\n",
    "    if (c[i] % 2 == 0):\n",
    "        result += c[i]\n",
    "print(result)\n"
   ]
  },
  {
   "cell_type": "markdown",
   "metadata": {},
   "source": [
    "<img src=\"F7\\5-2.png\">\n"
   ]
  },
  {
   "cell_type": "code",
   "execution_count": 6,
   "metadata": {},
   "outputs": [
    {
     "name": "stdout",
     "output_type": "stream",
     "text": [
      "25\n"
     ]
    }
   ],
   "source": [
    "c = [1, 2, 3, 4, 5, 6, 7, 8, 9, 10]\n",
    "result = 0\n",
    "for i in range(0, 10):\n",
    "    if (c[i] % 2 != 0):\n",
    "        result += c[i]\n",
    "print(result)\n"
   ]
  },
  {
   "cell_type": "markdown",
   "metadata": {},
   "source": [
    "<img src=\"F7\\5-3.png\">\n"
   ]
  },
  {
   "cell_type": "code",
   "execution_count": 8,
   "metadata": {},
   "outputs": [
    {
     "name": "stdout",
     "output_type": "stream",
     "text": [
      "omputerc\n"
     ]
    }
   ],
   "source": [
    "subject = 'computer'\n",
    "subject = list(subject)\n",
    "ch = subject[0]\n",
    "for i in range(0, len(subject)-1):\n",
    "    subject[i] = subject[i+1]\n",
    "\n",
    "\n",
    "    \n",
    "subject[len(subject)-1] = ch\n",
    "print(''.join(subject))\n"
   ]
  },
  {
   "cell_type": "markdown",
   "metadata": {},
   "source": [
    "<img src=\"F7\\5-4.png\">\n"
   ]
  },
  {
   "cell_type": "code",
   "execution_count": 9,
   "metadata": {},
   "outputs": [
    {
     "name": "stdout",
     "output_type": "stream",
     "text": [
      "219\n"
     ]
    }
   ],
   "source": [
    "quantity = [15, 30, 12, 34, 56, 99]\n",
    "total = 0\n",
    "for i in range(0, len(quantity)):\n",
    "    if (quantity[i] > 15):\n",
    "        total += quantity[i]\n",
    "print(total)\n"
   ]
  },
  {
   "cell_type": "markdown",
   "metadata": {},
   "source": [
    "<img src=\"F7\\5-5.png\">"
   ]
  },
  {
   "cell_type": "code",
   "execution_count": 9,
   "metadata": {},
   "outputs": [
    {
     "name": "stdout",
     "output_type": "stream",
     "text": [
      "[2, 4, 8, 12, 36, 20, 24, 63, 34]\n"
     ]
    }
   ],
   "source": [
    "x = [1, 2, 4, 6, 9, 10, 14, 15, 17]\n",
    "for i in range(0, len(x)):\n",
    "    if (x[i] % 2 == 0):\n",
    "        x[i] = 4*i\n",
    "    elif (x[i] % 3 == 0):\n",
    "        x[i] = 9*i\n",
    "    else:\n",
    "        x[i] *= 2\n",
    "print(x)\n"
   ]
  },
  {
   "cell_type": "markdown",
   "metadata": {},
   "source": [
    "<h4>Question 6</h4>\n",
    "<p>Write a function that takes n as an input and creates a list of n lists such that i-th list contains the first five multiples of i.</p>\n",
    "\n",
    "\n"
   ]
  },
  {
   "cell_type": "code",
   "execution_count": 2,
   "metadata": {},
   "outputs": [
    {
     "name": "stdout",
     "output_type": "stream",
     "text": [
      "[[1, 2, 3, 4, 5], [2, 4, 6, 8, 10], [3, 6, 9, 12, 15], [4, 8, 12, 16, 20], [5, 10, 15, 20, 25], [6, 12, 18, 24, 30], [7, 14, 21, 28, 35]]\n"
     ]
    }
   ],
   "source": [
    "\n",
    "def multiples(n):\n",
    "    list = []\n",
    "    for i in range(1, n+1):\n",
    "        list.append([i*j for j in range(1, 6)])\n",
    "    return list\n",
    "\n",
    "def main():\n",
    "    n = int(input(\"Enter a number: \"))\n",
    "    print(multiples(n))\n",
    "\n",
    "if __name__ == \"__main__\":\n",
    "    main()\n",
    "    "
   ]
  },
  {
   "cell_type": "markdown",
   "metadata": {},
   "source": [
    "\n",
    "<h4>Question 7</h4>\n",
    "<p>Write a function that takes a number as an input parameter and returns the corresponding text in words, for example, on input 452, the function should return ‘Four Five Two’. Use a dictionary for mapping digits to their string representation.</p>\n",
    "\n",
    "\n"
   ]
  },
  {
   "cell_type": "code",
   "execution_count": 12,
   "metadata": {},
   "outputs": [
    {
     "name": "stdout",
     "output_type": "stream",
     "text": [
      "Six\n"
     ]
    }
   ],
   "source": [
    "\n",
    "def number_to_words(n):\n",
    "    dict = {'0': 'Zero', '1': 'One', '2': 'Two', '3': 'Three', '4': 'Four',\n",
    "            '5': 'Five', '6': 'Six', '7': 'Seven', '8': 'Eight', '9': 'Nine'}\n",
    "    return ' '.join([dict[i] for i in str(n)])\n",
    "\n",
    "def main():\n",
    "        n = int(input(\"Enter a number: \"))\n",
    "        print(number_to_words(n))\n",
    "\n",
    "if __name__ == \"__main__\":\n",
    "        main()\n",
    "        "
   ]
  },
  {
   "cell_type": "markdown",
   "metadata": {},
   "source": [
    "\n",
    "<h4>Question 8</h4>\n",
    "<p>Given the following inputs, indicate in each case (a) to (w), whether the statements will execute successfully. If so, give what will be the outcome of execution? Also, give the output of print statements (where applicable):</p>\n",
    "<br>\n",
    "<code>\n",
    "<p>\n",
    "<br>address = 'B-6, Lodhi road, Delhi'\n",
    "<br>list1 = [1, 2, 3]\n",
    "<br>list2 = ['a', 1, 'z', 26, 'd', 4]\n",
    "<br>tuple1 = ('a', 'e', 'i', 'o', 'u')\n",
    "<br>tuple2 = ([2,4,6,8], [3,6,9], [4,8], 5)\n",
    "<br>dict1 = {'apple': 'red', 'mango': 'yellow', 'orange': 'orange'}\n",
    "<br>dict2 = {'X': ['eng', 'hindi', 'maths','science'], 'XII': ['english', 'physics', 'chemistry', 'maths']}\n",
    "</p>\n",
    "</code>\n",
    "\n",
    "<"
   ]
  },
  {
   "cell_type": "markdown",
   "metadata": {},
   "source": [
    "<ol>\n",
    "    <li><code>list1[3] = 4</code></li>\n",
    "    <li><code>print(list1 * 2)</code></li>\n",
    "    <li><code>print(min(list2))</code></li>\n",
    "    <li><code>print(max(list1))</code></li>\n",
    "    <li><code>print(list(address))</code></li>\n",
    "    <li><code>list2.extend(['e', 5])</code><br><code>print(list2)</code></li>\n",
    "    <li><code>list2.append(['e', 5])</code><br><code>print(list2)</code></li>\n",
    "    <li><code>names = ['rohan', 'mohan', 'gita']</code><br><code>names.sort(key=len)</code><br><code>print(names)</code></li>\n",
    "    <li><code>list3 = [(x * 2) for x in range(1, 11)]</code><br><code>print(list3)</code></li>\n",
    "    <li><code>del list3[1:]</code><br><code>print(list3)</code></li>\n",
    "    <li><code>list4 = [x + y for x in range(1, 5) for y in range(1, 5)]</code><br><code>print(list4)</code></li>\n",
    "    <li><code>tuple2[3] = 6</code></li>\n",
    "    <li><code>tuple2.append(5)</code></li>\n",
    "    <li><code>t1 = tuple2 + (5,)</code></li>\n",
    "    <li><code>', '.join(tuple1)</code></li>\n",
    "    <li><code>list(zip(['apple', 'orange'], ('red', 'orange')))</code></li>\n",
    "    <li><code>dict2['XII']</code></li>\n",
    "    <li><code>dict2['XII'].append('computer science')</code><br><code>dict2</code></li>\n",
    "    <li><code>'red' in dict1</code></li>\n",
    "    <li><code>list(dict1.items())</code></li>\n",
    "    <li><code>list(dict2.keys())</code></li>\n",
    "    <li><code>dict2.get('XI', 'None')</code></li>\n",
    "    <li><code>dict1.update({'kiwi': 'green'})</code><br><code>print(dict1)</code></li>\n",
    "</ol>\n"
   ]
  },
  {
   "cell_type": "code",
   "execution_count": 14,
   "metadata": {},
   "outputs": [
    {
     "name": "stdout",
     "output_type": "stream",
     "text": [
      "1 [1, 2, 4]\n",
      "1 [1, 2, 4, 1, 2, 4]\n",
      "3 Error: '<' not supported between instances of 'int' and 'str'\n",
      "4 4\n",
      "5 ['B', '-', '6', ',', ' ', 'L', 'o', 'd', 'h', 'i', ' ', 'r', 'o', 'a', 'd', ',', ' ', 'D', 'e', 'l', 'h', 'i']\n",
      "6 ['a', 1, 'z', 26, 'd', 4, 'e', 5]\n",
      "7 ['a', 1, 'z', 26, 'd', 4, 'e', 5, ['e', 5]]\n",
      "8 ['gita', 'rohan', 'mohan']\n",
      "9 [2, 4, 6, 8, 10, 12, 14, 16, 18, 20]\n",
      "10 [2]\n",
      "11 [2, 3, 4, 5, 3, 4, 5, 6, 4, 5, 6, 7, 5, 6, 7, 8]\n",
      "14 ([2, 4, 6, 8], [3, 6, 9], [4, 8], 5, 5)\n",
      "15 a,e,i,o,u\n",
      "16 [('apple', 'red'), ('orange', 'orange')]\n",
      "17 ['english', 'physics', 'chemistry', 'maths']\n",
      "18 {'X': ['eng', 'hindi', 'maths', 'science'], 'XII': ['english', 'physics', 'chemistry', 'maths', 'computer science']}\n",
      "19 False\n",
      "20 [('apple', 'red'), ('orange', 'orange'), ('kiwi', 'green')]\n",
      "21 ['X', 'XII']\n",
      "22 None\n",
      "23 {'apple': 'red', 'orange': 'orange', 'kiwi': 'green'}\n"
     ]
    }
   ],
   "source": [
    "# a. list1[3] = 4\n",
    "list1 = [1, 2, 3]\n",
    "list1 [2] = 4 # list1[3] = 4 will result in an error\n",
    "print(\"1\",list1)\n",
    "\n",
    "# b. print(list1 * 2)\n",
    "print(\"1\",list1 * 2)\n",
    "\n",
    "# c. print(min(list2))\n",
    "list2 = ['a', 1, 'z', 26, 'd', 4]\n",
    "try:\n",
    "    print(\"23\",min(list2))\n",
    "except TypeError as e:\n",
    "    print(\"3\",f\"Error: {e}\")\n",
    "\n",
    "# d. print(max(list1))\n",
    "print(\"4\",max(list1))\n",
    "\n",
    "# e. print(list(address))\n",
    "address = 'B-6, Lodhi road, Delhi'\n",
    "print(\"5\",list(address))\n",
    "\n",
    "# f. list2.extend(['e', 5]) print(list2)\n",
    "list2.extend(['e', 5])\n",
    "print(\"6\",list2)\n",
    "\n",
    "# g. list2.append(['e', 5]) print(list2)\n",
    "list2.append(['e', 5])\n",
    "print(\"7\",list2)\n",
    "\n",
    "# h. names = ['rohan', 'mohan', 'gita'] names.sort(key=len) print(names)\n",
    "names = ['rohan', 'mohan', 'gita']\n",
    "names.sort(key=len)\n",
    "print(\"8\",names)\n",
    "\n",
    "# i. list3 = [(x * 2) for x in range(1, 11)] print(list3)\n",
    "list3 = [(x * 2) for x in range(1, 11)]\n",
    "print(\"9\",list3)\n",
    "\n",
    "# j. del list3[1:] print(list3)\n",
    "del list3[1:]\n",
    "print(\"10\",list3)\n",
    "\n",
    "# k. list4 = [x + y for x in range(1, 5) for y in range(1, 5)] print(list4)\n",
    "list4 = [x + y for x in range(1, 5) for y in range(1, 5)]\n",
    "print(\"11\",list4)\n",
    "\n",
    "# l. tuple2[3] = 6\n",
    "tuple2 = ([2, 4, 6, 8], [3, 6, 9], [4, 8], 5)\n",
    "# tuple2[3] = 6  # Uncommenting this line will result in an error\n",
    "\n",
    "# m. tuple2.append(5)\n",
    "# tuple2.append(5)  # Uncommenting this line will result in an error\n",
    "\n",
    "# n. t1 = tuple2 + (5)\n",
    "t1 = tuple2 + (5,)\n",
    "print(\"14\",t1)\n",
    "\n",
    "# o. ','.join(tuple1)\n",
    "tuple1 = ('a', 'e', 'i', 'o', 'u')\n",
    "print(\"15\",','.join(tuple1))\n",
    "\n",
    "# p. list(zip(['apple', 'orange'], ('red', 'orange')))\n",
    "print(\"16\",list(zip(['apple', 'orange'], ('red', 'orange'))))\n",
    "\n",
    "# q. dict2['XII']\n",
    "dict2 = {'X': ['eng', 'hindi', 'maths', 'science'], 'XII': ['english', 'physics', 'chemistry', 'maths']}\n",
    "print(\"17\",dict2['XII'])\n",
    "\n",
    "# 18. dict2['XII'].append('computer science'), dict2\n",
    "dict2['XII'].append('computer science')\n",
    "print(\"18\",dict2)\n",
    "\n",
    "# 19. 'red' in dict1\n",
    "dict1 = {'apple': 'red', 'orange': 'orange', 'kiwi': 'green'}\n",
    "print(\"19\",'red' in dict1)\n",
    "\n",
    "# 20. list(dict1.items())\n",
    "print(\"20\",list(dict1.items()))\n",
    "\n",
    "# 21. list(dict2.keys())\n",
    "print(\"21\",list(dict2.keys()))\n",
    "\n",
    "# 22. dict2.get('XI', 'None')\n",
    "print(\"22\",dict2.get('XI', 'None'))\n",
    "\n",
    "# 23. dict1.update({'kiwi': 'green'})\n",
    "dict1.update({'kiwi': 'green'})\n",
    "print(\"23\",dict1)\n"
   ]
  },
  {
   "cell_type": "markdown",
   "metadata": {},
   "source": [
    "<h4>Question 9</h4>\n",
    "<p>Consider the following three sets, namely vehicles, heavyVehicles, and lightVehicles:</p>\n",
    "\n",
    "\n",
    "<br> <code>vehicles = {'Bicycle', 'Scooter', 'Car', 'Bike', 'Truck', 'Bus', 'Rickshaw'}</code>\n",
    "<br> <code>heavyVehicles = {'Truck', 'Bus'}</code>\n",
    "<br> <code>lightVehicles = {'Rickshaw', 'Scooter', 'Bike', 'Bicycle'}</code>\n",
    "\n",
    "\n",
    "<ol>\n",
    "<li><code> lytVehicles = vehicles - heavyVehicles\n",
    "   print(lytVehicles)</code></li>\n",
    "<li><code>hvyVehicles = vehicles - lightVehicles\n",
    "   print(hvyVehicles)</code></li>\n",
    "<li><li><code>averageWeightVehicles = lytVehicles & hvyVehicles\n",
    "   print(averageWeightVehicles)</code></li>\n",
    "<code>transport = lightVehicles | heavyVehicles\n",
    "   print(transport)</code></li>\n",
    "<li><code> transport.add('Car')\n",
    "   print(transport)</code></li>\n",
    "<li><code>for i in vehicles:\n",
    "   print(i)</code></li>\n",
    "<li><code>len(vehicles)</code></li>\n",
    "<li><code>min(vehicles)</code></li>\n",
    "<li><code>set.union(vehicles, lightVehicles, heavyVehicles)</code></li>\n",
    "</ol>\n"
   ]
  },
  {
   "cell_type": "code",
   "execution_count": 3,
   "metadata": {},
   "outputs": [
    {
     "name": "stdout",
     "output_type": "stream",
     "text": [
      "1. lytVehicles: {'Bicycle', 'Bike', 'Scooter', 'Rickshaw', 'Car'}\n",
      "2. hvyVehicles: {'Truck', 'Car', 'Bus'}\n",
      "3. averageWeightVehicles: {'Car'}\n",
      "4. transport: {'Bicycle', 'Bus', 'Bike', 'Rickshaw', 'Truck', 'Scooter'}\n",
      "5. transport: {'Bicycle', 'Bus', 'Bike', 'Rickshaw', 'Car', 'Truck', 'Scooter'}\n",
      "6. Vehicles:\n",
      "Bicycle\n",
      "Bike\n",
      "Bus\n",
      "Scooter\n",
      "Truck\n",
      "Car\n",
      "Rickshaw\n",
      "7. Length of vehicles: 7\n",
      "8. Minimum in vehicles: Bicycle\n",
      "9. Union of sets: {'Bicycle', 'Rickshaw', 'Bus', 'Bike', 'Truck', 'Car', 'Scooter'}\n"
     ]
    }
   ],
   "source": [
    "vehicles = {'Bicycle', 'Scooter', 'Car', 'Bike', 'Truck', 'Bus', 'Rickshaw'}\n",
    "heavyVehicles = {'Truck', 'Bus'}\n",
    "lightVehicles = {'Rickshaw', 'Scooter', 'Bike', 'Bicycle'}\n",
    "\n",
    "lytVehicles = vehicles - heavyVehicles\n",
    "print(\"1. lytVehicles:\", lytVehicles)\n",
    "\n",
    "hvyVehicles = vehicles - lightVehicles\n",
    "print(\"2. hvyVehicles:\", hvyVehicles)\n",
    "\n",
    "averageWeightVehicles = lytVehicles & hvyVehicles\n",
    "print(\"3. averageWeightVehicles:\", averageWeightVehicles)\n",
    "\n",
    "transport = lightVehicles | heavyVehicles\n",
    "print(\"4. transport:\", transport)\n",
    "\n",
    "transport.add('Car')\n",
    "print(\"5. transport:\", transport)\n",
    "\n",
    "print(\"6. Vehicles:\")\n",
    "for i in vehicles:\n",
    "    print(i)\n",
    "\n",
    "print(\"7. Length of vehicles:\", len(vehicles))\n",
    "\n",
    "print(\"8. Minimum in vehicles:\", min(vehicles))\n",
    "\n",
    "union_result = set.union(vehicles, lightVehicles, heavyVehicles)\n",
    "print(\"9. Union of sets:\", union_result)\n"
   ]
  },
  {
   "cell_type": "code",
   "execution_count": null,
   "metadata": {},
   "outputs": [],
   "source": []
  }
 ],
 "metadata": {
  "kernelspec": {
   "display_name": "tf_gpu",
   "language": "python",
   "name": "python3"
  },
  "language_info": {
   "codemirror_mode": {
    "name": "ipython",
    "version": 3
   },
   "file_extension": ".py",
   "mimetype": "text/x-python",
   "name": "python",
   "nbconvert_exporter": "python",
   "pygments_lexer": "ipython3",
   "version": "3.9.0"
  }
 },
 "nbformat": 4,
 "nbformat_minor": 2
}
