{
 "cells": [
  {
   "cell_type": "markdown",
   "metadata": {},
   "source": [
    "## 1. Write a Python function that takes two file names, file1 and file2 as input. \n",
    "   - The function should read the contents of the file file1 line by line.\n",
    "   - It should then write them to another file file2 after adding a newline at the end of each line.\n"
   ]
  },
  {
   "cell_type": "code",
   "execution_count": 7,
   "metadata": {},
   "outputs": [
    {
     "name": "stdout",
     "output_type": "stream",
     "text": [
      "Contents of file1.txt have been successfully copied to file2.txt with newlines.\n"
     ]
    }
   ],
   "source": [
    "def copy_file_contents(file1, file2):\n",
    "    try:\n",
    "        with open(file1, 'r') as f1:\n",
    "            lines = f1.readlines()\n",
    "\n",
    "        with open(file2, 'w') as f2:\n",
    "           \n",
    "            for line in lines:\n",
    "                f2.write(line.rstrip('\\n')+ '\\n' )\n",
    "\n",
    "        print(f\"Contents of {file1} have been successfully copied to {file2} with newlines.\")\n",
    "    except IOError as e:\n",
    "        print(f\"Error: {e}\")\n",
    "\n",
    "if __name__ == \"__main__\":\n",
    "    copy_file_contents('file1.txt', 'file2.txt')\n",
    "\n",
    "    "
   ]
  },
  {
   "cell_type": "markdown",
   "metadata": {},
   "source": [
    "## 2. Write a Python function that reads a file file1 and displays the number of words and the number of vowels in the file.\n"
   ]
  },
  {
   "cell_type": "code",
   "execution_count": 1,
   "metadata": {},
   "outputs": [
    {
     "ename": "SyntaxError",
     "evalue": "invalid syntax (2979951124.py, line 10)",
     "output_type": "error",
     "traceback": [
      "\u001b[1;36m  Cell \u001b[1;32mIn[1], line 10\u001b[1;36m\u001b[0m\n\u001b[1;33m    vowel_count = sum(1 for char in content if char.lower() is in 'aeiou') # generator function\u001b[0m\n\u001b[1;37m                                                               ^\u001b[0m\n\u001b[1;31mSyntaxError\u001b[0m\u001b[1;31m:\u001b[0m invalid syntax\n"
     ]
    }
   ],
   "source": [
    "def analyze_file(file1):\n",
    "    try:\n",
    "       \n",
    "        with open(file1, 'r') as file:\n",
    "          \n",
    "            content = file.read()\n",
    "\n",
    "            word_count = len(content.split())\n",
    "\n",
    "            vowel_count = sum(1 for char in content if char.lower() in 'aeiou') # generator function \n",
    "\n",
    "            print(f\"Number of words in {file1}: {word_count}\")\n",
    "            print(\"Number of words in file1\",word_count)\n",
    "            print(f\"Number of vowels in {file1}: {vowel_count}\")\n",
    "    except IOError as e:\n",
    "        print(f\"Error: {e}\")\n",
    "\n",
    "if __name__ == \"__main__\":\n",
    "    analyze_file('file1.txt')\n",
    "\n"
   ]
  },
  {
   "cell_type": "markdown",
   "metadata": {},
   "source": [
    "## 3. Store User Input in File\n",
    "Write a Python function that takes data to be stored in the file `file1` as interactive input from the user until he responds with nothing as input. Each line (or paragraph) taken as input from the user should be capitalized, and stored in the file `file1`.`"
   ]
  },
  {
   "cell_type": "code",
   "execution_count": 12,
   "metadata": {},
   "outputs": [
    {
     "name": "stdout",
     "output_type": "stream",
     "text": [
      "User input has been stored in file1.txt.\n"
     ]
    }
   ],
   "source": [
    "def store_user_input(file1):\n",
    "    try:\n",
    "        # Open the file for writing\n",
    "        with open(file1, 'w') as file:\n",
    "            while True:\n",
    "                # Take input from the user\n",
    "                user_input = input(\"Enter a line or paragraph (press Enter with an empty line to finish): \")\n",
    "\n",
    "                # Check if the user wants to exit\n",
    "                if not user_input:\n",
    "                    break\n",
    "\n",
    "                # Capitalize the input and store it in the file with a newline\n",
    "                file.write(user_input.capitalize() + '\\n')\n",
    "\n",
    "        print(f\"User input has been stored in {file1}.\")\n",
    "        \n",
    "    except IOError as e:\n",
    "        print(f\"Error: {e}\")\n",
    "\n",
    "if __name__ == \"__main__\":\n",
    "    store_user_input('file1.txt')\n",
    "    \n"
   ]
  },
  {
   "cell_type": "markdown",
   "metadata": {},
   "source": [
    "## 4. Copy Alternative Lines to Another File\n",
    "Write a Python function that reads the file `file1` and copies only alternative lines to another file `file2`. Alternative lines copied should be the odd-numbered lines. Handle all exceptions that can be raised."
   ]
  },
  {
   "cell_type": "code",
   "execution_count": 9,
   "metadata": {},
   "outputs": [
    {
     "name": "stdout",
     "output_type": "stream",
     "text": [
      "Odd-numbered lines from input.txt have been successfully copied to output.txt.\n"
     ]
    }
   ],
   "source": [
    "def copy_alternative_lines(file1, file2):\n",
    "    try:\n",
    "        # Open the first file for reading\n",
    "        with open(file1, 'r') as f1:\n",
    "            # Read the lines from the file\n",
    "            lines = f1.readlines()\n",
    "\n",
    "        # Open the second file for writing\n",
    "        with open(file2, 'w') as f2:\n",
    "            # Write the odd-numbered lines to the second file\n",
    "            for i, line in enumerate(lines, start=1):\n",
    "                if i % 2 != 0:\n",
    "                    f2.write(line)\n",
    "#The enumerate() function provides an index (i) and the corresponding item (line) from lines. \n",
    "# The start=1 parameter specifies that the index should start from 1 (instead of the default, which is 0).\n",
    "\n",
    "        print(f\"Odd-numbered lines from {file1} have been successfully copied to {file2}.\")\n",
    "    except IOError as e:\n",
    "        print(f\"Error: {e}\")\n",
    "\n",
    "# Example usage:\n",
    "copy_alternative_lines('input.txt', 'output.txt')\n"
   ]
  },
  {
   "cell_type": "markdown",
   "metadata": {},
   "source": [
    "## 5. Calculate Price per Unit Weight\n",
    "Write a Python function that takes two files of equal size as input from the user. The first file contains weights of items and the second file contains corresponding prices. Create another file that should contain the price per unit weight for each item.\n"
   ]
  },
  {
   "cell_type": "code",
   "execution_count": 13,
   "metadata": {},
   "outputs": [
    {
     "name": "stdout",
     "output_type": "stream",
     "text": [
      "Price per unit weight has been calculated and stored in result.txt.\n"
     ]
    }
   ],
   "source": [
    "def calculate_price_per_unit_weight(weight_file, price_file, result_file):\n",
    "    try:\n",
    "        # Open the first file for reading (weights)\n",
    "        with open(weight_file, 'r') as w_file:\n",
    "            weights = [float(line.strip()) for line in w_file.readlines()]\n",
    "\n",
    "        # Open the second file for reading (prices)\n",
    "        with open(price_file, 'r') as p_file:\n",
    "            prices = [float(line.strip()) for line in p_file.readlines()]\n",
    "\n",
    "        # Calculate price per unit weight\n",
    "        price_per_unit_weight = [round(price / weight, 2) if weight != 0 else 0 for weight, price in zip(weights, prices)]\n",
    "\n",
    "        # Open the result file for writing\n",
    "        with open(result_file, 'w') as r_file:\n",
    "            # Write the calculated price per unit weight to the result file\n",
    "            for value in price_per_unit_weight:\n",
    "                r_file.write(f'{value}\\n')\n",
    "\n",
    "        print(f\"Price per unit weight has been calculated and stored in {result_file}.\")\n",
    "    except IOError as e:\n",
    "        print(f\"Error: {e}\")\n",
    "\n",
    "# Example usage:\n",
    "calculate_price_per_unit_weight('weights.txt', 'prices.txt', 'result.txt')\n"
   ]
  },
  {
   "cell_type": "markdown",
   "metadata": {},
   "source": [
    "## 6. Analyze Poem.txt\n",
    "Write a Python function that reads the contents of the file `Poem.txt` and counts the number of alphabets, blank spaces, lowercase letters and uppercase letters, the number of words starting with a vowel, and the number of occurrences of the word 'beautiful' in the file.\n"
   ]
  },
  {
   "cell_type": "code",
   "execution_count": 14,
   "metadata": {},
   "outputs": [
    {
     "name": "stdout",
     "output_type": "stream",
     "text": [
      "Number of Alphabets: 505\n",
      "Number of Blank Spaces: 120\n",
      "Number of Lowercase Letters: 472\n",
      "Number of Uppercase Letters: 33\n",
      "Number of Words Starting with a Vowel: 45\n",
      "Number of Occurrences of 'beautiful': 1\n"
     ]
    }
   ],
   "source": [
    "def analyze_poem_file(file_path):\n",
    "    try:\n",
    "        # Open the file for reading\n",
    "        with open(file_path, 'r') as file:\n",
    "            content = file.read()\n",
    "\n",
    "        # Counting the number of alphabets\n",
    "        alphabet_count = sum(c.isalpha() for c in content)\n",
    "\n",
    "        # Counting the number of blank spaces\n",
    "        space_count = content.count(' ')\n",
    "\n",
    "        # Counting the number of lowercase letters\n",
    "        lowercase_count = sum(c.islower() for c in content)\n",
    "\n",
    "        # Counting the number of uppercase letters\n",
    "        uppercase_count = sum(c.isupper() for c in content)\n",
    "\n",
    "        bucket = content.split()\n",
    "        # Counting the number of words starting with a vowel\n",
    "        words_starting_with_vowel = sum(1 for word in bucket if word[0].lower() in 'aeiou')\n",
    "\n",
    "        # Counting the number of occurrences of the word 'beautiful'\n",
    "        beautiful_count = content.lower().count('beautiful')\n",
    "\n",
    "        # Display the results\n",
    "        print(f\"Number of Alphabets: {alphabet_count}\")\n",
    "        print(f\"Number of Blank Spaces: {space_count}\")\n",
    "        print(f\"Number of Lowercase Letters: {lowercase_count}\")\n",
    "        print(f\"Number of Uppercase Letters: {uppercase_count}\")\n",
    "        print(f\"Number of Words Starting with a Vowel: {words_starting_with_vowel}\")\n",
    "        print(f\"Number of Occurrences of 'beautiful': {beautiful_count}\")\n",
    "    except IOError as e:\n",
    "        print(f\"Error: {e}\")\n",
    "\n",
    "# Example usage:\n",
    "analyze_poem_file('Poem.txt')\n"
   ]
  },
  {
   "cell_type": "markdown",
   "metadata": {},
   "source": [
    "## 7. Function `inverse1` Output\n",
    "What will be the output produced on executing function `inverse1` when the following input is entered as the value of variable `num`:\n",
    "- (a) 5 \n",
    "- (b) 0 \n",
    "- (c) 2.0 \n",
    "- (d) x \n",
    "- (e) None\n",
    "\n",
    "```python\n",
    "def inverse1():\n",
    "    try:\n",
    "        num = input('Enter the number: ')\n",
    "        num = float(num)\n",
    "        inverse = 1.0 / num\n",
    "    except ValueError:\n",
    "        print('ValueError')\n",
    "    except TypeError:\n",
    "        print('TypeError')\n",
    "    except ZeroDivisionError:\n",
    "        print('ZeroDivisionError')\n",
    "    except:\n",
    "        print('Any other Error')\n",
    "    else:\n",
    "        print(inverse)\n",
    "    finally:\n",
    "        print('Function inverse completed')```"
   ]
  },
  {
   "cell_type": "code",
   "execution_count": 20,
   "metadata": {},
   "outputs": [
    {
     "name": "stdout",
     "output_type": "stream",
     "text": [
      "ValueError\n",
      "Function inverse completed\n"
     ]
    }
   ],
   "source": [
    "def inverse1():\n",
    "    try:\n",
    "        num = input('Enter the number: ')\n",
    "        num = float(num)\n",
    "        inverse = 1.0 / num\n",
    "\n",
    "    except ValueError:\n",
    "        print('ValueError')\n",
    "    except TypeError:\n",
    "        print('TypeError')\n",
    "    except ZeroDivisionError:\n",
    "        print('ZeroDivisionError')\n",
    "\n",
    "    except:\n",
    "        print('Any other Error')\n",
    "    else:\n",
    "        print(inverse)\n",
    "    finally:\n",
    "        print('Function inverse completed')\n",
    "inverse1()\n"
   ]
  },
  {
   "cell_type": "markdown",
   "metadata": {},
   "source": [
    "### Answers : \n",
    "\n",
    "- (a) **5:** The function will print the result of 1.0/5.0, which is 0.2.\n",
    "- (b) **0:** The function will handle a `ZeroDivisionError` and print 'ZeroDivisionError'.\n",
    "- (c) **2.0:** The function will print the result of 1.0/2.0, which is 0.5.\n",
    "- (d) **x:** The function will handle a `ValueError` (since 'x' cannot be converted to a float) and print 'ValueError'.\n",
    "- (e) **None:** The function will handle a `TypeError` (since None cannot be converted to a float) and print 'TypeError'.\n"
   ]
  },
  {
   "cell_type": "markdown",
   "metadata": {},
   "source": [
    "## 8. Examine the following function percentage:\n",
    "```python\n",
    "def percentage(marks, total):\n",
    "    try:\n",
    "        percent = (marks / total) * 100\n",
    "    except ValueError:\n",
    "        print('ValueError')\n",
    "    except TypeError:\n",
    "        print('TypeError')\n",
    "    except ZeroDivisionError:\n",
    "        print('ZeroDivisionError')\n",
    "    except:\n",
    "        print('Any other Error')\n",
    "    else:\n",
    "        print(percent)\n",
    "    finally:\n",
    "        print('Function percentage completed')\n",
    "```        \n",
    "### Determine the output for the following function calls:\n",
    "- (a) percentage(150.0, 200.0)\n",
    "\n",
    "\n"
   ]
  },
  {
   "cell_type": "code",
   "execution_count": 21,
   "metadata": {},
   "outputs": [],
   "source": [
    "def percentage(marks, total):\n",
    "    try:\n",
    "        percent = (marks / total) * 100\n",
    "    except ValueError:\n",
    "        print('ValueError')\n",
    "    except TypeError:\n",
    "        print('TypeError')\n",
    "    except ZeroDivisionError:\n",
    "        print('ZeroDivisionError')\n",
    "    except:\n",
    "        print('Any other Error')\n",
    "    else:\n",
    "        print(percent)\n",
    "    finally:\n",
    "        print('Function percentage completed')"
   ]
  },
  {
   "cell_type": "code",
   "execution_count": 22,
   "metadata": {},
   "outputs": [
    {
     "name": "stdout",
     "output_type": "stream",
     "text": [
      "75.0\n",
      "Function percentage completed\n"
     ]
    }
   ],
   "source": [
    "\n",
    "percentage(150.0, 200.0)"
   ]
  },
  {
   "cell_type": "markdown",
   "metadata": {},
   "source": [
    "- (b) percentage(150.0, 0.0)\n"
   ]
  },
  {
   "cell_type": "code",
   "execution_count": 23,
   "metadata": {},
   "outputs": [
    {
     "name": "stdout",
     "output_type": "stream",
     "text": [
      "ZeroDivisionError\n",
      "Function percentage completed\n"
     ]
    }
   ],
   "source": [
    "percentage(150.0, 0.0)"
   ]
  },
  {
   "cell_type": "markdown",
   "metadata": {},
   "source": [
    "- (c) percentage('150.0', '200.0')"
   ]
  },
  {
   "cell_type": "code",
   "execution_count": 24,
   "metadata": {},
   "outputs": [
    {
     "name": "stdout",
     "output_type": "stream",
     "text": [
      "TypeError\n",
      "Function percentage completed\n"
     ]
    }
   ],
   "source": [
    "percentage('150.0', '200.0')"
   ]
  },
  {
   "cell_type": "markdown",
   "metadata": {},
   "source": [
    "## 9. Identify two exceptions that may be raised while executing the following statement:\n",
    "\n",
    "<code> result = a + b </code>"
   ]
  },
  {
   "cell_type": "markdown",
   "metadata": {},
   "source": [
    "### Answer\n",
    "The statement `result = a + b` involves addition, and two common exceptions that may be raised during this operation are:\n",
    "\n",
    "1. **TypeError:** This exception is raised when the types of `a` and `b` are not compatible for addition. For example, if `a` is a string and `b` is an integer, attempting to add them would result in a `TypeError`.\n",
    "\n",
    "2. **NameError:** If either `a` or `b` is not defined (i.e., the variable is not assigned any value before this statement), a `NameError` will be raised.\n"
   ]
  },
  {
   "cell_type": "markdown",
   "metadata": {},
   "source": [
    "## 10. Output for File Operations\n",
    "\n",
    "- (a)"
   ]
  },
  {
   "cell_type": "code",
   "execution_count": 18,
   "metadata": {},
   "outputs": [
    {
     "name": "stdout",
     "output_type": "stream",
     "text": [
      "No Problem with Input Output...\n"
     ]
    }
   ],
   "source": [
    "try:\n",
    "    f = open('file1.txt', 'r')\n",
    "except IOError:\n",
    "    print('Problem with Input Output...\\n')\n",
    "else:\n",
    "    print('No Problem with Input Output...')"
   ]
  },
  {
   "cell_type": "markdown",
   "metadata": {},
   "source": [
    "- (b) "
   ]
  },
  {
   "cell_type": "code",
   "execution_count": 27,
   "metadata": {},
   "outputs": [
    {
     "name": "stdout",
     "output_type": "stream",
     "text": [
      "Problem with Input Output...\n",
      "\n"
     ]
    }
   ],
   "source": [
    "try:\n",
    "    f = open('file1.txt', 'w')\n",
    "except IOError:\n",
    "    print('Problem with Input Output...\\n')\n",
    "else:\n",
    "    print('No Problem with Input Output...\\n')\n"
   ]
  },
  {
   "cell_type": "markdown",
   "metadata": {},
   "source": [
    "## 11. Consider the following program. Check for the error (if any), otherwise write the output.\n",
    "\n"
   ]
  },
  {
   "cell_type": "code",
   "execution_count": 32,
   "metadata": {},
   "outputs": [
    {
     "name": "stdout",
     "output_type": "stream",
     "text": [
      " ”i am great ” and  ” and nameesha is my love \n"
     ]
    }
   ],
   "source": [
    "f=open('PYTHON.txt','w')\n",
    "f.write(' ”i am great ” and ')\n",
    "f.write(' ” and nameesha is my love ')\n",
    "f=open('PYTHON.txt','r')\n",
    "print(f.read())\n",
    "f.close()"
   ]
  },
  {
   "cell_type": "markdown",
   "metadata": {},
   "source": [
    "## 12. Consider the following program. Check for the error (if any), otherwise write the output.\n",
    "\n"
   ]
  },
  {
   "cell_type": "code",
   "execution_count": 23,
   "metadata": {},
   "outputs": [],
   "source": [
    "\n",
    "f=open('file1.txt','r')\n",
    "f.write('”work is worship”')\n",
    "f.close()\n"
   ]
  },
  {
   "cell_type": "markdown",
   "metadata": {},
   "source": [
    "### HOW TO FIX :  Open the file in write mode ('w') instead of read mode ('r')"
   ]
  },
  {
   "cell_type": "markdown",
   "metadata": {},
   "source": [
    "## 13. Consider the following program.Write the output.\n",
    "- (a). \n"
   ]
  },
  {
   "cell_type": "code",
   "execution_count": 33,
   "metadata": {},
   "outputs": [
    {
     "name": "stdout",
     "output_type": "stream",
     "text": [
      "suck\n"
     ]
    }
   ],
   "source": [
    "\n",
    "f=open('PYTHON','w')\n",
    "f.write('suckcess')\n",
    "f = open('PYTHON', 'r')\n",
    "print(f.read(4))\n",
    "f.close()\n"
   ]
  },
  {
   "cell_type": "markdown",
   "metadata": {},
   "source": [
    "- (b). \n"
   ]
  },
  {
   "cell_type": "code",
   "execution_count": 27,
   "metadata": {},
   "outputs": [
    {
     "name": "stdout",
     "output_type": "stream",
     "text": [
      "failure is a part of success\n"
     ]
    }
   ],
   "source": [
    "f=open('PYTHON','w')\n",
    "f.write('failure is a part of success')\n",
    "f = open('PYTHON', 'r')\n",
    "print(f.read())\n",
    "f.close()"
   ]
  },
  {
   "cell_type": "markdown",
   "metadata": {},
   "source": [
    "## 14. Consider the following program.Write the output.\n"
   ]
  },
  {
   "cell_type": "code",
   "execution_count": 37,
   "metadata": {},
   "outputs": [
    {
     "name": "stdout",
     "output_type": "stream",
     "text": [
      "failure is a part of success also, i am fine\n",
      "\n"
     ]
    }
   ],
   "source": [
    "f=open('PYTHON','w')\n",
    "f.write('failure is a part of success also, i am fine\\n ')\n",
    "f = open('PYTHON', 'r')\n",
    "print(f.readline())\n",
    "f.close()"
   ]
  },
  {
   "cell_type": "markdown",
   "metadata": {},
   "source": [
    "## 15. Consider the following program.Write the output.\n"
   ]
  },
  {
   "cell_type": "code",
   "execution_count": 29,
   "metadata": {},
   "outputs": [
    {
     "name": "stdout",
     "output_type": "stream",
     "text": [
      "we either choose the pain of discipline \n",
      "or\n",
      "the pain of regret\n",
      "\n"
     ]
    }
   ],
   "source": [
    "f = open('PYTHON', 'w')\n",
    "description =['we either choose the pain of discipline \\n', 'or\\n' 'the pain of regret\\n']\n",
    "f.writelines(description)\n",
    "f.close()\n",
    "f = open('PYTHON', 'r')\n",
    "print(f.read())\n",
    "f.close()"
   ]
  }
 ],
 "metadata": {
  "kernelspec": {
   "display_name": "tf_gpu",
   "language": "python",
   "name": "python3"
  },
  "language_info": {
   "codemirror_mode": {
    "name": "ipython",
    "version": 3
   },
   "file_extension": ".py",
   "mimetype": "text/x-python",
   "name": "python",
   "nbconvert_exporter": "python",
   "pygments_lexer": "ipython3",
   "version": "3.9.0"
  }
 },
 "nbformat": 4,
 "nbformat_minor": 2
}
