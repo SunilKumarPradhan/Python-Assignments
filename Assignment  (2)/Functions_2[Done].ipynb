{
 "cells": [
  {
   "cell_type": "markdown",
   "metadata": {},
   "source": [
    "<h4>Question 1</h4>\n",
    "<p>What will be the output produced by each of the following function calls:\n",
    "<ol>\n",
    "  <li>a. <code>math.ceil(65.65)</code></li>\n",
    "  <li>b. <code>math.ceil(65.47)</code></li>\n",
    "  <li>c. <code>math.fabs(-67.58)</code></li>\n",
    "  <li>d. <code>math.fabs(3)</code></li>\n",
    "  <li>e. <code>math.exp(2.7)</code></li>\n",
    "  <li>f. <code>math.log(45, 2)</code></li>\n",
    "  <li>g. <code>math.log10(1000)</code></li>\n",
    "  <li>h. <code>math.pow(4, 1/2)</code></li>\n",
    "  <li>i. <code>math.sqrt(121)</code></li>\n",
    "  <li>j. <code>math.radians(30)</code></li>\n",
    "  <li>k. <code>math.degrees(math.pi/2)</code></li>\n",
    "</ol></p>"
   ]
  },
  {
   "cell_type": "code",
   "execution_count": 3,
   "metadata": {},
   "outputs": [
    {
     "name": "stdout",
     "output_type": "stream",
     "text": [
      "a. 66\n",
      "b. 66\n",
      "c. 67.58\n",
      "d. 3\n",
      "e. 14.879731724872837\n",
      "f. 5.491853096329675\n",
      "g. 3.0\n",
      "h. 2.0\n",
      "i. 11.0\n",
      "j. 0.5235987755982988\n",
      "k. 90.0\n"
     ]
    }
   ],
   "source": [
    "import math\n",
    "\n",
    "print(\"a.\", math.ceil(65.65))\n",
    "print(\"b.\", math.ceil(65.47))\n",
    "print(\"c.\", math.fabs(-67.58))\n",
    "print(\"d.\", math.fabs(3))\n",
    "print(\"e.\", math.exp(2.7)) #e^2.7\n",
    "print(\"f.\", math.log(45, 2))\n",
    "print(\"g.\", math.log10(1000))\n",
    "print(\"h.\", math.pow(4, 1/2))\n",
    "print(\"i.\", math.sqrt(121))\n",
    "print(\"j.\", math.radians(30)) #30 degrees to radians\n",
    "print(\"k.\", math.degrees(math.pi/2))\n"
   ]
  },
  {
   "cell_type": "markdown",
   "metadata": {},
   "source": [
    "\n",
    "\n",
    "<h4>Question 2</h4>\n",
    "<p>Give the range in which the value of variable x may lie on the execution of the following statements:\n",
    "<br><code>import random\n",
    "x = random.random() + 5</code></p>"
   ]
  },
  {
   "cell_type": "code",
   "execution_count": 1,
   "metadata": {},
   "outputs": [
    {
     "name": "stdout",
     "output_type": "stream",
     "text": [
      "5.436560631427501\n"
     ]
    }
   ],
   "source": [
    "import random\n",
    "# Generate a random float between 0.0 (inclusive) and 1.0 (exclusive)\n",
    "# Add 5 to the random value\n",
    "x = random.random() +  5\n",
    "\n",
    "#resulting in a range of [5.0, 6.0)\n",
    "print(x)\n",
    "# The range is explicitly shown as [5.0, 6.0), where the square bracket ] denotes inclusion, and the round bracket ) denotes exclusion."
   ]
  },
  {
   "cell_type": "markdown",
   "metadata": {},
   "source": [
    "<h4>Question 3</h4>\n",
    "<p>Evaluate the following expressions using Python shell. Assume that the ASCII coding scheme is used for character data:\n",
    "<ol>\n",
    "  <li>a. <code>abs(-5.4)</code></li>\n",
    "  <li>b. <code>abs(15)</code></li>\n",
    "  <li>c. <code>chr(72)</code></li>\n",
    "  <li>d. <code>round(-24.9)</code></li>\n",
    "  <li>e. <code>float(57)</code></li>\n",
    "  <li>f. <code>complex('1+2j')</code></li>\n",
    "  <li>g. <code>divmod(5,2)</code></li>\n",
    "  <li>h. <code>float(57)</code></li>\n",
    "  <li>i. <code>pow(9,2)</code></li>\n",
    "  <li>j. <code>max(97, 88, 60)</code></li>\n",
    "  <li>k. <code>min(55, 29, 99)</code></li>\n",
    "  <li>l. <code>max('a', 'b', 'AB')</code></li>\n",
    "</ol></p>"
   ]
  },
  {
   "cell_type": "code",
   "execution_count": 2,
   "metadata": {},
   "outputs": [
    {
     "name": "stdout",
     "output_type": "stream",
     "text": [
      "a. 5.4\n",
      "b. 15\n",
      "c. H\n",
      "d. -25\n",
      "e. 57.0\n",
      "f. (1+2j)\n",
      "g. (2, 1)\n",
      "h. 57.0\n",
      "i. 81\n",
      "j. 97\n",
      "k. 29\n",
      "l. b\n"
     ]
    }
   ],
   "source": [
    "print(\"a.\", abs(-5.4))\n",
    "print(\"b.\", abs(15))\n",
    "print(\"c.\", chr(72))\n",
    "print(\"d.\", round(-24.9))\n",
    "print(\"e.\", float(57))\n",
    "print(\"f.\", complex('1+2j'))\n",
    "print(\"g.\", divmod(5, 2)) #returns quotient and remainder\n",
    "print(\"h.\", float(57))\n",
    "print(\"i.\", pow(9, 2))\n",
    "print(\"j.\", max(97, 88, 60))\n",
    "print(\"k.\", min(55, 29, 99))\n",
    "print(\"l.\", max('a', 'b', 'AB')) #returns the max value based on ASCII value\n"
   ]
  },
  {
   "cell_type": "markdown",
   "metadata": {},
   "source": [
    "<h4>Question 4</h4>\n",
    "<p>Consider the following function:\n",
    "<br><code>def nMultiple(a=0, num=1):\n",
    "return a * num</code>\n",
    "What will be the output produced when the following calls are made:\n",
    "<ol>\n",
    "  <li>a. <code>nMultiple(5)</code></li>\n",
    "  <li>b. <code>nMultiple(5, 6)</code></li>\n",
    "  <li>c. <code>nMultiple(num=7)</code></li>\n",
    "  <li>d. <code>nMultiple(num=6, a=5)</code></li>\n",
    "  <li>e. <code>nMultiple(5, num=6)</code></li>\n",
    "</ol></p>"
   ]
  },
  {
   "cell_type": "code",
   "execution_count": 3,
   "metadata": {},
   "outputs": [
    {
     "name": "stdout",
     "output_type": "stream",
     "text": [
      "5\n",
      "30\n",
      "0\n",
      "30\n",
      "30\n"
     ]
    }
   ],
   "source": [
    "def nMultiple(a = 0, num = 1):\n",
    "        return a*num\n",
    "\n",
    "print(nMultiple(5))\n",
    "#In this call, a is assigned the value 5, and num takes its default value of 1. The function returns the product of a * num, which is 5.\n",
    "\n",
    "print(nMultiple(5, 6))\n",
    "#In this call, a is assigned the value 5, and num is assigned the value 6. The function returns the product of a * num, which is 30.\n",
    "\n",
    "print(nMultiple(num = 7))\n",
    "#In this call, a takes its default value of 0, and num is assigned the value 7. The function returns the product of a * num, which is 0.\n",
    "\n",
    "print(nMultiple(num = 6, a = 5))\n",
    "#In this call, a is assigned the value 5, and num is assigned the value 6. The function returns the product of a * num, which is 30.\n",
    "\n",
    "print(nMultiple(5, num = 6))\n",
    "#In this call, a is assigned the value 5, and num is assigned the value 6. The function returns the product of a * num, which is 30."
   ]
  },
  {
   "cell_type": "markdown",
   "metadata": {},
   "source": [
    "<h4>Question 5</h4>\n",
    "<p>Develop Python functions to produce the following outputs:\n"
   ]
  },
  {
   "cell_type": "code",
   "execution_count": 4,
   "metadata": {},
   "outputs": [
    {
     "data": {
      "text/plain": [
       "'\\n   *\\n  ***\\n *****\\n  ***\\n   *\\n   '"
      ]
     },
     "execution_count": 4,
     "metadata": {},
     "output_type": "execute_result"
    }
   ],
   "source": [
    "'''\n",
    "   *\n",
    "  ***\n",
    " *****\n",
    "  ***\n",
    "   *\n",
    "   '''"
   ]
  },
  {
   "cell_type": "code",
   "execution_count": 5,
   "metadata": {},
   "outputs": [
    {
     "name": "stdout",
     "output_type": "stream",
     "text": [
      "   *\n",
      "  ***\n",
      " *****\n",
      "*******\n"
     ]
    }
   ],
   "source": [
    "def printHorizontaldiamond(size):\n",
    "    for i in range(size):\n",
    "        print(\" \"*(size-i-1) + \"*\"*(2*i+1))\n",
    "\n",
    "   # for i in range(size-2, -1, -1):\n",
    "    #    print(\" \"*(size-i-1) + \"*\"*(2*i+1))\n",
    "\n",
    "# Example usage with a diamond of size 5\n",
    "printHorizontaldiamond(4)\n",
    "\n"
   ]
  },
  {
   "cell_type": "code",
   "execution_count": null,
   "metadata": {},
   "outputs": [],
   "source": [
    "#$ $ $ $ $ \n",
    "#$       $ \n",
    "#$       $ \n",
    "#$       $ \n",
    "#$ $ $ $ $"
   ]
  },
  {
   "cell_type": "code",
   "execution_count": 3,
   "metadata": {},
   "outputs": [
    {
     "name": "stdout",
     "output_type": "stream",
     "text": [
      "$ $ $ $ $ \n",
      "$       $ \n",
      "$       $ \n",
      "$       $ \n",
      "$ $ $ $ $ \n"
     ]
    }
   ],
   "source": [
    "def printSquareBoundary(size):\n",
    "    for i in range(size):\n",
    "        for j in range(size):\n",
    "            if i == 0 or i == size - 1 or j == 0 or j == size - 1:\n",
    "                print(\"$\", end=\" \")\n",
    "            else:\n",
    "                print(\" \", end=\" \")\n",
    "        print()\n",
    "\n",
    "# Example usage with a square of size 5\n",
    "printSquareBoundary(5)\n"
   ]
  },
  {
   "cell_type": "markdown",
   "metadata": {},
   "source": [
    "<h4>Question 6</h4>\n",
    "<p>Study the program segments given below. Give the output produced, if any:\n",
    "<ol>\n",
    "  <li>a. <code>\n",
    "<br>def test(a, b):\n",
    "<br>a = a + b\n",
    "<br>b = a - b\n",
    "<br>a = a - b\n",
    "<br>print('a =', a)\n",
    "<br>print('b =', b)\n",
    "<br>test(5, 8)</code></li>\n",
    "\n",
    "<li>b. <code>def func():\n",
    "<br>pass\n",
    "<br>a = func()\n",
    "<br>print(a)</code></li>\n",
    "</ol></p>"
   ]
  },
  {
   "cell_type": "code",
   "execution_count": 6,
   "metadata": {},
   "outputs": [
    {
     "name": "stdout",
     "output_type": "stream",
     "text": [
      "a = 8\n",
      "b = 5\n"
     ]
    }
   ],
   "source": [
    "def test(a, b):\n",
    "    a = a + b\n",
    "    b = a - b\n",
    "    a = a - b\n",
    "    print('a =', a)\n",
    "    print('b =', b)\n",
    "test(5, 8)"
   ]
  },
  {
   "cell_type": "code",
   "execution_count": 7,
   "metadata": {},
   "outputs": [
    {
     "name": "stdout",
     "output_type": "stream",
     "text": [
      "None\n"
     ]
    }
   ],
   "source": [
    "def func():\n",
    "    pass\n",
    "a = func()\n",
    "print(a)"
   ]
  },
  {
   "cell_type": "markdown",
   "metadata": {},
   "source": [
    "<h4>Question 7</h4>\n",
    "<p>Write a function <code>areaTriangle</code> that takes the lengths of three sides: <code>side1</code>, <code>side2</code>, and <code>side3</code> of the triangle as the input parameters and returns the area of the triangle as the output. Also, assert that the sum of the length of any two sides is greater than the third side. Write a function <code>main</code> that accepts inputs from the user interactively and computes the area of the triangle using the function <code>areaTriangle</code>.</p>\n",
    "\n"
   ]
  },
  {
   "cell_type": "code",
   "execution_count": 8,
   "metadata": {},
   "outputs": [
    {
     "name": "stdout",
     "output_type": "stream",
     "text": [
      "The area of the triangle is 1465.8881906543895\n"
     ]
    }
   ],
   "source": [
    "import math\n",
    "\n",
    "def areaTriangle(side1, side2, side3):\n",
    "    assert side1 + side2 > side3 and side2 + side3 > side1 and side1 + side3 > side2, \"Input sides do not form a triangle\"\n",
    "    s = (side1 + side2 + side3) / 2\n",
    "    area = math.sqrt(s * (s - side1) * (s - side2) * (s - side3))\n",
    "    \n",
    "    return area\n",
    "\n",
    "def main():\n",
    "    # Get user input\n",
    "    side1 = float(input(\"Enter length of side 1: \"))\n",
    "    side2 = float(input(\"Enter length of side 2: \"))\n",
    "    side3 = float(input(\"Enter length of side 3: \"))\n",
    "    area = areaTriangle(side1, side2, side3)\n",
    "    print(\"The area of the triangle is\", area)\n",
    "main()"
   ]
  },
  {
   "cell_type": "markdown",
   "metadata": {},
   "source": [
    "<h4>Question 8</h4>\n",
    "<p>Write a function to print the table of entered number.</p>"
   ]
  },
  {
   "cell_type": "code",
   "execution_count": 14,
   "metadata": {},
   "outputs": [
    {
     "name": "stdout",
     "output_type": "stream",
     "text": [
      "Multiplication table for 8:\n",
      "8 x  1 =  8\n",
      "8 x  2 = 16\n",
      "8 x  3 = 24\n",
      "8 x  4 = 32\n",
      "8 x  5 = 40\n",
      "8 x  6 = 48\n",
      "8 x  7 = 56\n",
      "8 x  8 = 64\n",
      "8 x  9 = 72\n",
      "8 x 10 = 80\n"
     ]
    }
   ],
   "source": [
    "def printMultiplicationTable(number):\n",
    "    # Print the header\n",
    "    print(f\"Multiplication table for {number}:\")\n",
    "\n",
    "    # Print the table with aligned columns\n",
    "    for i in range(1, 11):\n",
    "        result = number * i\n",
    "        print(f\"{number} x {i:2} = {result:2}\")  # Align columns using format specifier\n",
    "        \n",
    "n = int(input(\"Enter a number: \"))\n",
    "printMultiplicationTable(n)\n"
   ]
  },
  {
   "cell_type": "markdown",
   "metadata": {},
   "source": [
    "<h4>Question 9</h4>\n",
    "<p>Study the program segments given below. Give the output produced, if any:\n",
    "<ol>\n",
    "  <li>a. <code>def say(message, times=2):\n",
    "print(message * times)\n",
    "say('Hello')</code></li>\n",
    "  <li>b. <code>def fun(a=2, b=3, c=7):\n",
    "d = a + b + c\n",
    "print(d)\n",
    "print(fun(2))</code></li>\n",
    "</ol></p>"
   ]
  },
  {
   "cell_type": "code",
   "execution_count": 9,
   "metadata": {},
   "outputs": [
    {
     "name": "stdout",
     "output_type": "stream",
     "text": [
      "HelloHello\n",
      "WorldWorldWorldWorldWorld\n"
     ]
    }
   ],
   "source": [
    "def say (message, times=2):\n",
    "    print(message*times)\n",
    "say ('Hello')\n",
    "say('World',5)"
   ]
  },
  {
   "cell_type": "markdown",
   "metadata": {},
   "source": [
    "<h4>Question 10</h4>\n",
    "<p>Find the sum of even digits of a four-digit number using function.\n",
    "Warning: Don’t use control structures.</p>\n"
   ]
  },
  {
   "cell_type": "code",
   "execution_count": 10,
   "metadata": {},
   "outputs": [
    {
     "name": "stdout",
     "output_type": "stream",
     "text": [
      "The sum of even digits in 1234 is: 6\n"
     ]
    }
   ],
   "source": [
    "def sum_of_even_digits(number):\n",
    "    # Base case: if the number is 0, return 0\n",
    "    if number == 0:\n",
    "        return 0\n",
    "    \n",
    "    # Extract the last digit\n",
    "    last_digit = number % 10\n",
    "    \n",
    "    remaining_sum = sum_of_even_digits(number // 10)\n",
    "    \n",
    "    return remaining_sum + (last_digit if last_digit % 2 == 0 else 0)\n",
    "\n",
    "user_input = int(input(\"Enter a four-digit number: \"))\n",
    "result = sum_of_even_digits(user_input)\n",
    "\n",
    "print(f\"The sum of even digits in {user_input} is: {result}\")\n"
   ]
  },
  {
   "cell_type": "code",
   "execution_count": 16,
   "metadata": {},
   "outputs": [
    {
     "name": "stdout",
     "output_type": "stream",
     "text": [
      "The sum of even digits in 1234 is: 6\n"
     ]
    }
   ],
   "source": [
    "def sum_of_even_digits(number):\n",
    "  \n",
    "    even_digits = [int(digit) for digit in str(number) if int(digit) % 2 == 0]\n",
    "    \n",
    "    \n",
    "    return sum(even_digits)\n",
    "\n",
    "\n",
    "user_input = input(\"Enter a four-digit number: \")\n",
    "\n",
    "\n",
    "if user_input.isdigit() and len(user_input) == 4:\n",
    "    result = sum_of_even_digits(int(user_input))\n",
    "    print(f\"The sum of even digits in {user_input} is: {result}\")\n",
    "    \n",
    "else:\n",
    "    print(\"Please enter a valid four-digit number.\")\n"
   ]
  },
  {
   "cell_type": "markdown",
   "metadata": {},
   "source": [
    "<h4>Question 11</h4>\n",
    "<p>Using a function evaluate the value of the arithmetic expression taken from the user.\n",
    "Hint: Expression will act as an argument while defining function.</p>"
   ]
  },
  {
   "cell_type": "code",
   "execution_count": 18,
   "metadata": {},
   "outputs": [
    {
     "name": "stdout",
     "output_type": "stream",
     "text": [
      "Result of the expression : 4\n"
     ]
    }
   ],
   "source": [
    "def evaluate_expression(expression):\n",
    "        result = eval(expression)\n",
    "        return result\n",
    "\n",
    "# Example usage\n",
    "user_input = input(\"Enter an arithmetic expression: \")\n",
    "print(\"Result of the expression :\", evaluate_expression(user_input))\n"
   ]
  },
  {
   "cell_type": "markdown",
   "metadata": {},
   "source": [
    "<h4>Question 12</h4>\n",
    "<p>What does a function return by default in Python? Define a function that does not return any value, store the function call in a variable and check the value of that variable.</p>\n"
   ]
  },
  {
   "cell_type": "code",
   "execution_count": 19,
   "metadata": {},
   "outputs": [
    {
     "name": "stdout",
     "output_type": "stream",
     "text": [
      "This function does not have a return statement.\n",
      "Value of the variable: None\n"
     ]
    }
   ],
   "source": [
    "def function_without_return():\n",
    "    print(\"This function does not have a return statement.\")\n",
    "\n",
    "# Call the function and store the result in a variable\n",
    "result_variable = function_without_return()\n",
    "\n",
    "# Check the value of the variable\n",
    "print(\"Value of the variable:\", result_variable)\n"
   ]
  },
  {
   "cell_type": "markdown",
   "metadata": {},
   "source": [
    "<h4>Question 13</h4>\n",
    "<p>Write a function which takes coordinates of three points as input and returns true if points are collinear otherwise returns false.</p>\n"
   ]
  },
  {
   "cell_type": "code",
   "execution_count": 20,
   "metadata": {},
   "outputs": [
    {
     "name": "stdout",
     "output_type": "stream",
     "text": [
      "False\n",
      "The points are not collinear.\n"
     ]
    }
   ],
   "source": [
    "def are_points_collinear(x1, y1, x2, y2, x3, y3):\n",
    "    # Check if the slopes between any two pairs are equal\n",
    "    slope1 = (y2 - y1) / (x2 - x1) \n",
    "     #float('inf'): way to represent positive infinity in Python.\n",
    "    slope2 = (y3 - y2) / (x3 - x2) \n",
    "    slope3 = (y3 - y1) / (x3 - x1) \n",
    "\n",
    "    return slope1 == slope2 == slope3\n",
    "\n",
    "# Example usage:\n",
    "x1, y1 = map(int, input(\"Enter coordinates of point 1 (x y): \").split())\n",
    "x2, y2 = map(int, input(\"Enter coordinates of point 2 (x y): \").split())\n",
    "x3, y3 = map(int, input(\"Enter coordinates of point 3 (x y): \").split())\n",
    "\n",
    "result = are_points_collinear(x1, y1, x2, y2, x3, y3)\n",
    "print(result)\n",
    "\n",
    "if result:\n",
    "    print(\"The points are collinear.\")\n",
    "else:\n",
    "    print(\"The points are not collinear.\")\n"
   ]
  },
  {
   "cell_type": "markdown",
   "metadata": {},
   "source": [
    "<h4>Question 14</h4>\n",
    "<p>Write a function named as ‘UpperCase’ which converts the lower case alphabet to uppercase alphabet. Also, assert that the entered alphabet by the user is a valid lowercase alphabet. Write a function <code>main</code> that accepts inputs from the user interactively and converts the lowercase alphabet to uppercase using the function ‘UpperCase’.</p>\n"
   ]
  },
  {
   "cell_type": "code",
   "execution_count": 26,
   "metadata": {},
   "outputs": [
    {
     "name": "stdout",
     "output_type": "stream",
     "text": [
      "The uppercase of l is L\n"
     ]
    }
   ],
   "source": [
    "def main():\n",
    "    lowercase_char = input(\"Enter a lowercase alphabet: \")\n",
    "    assert 'a' <= lowercase_char <= 'z', \"Input is not a lowercase alphabet!\"\n",
    "    uppercase_char = Uppercase(lowercase_char)\n",
    "    print(\"The uppercase of\", lowercase_char, \"is\", uppercase_char)\n",
    "\n",
    "def Uppercase(lowercase_char):\n",
    "    uppercase_char = lowercase_char.upper()\n",
    "    return uppercase_char\n",
    "\n",
    "main()"
   ]
  },
  {
   "cell_type": "markdown",
   "metadata": {},
   "source": [
    "<h4>Question 15</h4>\n",
    "<p>Observe carefully the below function:\n",
    "<br><code>def fun(a=0, b=1):\n",
    "return (a**2 + b**2)\n",
    "</code>\n",
    "What will be the output for each call made below?\n",
    "<ol>\n",
    "  <li>a.) <code>fun(2, a=3)</code></li>\n",
    "  <li>b.) <code>fun(b=3, 2)</code></li>\n",
    "  <li>c.) <code>fun(3, b=2)</code></li>\n",
    "  <li>d.) <code>fun(a=4, 5)</code></li>\n",
    "</ol></p>"
   ]
  },
  {
   "cell_type": "code",
   "execution_count": 29,
   "metadata": {},
   "outputs": [
    {
     "ename": "TypeError",
     "evalue": "fun() got multiple values for argument 'a'",
     "output_type": "error",
     "traceback": [
      "\u001b[1;31m---------------------------------------------------------------------------\u001b[0m",
      "\u001b[1;31mTypeError\u001b[0m                                 Traceback (most recent call last)",
      "Cell \u001b[1;32mIn[29], line 5\u001b[0m\n\u001b[0;32m      2\u001b[0m     \u001b[38;5;28;01mreturn\u001b[39;00m (a\u001b[38;5;241m*\u001b[39m\u001b[38;5;241m*\u001b[39m\u001b[38;5;241m2\u001b[39m \u001b[38;5;241m+\u001b[39m b\u001b[38;5;241m*\u001b[39m\u001b[38;5;241m*\u001b[39m\u001b[38;5;241m2\u001b[39m)\n\u001b[0;32m      4\u001b[0m \u001b[38;5;66;03m#TypeError:The error is due to providing a value for a both as a positional argument(2) and as a keyword argument(a=3) in the same function call.\u001b[39;00m\n\u001b[1;32m----> 5\u001b[0m output_a \u001b[38;5;241m=\u001b[39m \u001b[43mfun\u001b[49m\u001b[43m(\u001b[49m\u001b[38;5;241;43m2\u001b[39;49m\u001b[43m,\u001b[49m\u001b[43m \u001b[49m\u001b[43ma\u001b[49m\u001b[38;5;241;43m=\u001b[39;49m\u001b[38;5;241;43m3\u001b[39;49m\u001b[43m)\u001b[49m\n\u001b[0;32m      6\u001b[0m \u001b[38;5;28;01mcontinue\u001b[39;00m\n\u001b[0;32m      7\u001b[0m \u001b[38;5;28mprint\u001b[39m(\u001b[38;5;124m\"\u001b[39m\u001b[38;5;124ma. Output: \u001b[39m\u001b[38;5;124m\"\u001b[39m,output_a)\n",
      "\u001b[1;31mTypeError\u001b[0m: fun() got multiple values for argument 'a'"
     ]
    }
   ],
   "source": [
    "def fun(a=0, b=1):\n",
    "    return (a**2 + b**2)\n",
    "\n",
    "#TypeError:The error is due to providing a value for a both as a positional argument(2) and as a keyword argument(a=3) in the same function call.\n",
    "output_a = fun(2, a=3)\n",
    "continue\n",
    "print(\"a. Output: \",output_a)\n",
    "\n",
    "output_b = fun(a=2, b=3)\n",
    "print(\"b. Output:\" ,output_b)\n",
    "\n",
    "output_c = fun(3, b=2)\n",
    "print(\"c. Output:\",output_c)\n",
    "\n",
    "output_d = fun(a=4, b=5)\n",
    "print(\"d. Output:\", output_d)\n"
   ]
  },
  {
   "cell_type": "markdown",
   "metadata": {},
   "source": [
    "<h4>Question 16</h4>\n",
    "<p>What will be the output of the following code?\n",
    "<code>x = -5\n",
    "def display(x):\n",
    "print(x)\n",
    "x = 5\n",
    "print(x)\n",
    "display(x)\n",
    "print(x)\n",
    "</code>\n",
    "<ol>\n",
    "  <li>a. -5, 5, -5</li>\n",
    "  <li>b. -5, 5, 5</li>\n",
    "  <li>c. -5, -5, -5</li>\n",
    "  <li>d. None of these.</li>\n",
    "</ol></p>"
   ]
  },
  {
   "cell_type": "code",
   "execution_count": 30,
   "metadata": {},
   "outputs": [
    {
     "name": "stdout",
     "output_type": "stream",
     "text": [
      "-5\n",
      "-5\n",
      "-5\n"
     ]
    }
   ],
   "source": [
    "x = -5\n",
    "def display(x):\n",
    "    print(x)\n",
    "    x = 5\n",
    "print(x) # prints -5\n",
    "display(x) # prints -5 due to print(x) inside the function\n",
    "print(x) # prints -5 because the x(=5) inside the function is local to the function"
   ]
  },
  {
   "cell_type": "markdown",
   "metadata": {},
   "source": [
    "<h4>Question 17</h4>\n",
    "<p>What will be the output of the following Python code?\n",
    "<code>int('89.67')</code>\n",
    "<ol>\n",
    "  <li>a. Import Error</li>\n",
    "  <li>b. Value Error</li>\n",
    "  <li>c. Type Error</li>\n",
    "  <li>d. Name Error</li>\n",
    "</ol></p>"
   ]
  },
  {
   "cell_type": "code",
   "execution_count": null,
   "metadata": {},
   "outputs": [],
   "source": [
    "print(int('89.67'))"
   ]
  },
  {
   "cell_type": "markdown",
   "metadata": {},
   "source": [
    "The provided Python code attempts to convert the string '89.67' to an integer using the int() function. However, since the string contains a decimal point, which is not allowed in an integer conversion, it will raise a ValueError."
   ]
  },
  {
   "cell_type": "markdown",
   "metadata": {},
   "source": [
    "<h4>Question 18</h4>\n",
    "<p>Create the following scripts <code>importedModule</code> and <code>mainModule</code> in the working directory, execute the script <code>mainModule</code> and justify the output.\n",
    "<ul>\n",
    "  <li><code>importedModule.py</code>\n",
    "    <pre>\n",
    "    <code>\n",
    "def test1():\n",
    "    print('test1 in imported module')\n",
    "\n",
    "def test2():\n",
    "    print('test2 in imported module')\n",
    "\n",
    "test1()\n",
    "test2()\n",
    "    </code>\n",
    "    </pre>\n",
    "  </li>\n",
    "  <li><code>mainModule.py</code>\n",
    "    <pre>\n",
    "    <code>\n",
    "import importedModule\n",
    "print('hello')\n",
    "    </code>\n",
    "    </pre>\n",
    "  </li>\n",
    "</ul></p>"
   ]
  },
  {
   "cell_type": "markdown",
   "metadata": {},
   "source": [
    "OUTPUT:\n",
    "\n",
    "test1 in imported module\n",
    "\n",
    "test2 in imported module\n",
    "\n",
    "hello"
   ]
  },
  {
   "cell_type": "markdown",
   "metadata": {},
   "source": []
  }
 ],
 "metadata": {
  "kernelspec": {
   "display_name": "tf_gpu",
   "language": "python",
   "name": "python3"
  },
  "language_info": {
   "codemirror_mode": {
    "name": "ipython",
    "version": 3
   },
   "file_extension": ".py",
   "mimetype": "text/x-python",
   "name": "python",
   "nbconvert_exporter": "python",
   "pygments_lexer": "ipython3",
   "version": "3.9.0"
  }
 },
 "nbformat": 4,
 "nbformat_minor": 2
}
