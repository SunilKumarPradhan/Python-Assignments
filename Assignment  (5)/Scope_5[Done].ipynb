{
 "cells": [
  {
   "cell_type": "markdown",
   "metadata": {},
   "source": [
    "\"Scope\" in programming defines where a specific identifier, like a variable or function name, is accessible. The LEGB rule governs the search order for a variable: Local, Enclosing, Global, Built-in. In a function context:\n",
    "\n",
    "1. Local names are accessible only within the function they are defined.\n",
    "2. Names not defined locally but in an enclosing function are accessible.\n",
    "3. Python searches up the chain of enclosing functions for the name if not found locally.\n",
    "4. If not found in any enclosing function, Python looks globally.\n",
    "\n",
    "This ensures a systematic search for identifiers, following a hierarchy from local to global scopes.\""
   ]
  },
  {
   "cell_type": "markdown",
   "metadata": {},
   "source": [
    "1. Study the program segments given below. Give the output produced, if any"
   ]
  },
  {
   "cell_type": "code",
   "execution_count": 1,
   "metadata": {},
   "outputs": [
    {
     "name": "stdout",
     "output_type": "stream",
     "text": [
      "Inside function test: globalVar = 10\n",
      "Inside function test: localVar = 20\n",
      "Outside function test: globalVar = 10\n"
     ]
    },
    {
     "ename": "NameError",
     "evalue": "name 'localVar' is not defined",
     "output_type": "error",
     "traceback": [
      "\u001b[1;31m---------------------------------------------------------------------------\u001b[0m",
      "\u001b[1;31mNameError\u001b[0m                                 Traceback (most recent call last)",
      "\u001b[1;32mc:\\Users\\kname\\Desktop\\PythonAssignments\\Assignment5.ipynb Cell 1\u001b[0m line \u001b[0;36m8\n\u001b[0;32m      <a href='vscode-notebook-cell:/c%3A/Users/kname/Desktop/PythonAssignments/Assignment5.ipynb#W0sZmlsZQ%3D%3D?line=5'>6</a>\u001b[0m test()\n\u001b[0;32m      <a href='vscode-notebook-cell:/c%3A/Users/kname/Desktop/PythonAssignments/Assignment5.ipynb#W0sZmlsZQ%3D%3D?line=6'>7</a>\u001b[0m \u001b[39mprint\u001b[39m(\u001b[39m'\u001b[39m\u001b[39mOutside function test: globalVar =\u001b[39m\u001b[39m'\u001b[39m, globalVar)\n\u001b[1;32m----> <a href='vscode-notebook-cell:/c%3A/Users/kname/Desktop/PythonAssignments/Assignment5.ipynb#W0sZmlsZQ%3D%3D?line=7'>8</a>\u001b[0m \u001b[39mprint\u001b[39m(\u001b[39m'\u001b[39m\u001b[39mOutside function test: localVar =\u001b[39m\u001b[39m'\u001b[39m, localVar)\n",
      "\u001b[1;31mNameError\u001b[0m: name 'localVar' is not defined"
     ]
    }
   ],
   "source": [
    "globalVar = 10\n",
    "def test():\n",
    "    localVar = 20\n",
    "    print('Inside function test: globalVar =', globalVar)\n",
    "    print('Inside function test: localVar =', localVar)\n",
    "test()\n",
    "print('Outside function test: globalVar =', globalVar)\n",
    "print('Outside function test: localVar =', localVar)\n",
    "\n"
   ]
  },
  {
   "cell_type": "markdown",
   "metadata": {},
   "source": [
    "We encounter an error for localVar because it is a local variable defined within the function and is not accessible outside of it. \n",
    "To access Localvar we can use the below code:"
   ]
  },
  {
   "cell_type": "code",
   "execution_count": 1,
   "metadata": {},
   "outputs": [
    {
     "name": "stdout",
     "output_type": "stream",
     "text": [
      "Inside function test: globalVar = 10\n",
      "Inside function test: localVar = 20\n",
      "Outside function test: globalVar = 10\n",
      "Outside function test: localVar = 20\n"
     ]
    }
   ],
   "source": [
    "globalVar = 10\n",
    "\n",
    "def test():\n",
    "    localVar = 20\n",
    "    print('Inside function test: globalVar =', globalVar)\n",
    "    print('Inside function test: localVar =', localVar)\n",
    "    return localVar\n",
    "\n",
    "result = test()\n",
    "\n",
    "print('Outside function test: globalVar =', globalVar)\n",
    "print('Outside function test: localVar =', result)\n"
   ]
  },
  {
   "cell_type": "code",
   "execution_count": 2,
   "metadata": {},
   "outputs": [
    {
     "name": "stdout",
     "output_type": "stream",
     "text": [
      "Inside function test: globalVar = 30\n",
      "Inside function test: localVar = 20\n",
      "Outside function test: globalVar = 10\n"
     ]
    }
   ],
   "source": [
    "globalVar = 10\n",
    "def test():\n",
    "    localVar = 20\n",
    "    globalVar = 30\n",
    "    print('Inside function test: globalVar =', globalVar)\n",
    "    print('Inside function test: localVar =', localVar)\n",
    "test()\n",
    "print('Outside function test: globalVar =', globalVar)"
   ]
  },
  {
   "cell_type": "code",
   "execution_count": 1,
   "metadata": {},
   "outputs": [
    {
     "name": "stdout",
     "output_type": "stream",
     "text": [
      "Inside function test: globalVar = 30\n",
      "Inside function test: localVar = 20\n",
      "Outside function test: globalVar = 10\n"
     ]
    }
   ],
   "source": [
    "globalVar = 10\n",
    "def test():\n",
    "    localVar = 20\n",
    "    globalVar = 30\n",
    "    print('Inside function test: globalVar =', globalVar)\n",
    "    print('Inside function test: localVar =', localVar)\n",
    "test()\n",
    "print('Outside function test: globalVar =', globalVar)\n"
   ]
  },
  {
   "cell_type": "code",
   "execution_count": 3,
   "metadata": {},
   "outputs": [
    {
     "name": "stdout",
     "output_type": "stream",
     "text": [
      "Inside function test2  8\n",
      "Outside function test2  8\n"
     ]
    }
   ],
   "source": [
    "def test1():\n",
    "    test1.a = 10\n",
    "def test2():\n",
    "    test1.a = 8\n",
    "    print('Inside function test2 ', test1.a)\n",
    "test2()\n",
    "print('Outside function test2 ', test1.a)\n",
    "test1()"
   ]
  },
  {
   "cell_type": "code",
   "execution_count": 1,
   "metadata": {},
   "outputs": [
    {
     "name": "stdout",
     "output_type": "stream",
     "text": [
      "Inside function g,  a= 10\n",
      "Inside function h,  a= 20\n",
      "Inside function f,  a= 20\n",
      "Outside function f,  a= 4\n"
     ]
    }
   ],
   "source": [
    "a = 4\n",
    "def f():\n",
    "    a = 5\n",
    "    def g():\n",
    "        nonlocal a\n",
    "        a = 10\n",
    "        print('Inside function g, ', 'a=', a)\n",
    "        def h():\n",
    "            nonlocal a\n",
    "            a = 20\n",
    "            print('Inside function h, ', 'a=', a)\n",
    "        h()\n",
    "    g()\n",
    "    print('Inside function f, ', 'a=', a)\n",
    "f()\n",
    "print('Outside function f, ', 'a=', a)\n"
   ]
  },
  {
   "cell_type": "code",
   "execution_count": 9,
   "metadata": {},
   "outputs": [
    {
     "ename": "SyntaxError",
     "evalue": "invalid syntax (60499864.py, line 3)",
     "output_type": "error",
     "traceback": [
      "\u001b[1;36m  Cell \u001b[1;32mIn[9], line 3\u001b[1;36m\u001b[0m\n\u001b[1;33m    nonlocal x = x+1\u001b[0m\n\u001b[1;37m               ^\u001b[0m\n\u001b[1;31mSyntaxError\u001b[0m\u001b[1;31m:\u001b[0m invalid syntax\n"
     ]
    }
   ],
   "source": [
    "x = 2\n",
    "def test():\n",
    "    x = x+1\n",
    "    print(x)\n",
    "print(x)\n",
    "test()"
   ]
  },
  {
   "cell_type": "code",
   "execution_count": 6,
   "metadata": {},
   "outputs": [
    {
     "name": "stdout",
     "output_type": "stream",
     "text": [
      "3\n",
      "8\n"
     ]
    }
   ],
   "source": [
    "x = 3\n",
    "def test():\n",
    "    global x\n",
    "    x = x+5\n",
    "    print(x)\n",
    "print(x)\n",
    "test()"
   ]
  },
  {
   "cell_type": "code",
   "execution_count": null,
   "metadata": {},
   "outputs": [],
   "source": []
  }
 ],
 "metadata": {
  "kernelspec": {
   "display_name": "tf_gpu",
   "language": "python",
   "name": "python3"
  },
  "language_info": {
   "codemirror_mode": {
    "name": "ipython",
    "version": 3
   },
   "file_extension": ".py",
   "mimetype": "text/x-python",
   "name": "python",
   "nbconvert_exporter": "python",
   "pygments_lexer": "ipython3",
   "version": "3.9.0"
  }
 },
 "nbformat": 4,
 "nbformat_minor": 2
}
