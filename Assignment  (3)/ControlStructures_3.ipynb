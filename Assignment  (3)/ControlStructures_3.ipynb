{
 "cells": [
  {
   "cell_type": "markdown",
   "metadata": {},
   "source": [
    "<h4>Question 1</h4>\n",
    "<p>Write an assignment statement using a single conditional expression for the following if-else code:\n",
    "\n",
    "<code>if marks >= 70:</code>\n",
    "\n",
    "<code>remarks = ’good’</code>\n",
    "\n",
    "<code>else:</code>\n",
    "\n",
    "<code>remarks = ’average’</code></p>\n"
   ]
  },
  {
   "cell_type": "code",
   "execution_count": 1,
   "metadata": {},
   "outputs": [
    {
     "name": "stdout",
     "output_type": "stream",
     "text": [
      "Marks: 50 Remarks: average\n"
     ]
    }
   ],
   "source": [
    "marks = int(input(\"Enter the marks: \"))\n",
    "\n",
    "if marks >= 70:\n",
    "    remarks = 'good'  \n",
    "else :\n",
    "    remarks ='average'\n",
    "\n",
    "print(\"Marks:\", marks, \"Remarks:\", remarks)\n"
   ]
  },
  {
   "cell_type": "markdown",
   "metadata": {},
   "source": [
    "\n",
    "<h4>Question 2</h4>\n",
    "<p>It is commonly said that one human year is equivalent to 7 dog years. However, this simple conversion must recognize that dogs reach adulthood in approximately two years. As a result, some people believe that it is better to count each of the first two human years as 10.5 dog years and then count each additional human year as 4 dog years. Write a program that implements the conversion from human to dog years described in the previous paragraph. Ensure that your program works correctly for conversions of less than two human years and conversions of two or more human years. Your program should display an appropriate error message if the user enters a negative number.</p>"
   ]
  },
  {
   "cell_type": "code",
   "execution_count": 2,
   "metadata": {},
   "outputs": [
    {
     "name": "stdout",
     "output_type": "stream",
     "text": [
      "Choose an option:\n",
      "1. Less than two human years\n",
      "2. Two or more human years\n",
      "20.0 human years is equivalent to 93.0 dog years.\n"
     ]
    }
   ],
   "source": [
    "def human_to_dog_years(human_years):\n",
    "    if human_years < 0:\n",
    "        print(\"Error: Please enter a non-negative number for human years.\")\n",
    "        return\n",
    "\n",
    "    if human_years <= 2:\n",
    "        dog_years = 10.5 * human_years\n",
    "    else:\n",
    "        dog_years = 21 + 4 * (human_years - 2)\n",
    "\n",
    "    print(human_years, \"human years is equivalent to\", dog_years, \"dog years.\")\n",
    "\n",
    "# Ask the user for input option\n",
    "print(\"Choose an option:\")\n",
    "print(\"1. Less than two human years\")\n",
    "print(\"2. Two or more human years\")\n",
    "\n",
    "option = int(input(\"Enter your choice (1 or 2): \"))\n",
    "\n",
    "# Perform conversion based on user's choice\n",
    "if option == 1:\n",
    "    user_input = float(input(\"Enter the number of human years (less than 2): \"))\n",
    "    human_to_dog_years(user_input)\n",
    "elif option == 2:\n",
    "    user_input = float(input(\"Enter the number of human years (2 or more): \"))\n",
    "    human_to_dog_years(user_input)\n",
    "else:\n",
    "    print(\"Invalid option. Please choose 1 or 2.\")\n"
   ]
  },
  {
   "cell_type": "markdown",
   "metadata": {},
   "source": [
    "<h4>Question 3</h4>\n",
    "<p>The length of a month varies from 28 to 31 days. Create a program that reads the month’s name from the user as a string. Then your program should display the number of days in that month. Display “28 or 29 days” for February so that leap years are addressed.</p>\n"
   ]
  },
  {
   "cell_type": "code",
   "execution_count": 5,
   "metadata": {},
   "outputs": [
    {
     "name": "stdout",
     "output_type": "stream",
     "text": [
      "September has 30 days.\n"
     ]
    }
   ],
   "source": [
    "def days_in_month(month):\n",
    "    # Define months with their corresponding days\n",
    "    months_with_30_days = [\"April\", \"June\", \"September\", \"November\"]\n",
    "    months_with_31_days = [\"January\", \"March\", \"May\", \"July\", \"August\", \"October\", \"December\"]\n",
    "\n",
    "    # Check if it's February\n",
    "    if month.lower() == \"february\":\n",
    "        return \"28 or 29 days (leap year)\"  # Leap year check needed for February\n",
    "\n",
    "    # Check for months with 30 days\n",
    "    elif month.capitalize() in months_with_30_days:\n",
    "        return \"30 days\"\n",
    "\n",
    "    # Check for months with 31 days\n",
    "    elif month.capitalize() in months_with_31_days:\n",
    "        return \"31 days\"\n",
    "\n",
    "    else:\n",
    "        return \"Invalid month name\"\n",
    "\n",
    "# Get input from the user\n",
    "user_month = input(\"Enter the name of the month: \")\n",
    "\n",
    "# Display the number of days in the entered month\n",
    "result = days_in_month(user_month)\n",
    "print(user_month.capitalize(), \"has\", result + \".\")\n"
   ]
  },
  {
   "cell_type": "markdown",
   "metadata": {},
   "source": [
    "<h4>Question 4</h4>\n",
    "<p>A roulette wheel has 38 spaces on it. Of these spaces, 18 are black, 18 are red, and two are green. The green spaces are numbered 0 and 00. The red spaces are numbered 1, 3, 5, 7, 9, 12, 14, 16, 18, 19, 21, 23, 25, 27, 30, 32, 34, and 36. The remaining integers between 1 and 36 are used to number the black spaces. Many different bets can be placed in roulette. We will only consider the following subset of them in this exercise:\n",
    "<ul>\n",
    "  <li>Single number (1 to 36, 0, or 00)</li>\n",
    "  <li>Red versus Black</li>\n",
    "  <li>Odd versus Even (Note that 0 and 00 do not pay out for even)</li>\n",
    "  <li>1 to 18 versus 19 to 36</li>\n",
    "</ul>\n",
    "Write a program that simulates a spin of a roulette wheel by using Python’s random number generator. Display the number that was selected and all of the bets that must be paid. For example, if 13 is selected then your program should display:\n",
    "The spin resulted in 13...\n",
    "Pay 13\n",
    "Pay Black\n",
    "Pay Odd\n",
    "Pay 1 to 18\n",
    "If the simulation results in 0 or 00 then your program should display Pay 0 or Pay 00 without any further output</p>\n"
   ]
  },
  {
   "cell_type": "code",
   "execution_count": null,
   "metadata": {},
   "outputs": [],
   "source": [
    "import random\n",
    "\n",
    "# Generate a random number between 0 and 37\n",
    "spin = random.randint(0, 37)\n",
    "\n",
    "# Display the selected number\n",
    "print(\"The spin resulted in\", spin, \"...\")\n",
    "\n",
    "# Check if the spin resulted in 0 or 00\n",
    "if spin == 0:\n",
    "    print(\"Pay 0\")\n",
    "elif spin == 00:\n",
    "    print(\"Pay 00\")\n",
    "else:\n",
    "    # Check if the spin resulted in a red or black number\n",
    "    if spin in [1, 3, 5, 7, 9, 12, 14, 16, 18, 19, 21, 23, 25, 27, 30, 32, 34, 36]:\n",
    "        print(\"Pay Red\")\n",
    "    else:\n",
    "        print(\"Pay Black\")\n",
    "\n",
    "    # Check if the spin resulted in an odd or even number\n",
    "    if spin % 2 == 0:\n",
    "        print(\"Pay Even\")\n",
    "    else:\n",
    "        print(\"Pay Odd\")\n",
    "\n",
    "    # Check if the spin resulted in a number between 1 and 18 or 19 and 36\n",
    "    if spin >= 1 and spin <= 18:\n",
    "        print(\"Pay 1 to 18\")\n",
    "    elif spin >= 19 and spin <= 36:\n",
    "        print(\"Pay 19 to 36\")\n"
   ]
  },
  {
   "cell_type": "markdown",
   "metadata": {},
   "source": [
    "\n",
    "<h4>Question 5</h4>\n",
    "<p>The following table lists the sound level in decibels for several common noises. Write a program that reads a sound level in decibels from the user. If the user enters a decibel level that matches one of the noises in the table then your program should display a message containing only that noise. If the user enters a number of decibels between the noises listed then your program should display a message indicating which noises the value is between. Ensure that your program also generates reasonable output for a value smaller than the quietest noise in the table and for a value larger than the loudest noise in the table.</p>\n"
   ]
  },
  {
   "cell_type": "code",
   "execution_count": 3,
   "metadata": {},
   "outputs": [
    {
     "name": "stdout",
     "output_type": "stream",
     "text": [
      "Between a quiet room and an alarm clock.\n"
     ]
    }
   ],
   "source": [
    "def classify_noise(decibels):\n",
    "    if decibels < 0:\n",
    "        return \"Invalid input: Decibel level should be non-negative.\"\n",
    "    elif decibels < 40:\n",
    "        return \"Quieter than a quiet room.\"\n",
    "    elif decibels == 40:\n",
    "        return \"Quiet room.\"\n",
    "    elif 40 < decibels < 70:\n",
    "        return \"Between a quiet room and an alarm clock.\"\n",
    "    elif decibels == 70:\n",
    "        return \"Alarm clock.\"\n",
    "    elif 70 < decibels < 106:\n",
    "        return \"Between an alarm clock and a gas lawn mower.\"\n",
    "    elif decibels == 106:\n",
    "        return \"Gas lawn mower.\"\n",
    "    elif 106 < decibels < 130:\n",
    "        return \"Between a gas lawn mower and a jackhammer.\"\n",
    "    elif decibels == 130:\n",
    "        return \"Jackhammer.\"\n",
    "    else:\n",
    "        return \"Louder than a jackhammer.\"\n",
    "\n",
    "# Get input from the user\n",
    "user_decibels = float(input(\"Enter the sound level in decibels: \"))\n",
    "\n",
    "# Display the classification message\n",
    "result = classify_noise(user_decibels)\n",
    "print(result)\n"
   ]
  },
  {
   "cell_type": "markdown",
   "metadata": {},
   "source": [
    "\n",
    "<h4>Question 6</h4>\n",
    "<p>Write a Python script to assign a grade to a student based on marks obtained as per the criteria mentioned in the above table:</p>\n"
   ]
  },
  {
   "cell_type": "code",
   "execution_count": 8,
   "metadata": {},
   "outputs": [
    {
     "name": "stdout",
     "output_type": "stream",
     "text": [
      "The student's marks of 40.5 correspond to the grade: D\n"
     ]
    }
   ],
   "source": [
    "def assign_grade(marks):\n",
    "    if 90 <= marks <= 100:\n",
    "        return \"A\"\n",
    "    elif 70 <= marks < 89:\n",
    "        return \"B\"\n",
    "    elif 50 <= marks < 69:\n",
    "        return \"C\"\n",
    "    elif 40 <= marks < 49:\n",
    "        return \"D\"\n",
    "    elif 0 <= marks < 39:\n",
    "        return \"F\"\n",
    "    else:\n",
    "        return \"Invalid marks. Marks should be between 0 and 100.\"\n",
    "\n",
    "# Get input from the user\n",
    "user_marks = float(input(\"Enter the marks obtained: \"))\n",
    "\n",
    "# Display the assigned grade\n",
    "result = assign_grade(user_marks)\n",
    "print(\"The student's marks of\",user_marks,\"correspond to the grade:\",result)\n"
   ]
  },
  {
   "cell_type": "markdown",
   "metadata": {},
   "source": [
    "\n",
    "<h4>Question 7</h4>\n",
    "<p>Study the program segments given below. In each case, give the output produced, if any.\n",
    "<ol>\n",
    "  <li>a. <code>total = 0</code><br>\n",
    "      <code>count = 20</code><br>\n",
    "      <code>while count > 5:</code><br>\n",
    "      <code>total += count</code><br>\n",
    "      <code>count -= 1</code><br>\n",
    "      <code>print(total)</code></li>\n",
    "  <li>b. <code>total = 0</code><br>\n",
    "      <code>N = 5</code><br>\n",
    "      <code>for i in range(1, N+1):</code><br>\n",
    "      <code>for j in range(1, i+1):</code><br>\n",
    "      <code>total += 1</code><br>\n",
    "      <code>print(total)</code></li>\n",
    "  <li>c. <code>total = 0</code><br>\n",
    "      <code>N = 10</code><br>\n",
    "      <code>for i in range(1, N+1):</code><br>\n",
    "      <code>for j in range(1, i+1):</code><br>\n",
    "      <code>total += 1</code><br>\n",
    "      <code>print(total)</code></li>\n",
    "  <li>d. <code>total = 0</code><br>\n",
    "      <code>N = 5</code><br>\n",
    "      <code>for i in range(1, N+1):</code><br>\n",
    "      <code>for j in range(1, i+1):</code><br>\n",
    "      <code>total += 1</code><br>\n",
    "      <code>total -= 1</code><br>\n",
    "      <code>print(total)</code></li>\n",
    "  <li>e. <code>total = 0</code><br>\n",
    "      <code>N = 5</code><br>\n",
    "      <code>for i in range(1, N+1):</code><br>\n",
    "      <code>for j in range(1, N+1):</code><br>\n",
    "      <code>total += i</code><br>\n",
    "      <code>print(total)</code></li>\n",
    "  <li>f. <code>total = 0</code><br>\n",
    "      <code>N = 5</code><br>\n",
    "      <code>for i in range(1, N+1):</code><br>\n",
    "      <code>for j in range(1, i+1):</code><br>\n",
    "      <code>total += j</code><br>\n",
    "      <code>print(total)</code></li>\n",
    "  <li>g. <code>total = 0</code><br>\n",
    "      <code>N = 5</code><br>\n",
    "      <code>for i in range(1, N+1):</code><br>\n",
    "      <code>for j in range(1, N+1):</code><br>\n",
    "      <code>total += i+j</code><br>\n",
    "      <code>print(total)</code></li>\n",
    "  <li>h. <code>total = 0</code><br>\n",
    "      <code>N = 5</code><br>\n",
    "      <code>for i in range(1, N+1):</code><br>\n",
    "      <code>for j in range(1, i+1):</code><br>\n",
    "      <code>for k in range(1, j+1):</code><br>\n",
    "      <code>total += 1</code><br>\n",
    "      <code>print(total)</code></li>\n",
    "  <li>i. <code>number = 72958476</code><br>\n",
    "      <code>a, b = 0, 0</code><br>\n",
    "      <code>while (number > 0):</code><br>\n",
    "      <code>digit = number % 10</code><br>\n",
    "      <code>if(digit % 2 != 0):</code><br>\n",
    "      <code>a += digit</code><br>\n",
    "      <code>else:</code><br>\n",
    "      <code>b += digit</code><br>\n",
    "      <code>number /= 10</code><br>\n",
    "      <code>print(a, b)</code></li>\n",
    "</ol>"
   ]
  },
  {
   "cell_type": "code",
   "execution_count": 1,
   "metadata": {},
   "outputs": [
    {
     "ename": "KeyboardInterrupt",
     "evalue": "",
     "output_type": "error",
     "traceback": [
      "\u001b[1;31m---------------------------------------------------------------------------\u001b[0m",
      "\u001b[1;31mKeyboardInterrupt\u001b[0m                         Traceback (most recent call last)",
      "Cell \u001b[1;32mIn[1], line 5\u001b[0m\n\u001b[0;32m      3\u001b[0m count_a \u001b[38;5;241m=\u001b[39m \u001b[38;5;241m20\u001b[39m\n\u001b[0;32m      4\u001b[0m \u001b[38;5;28;01mwhile\u001b[39;00m count_a \u001b[38;5;241m>\u001b[39m \u001b[38;5;241m5\u001b[39m:\n\u001b[1;32m----> 5\u001b[0m     total_a \u001b[38;5;241m+\u001b[39m\u001b[38;5;241m=\u001b[39m count_a\n\u001b[0;32m      6\u001b[0m count_a \u001b[38;5;241m-\u001b[39m\u001b[38;5;241m=\u001b[39m \u001b[38;5;241m1\u001b[39m\n\u001b[0;32m      7\u001b[0m \u001b[38;5;28mprint\u001b[39m(total_a)\n",
      "\u001b[1;31mKeyboardInterrupt\u001b[0m: "
     ]
    }
   ],
   "source": [
    "# a.\n",
    "total_a = 0\n",
    "count_a = 20\n",
    "while count_a > 5:\n",
    "    total_a += count_a\n",
    "count_a -= 1\n",
    "print(total_a)\n",
    "\n",
    "# b.\n",
    "total_b = 0\n",
    "N_b = 5\n",
    "for i_b in range(1, N_b+1):\n",
    "    for j_b in range(1, i_b+1):\n",
    "        total_b += 1\n",
    "print(total_b)\n",
    "\n",
    "# c.\n",
    "total_c = 0\n",
    "N_c = 10\n",
    "for i_c in range(1, N_c+1):\n",
    "    for j_c in range(1, i_c+1):\n",
    "        total_c += 1\n",
    "print(total_c)\n",
    "\n",
    "# d.\n",
    "total_d = 0\n",
    "N_d = 5\n",
    "for i_d in range(1, N_d+1):\n",
    "    for j_d in range(1, i_d+1):\n",
    "        total_d += 1\n",
    "    total_d -= 1\n",
    "print(total_d)\n",
    "\n",
    "# e.\n",
    "total_e = 0\n",
    "N_e = 5\n",
    "for i_e in range(1, N_e+1):\n",
    "    for j_e in range(1, N_e+1):\n",
    "        total_e += i_e\n",
    "print(total_e)\n",
    "\n",
    "# f.\n",
    "total_f = 0\n",
    "N_f = 5\n",
    "for i_f in range(1, N_f+1):\n",
    "    for j_f in range(1, i_f+1):\n",
    "        total_f += j_f\n",
    "print(total_f)\n",
    "\n",
    "# g.\n",
    "total_g = 0\n",
    "N_g = 5\n",
    "for i_g in range(1, N_g+1):\n",
    "    for j_g in range(1, N_g+1):\n",
    "        total_g += i_g + j_g\n",
    "print(total_g)\n",
    "\n",
    "# h.\n",
    "total_h = 0\n",
    "N_h = 5\n",
    "for i_h in range(1, N_h+1):\n",
    "    for j_h in range(1, i_h+1):\n",
    "        for k_h in range(1, j_h+1):\n",
    "            total_h += 1\n",
    "print(total_h)\n",
    "\n",
    "# i.\n",
    "number_i = 72958476\n",
    "a_i, b_i = 0, 0\n",
    "while number_i > 0:\n",
    "    digit = number_i % 10\n",
    "    if (digit % 2 != 0):\n",
    "        a_i += digit\n",
    "    else:\n",
    "        b_i += digit\n",
    "    number_i //= 10\n",
    "print(a_i, b_i)\n"
   ]
  },
  {
   "cell_type": "markdown",
   "metadata": {},
   "source": [
    "<h4>Question 8</h4>\n",
    "<p>Write a function to determine whether a given natural number is perfect. A natural number is said to be a perfect number if it is the sum of its divisors. For Example, 6 is a perfect number because 6 = 1+2+3, but 15 is not because 15 != 1+3+5.</p>"
   ]
  },
  {
   "cell_type": "code",
   "execution_count": 1,
   "metadata": {},
   "outputs": [],
   "source": [
    "'''Write a function to determine whether a given natural number is perfect. A natural number is said to\n",
    "be a perfect number if it is the sum of its divisors. For Example, 6 is a perfect number because 6 =\n",
    "1+2+3, but 15 is not because 15 != 1+3+5.'''\n",
    "def is_perfect(n):\n",
    "    sum = 0\n",
    "    for i in range(1, n):\n",
    "        if n % i == 0:\n",
    "            sum += i\n",
    "    return sum == n"
   ]
  },
  {
   "cell_type": "markdown",
   "metadata": {},
   "source": [
    "\n",
    "<h4>Question 9</h4>\n",
    "<p>Write a program to find the maximum of three numbers using a nested function.</p>\n"
   ]
  },
  {
   "cell_type": "code",
   "execution_count": 2,
   "metadata": {},
   "outputs": [
    {
     "name": "stdout",
     "output_type": "stream",
     "text": [
      "6\n"
     ]
    }
   ],
   "source": [
    "\"\"\"Write a program to find the maximum of three numbers using a nested function\"\"\"\n",
    "def maximum(a, b, c):\n",
    "    def max_of_two(x, y):\n",
    "        if x > y:\n",
    "            return x\n",
    "        return y\n",
    "    return max_of_two(a, max_of_two(b, c))\n",
    "\n",
    "print(maximum(3, 6, -5))\n",
    "    "
   ]
  },
  {
   "cell_type": "markdown",
   "metadata": {},
   "source": [
    "\n",
    "<h4>Question 10</h4>\n",
    "<p>Write a function that takes two numbers as input parameters and returns their least common multiple.</p>\n"
   ]
  },
  {
   "cell_type": "code",
   "execution_count": 5,
   "metadata": {},
   "outputs": [
    {
     "name": "stdout",
     "output_type": "stream",
     "text": [
      "The LCM of 36 and 18 is: 36\n"
     ]
    }
   ],
   "source": [
    "import math\n",
    "\n",
    "# Function to compute LCM (Least Common Multiple)\n",
    "def lcm(a, b):\n",
    "    return abs(a * b) // math.gcd(a, b)\n",
    "\n",
    "# Example usage:\n",
    "num1 = 36\n",
    "num2 = 18\n",
    "\n",
    "result = lcm(num1, num2)\n",
    "print(f\"The LCM of {num1} and {num2} is: {result}\")\n"
   ]
  },
  {
   "cell_type": "markdown",
   "metadata": {},
   "source": [
    "\n",
    "\n",
    "<h4>Question 11</h4>\n",
    "<p>Write a function that takes two numbers as input parameters and returns their greatest common divisor.</p>\n"
   ]
  },
  {
   "cell_type": "code",
   "execution_count": 6,
   "metadata": {},
   "outputs": [
    {
     "name": "stdout",
     "output_type": "stream",
     "text": [
      "6\n"
     ]
    }
   ],
   "source": [
    "import math\n",
    "def gcd(a,b):\n",
    "    return math.gcd(a,b)\n",
    "\n",
    "print(gcd(12, 18))"
   ]
  },
  {
   "cell_type": "markdown",
   "metadata": {},
   "source": [
    "\n",
    "<h4>Question 12</h4>\n",
    "<p>Write a function that accepts as an input parameter the number of rows to be printed and prints a figure like:\n",
    "<p> a\n",
    "<pre>\n",
    "    *\n",
    "   * *\n",
    "  * * *\n",
    " * * * *\n",
    "* * * * *\n",
    "</pre>\n",
    "</p>"
   ]
  },
  {
   "cell_type": "code",
   "execution_count": 6,
   "metadata": {},
   "outputs": [
    {
     "name": "stdout",
     "output_type": "stream",
     "text": [
      "    * \n",
      "   * * \n",
      "  * * * \n",
      " * * * * \n",
      "* * * * * \n"
     ]
    }
   ],
   "source": [
    "for i in range(5):\n",
    "    print(\" \" * (4 - i) + \"* \" * (i + 1))\n"
   ]
  },
  {
   "cell_type": "markdown",
   "metadata": {},
   "source": [
    "<p>b\n",
    "<pre>\n",
    "      1\n",
    "    2 1 2\n",
    "  3 2 1 2 3\n",
    "4 3 2 1 2 3 4\n",
    "</pre>"
   ]
  },
  {
   "cell_type": "code",
   "execution_count": 8,
   "metadata": {},
   "outputs": [
    {
     "name": "stdout",
     "output_type": "stream",
     "text": [
      "   1 \n",
      "  2 1 2\n",
      " 3 2 1 2 3\n",
      "4 3 2 1 2 3 4\n"
     ]
    }
   ],
   "source": [
    "'''print this 1\n",
    "    2 1 2\n",
    "  3 2 1 2 3\n",
    "4 3 2 1 2 3 4'''\n",
    "for i in range(4):\n",
    "    print(\" \" * (3 - i) + \" \".join(map(str, list(range(i + 1, 0, -1)))) + \" \" + \" \".join(map(str, list(range(2, i + 2)))))\n",
    "    "
   ]
  },
  {
   "cell_type": "markdown",
   "metadata": {},
   "source": [
    "<p> c\n",
    "\n",
    "<pre>\n",
    "5 4 3 2 1\n",
    "4 3 2 1\n",
    "3 2 1\n",
    "2 1\n",
    "1\n",
    "</pre>"
   ]
  },
  {
   "cell_type": "markdown",
   "metadata": {},
   "source": [
    "<p>\n",
    "\n",
    "<pre>\n",
    "\n",
    "\n",
    "</pre>"
   ]
  },
  {
   "cell_type": "code",
   "execution_count": null,
   "metadata": {},
   "outputs": [],
   "source": []
  },
  {
   "cell_type": "markdown",
   "metadata": {},
   "source": [
    "<p>d\n",
    "\n",
    "<pre> \n",
    "    1\n",
    "   2 2\n",
    "  3 3 3 \n",
    " 4 4 4 4 \n",
    "5 5 5 5 5 \n",
    "</pre>"
   ]
  },
  {
   "cell_type": "code",
   "execution_count": null,
   "metadata": {},
   "outputs": [],
   "source": []
  },
  {
   "cell_type": "markdown",
   "metadata": {},
   "source": [
    "<p>e\n",
    "\n",
    "<pre>\n",
    "1 2 3 4 5\n",
    "  2 3 4 5 \n",
    "    3 4 5 \n",
    "      4 5 \n",
    "        5\n",
    "\n",
    "</pre>"
   ]
  },
  {
   "cell_type": "code",
   "execution_count": null,
   "metadata": {},
   "outputs": [],
   "source": []
  },
  {
   "cell_type": "markdown",
   "metadata": {},
   "source": [
    "<p>f\n",
    "\n",
    "<pre>\n",
    "* * * * * * * * *\n",
    "*               *\n",
    "*               *\n",
    "*               *\n",
    "*               *\n",
    "*               *\n",
    "*               *\n",
    "* * * * * * * * *\n",
    "\n",
    "</pre>"
   ]
  },
  {
   "cell_type": "code",
   "execution_count": null,
   "metadata": {},
   "outputs": [],
   "source": []
  },
  {
   "cell_type": "markdown",
   "metadata": {},
   "source": [
    "<p>g\n",
    "\n",
    "<pre>\n",
    "* * * * * * * * *\n",
    "* * * * * * * * *\n",
    "* * * * * * * * *\n",
    "* * * * * * * * *\n",
    "* * * * * * * * *\n",
    "\n",
    "</pre>"
   ]
  },
  {
   "cell_type": "markdown",
   "metadata": {},
   "source": [
    "<p>h\n",
    "\n",
    "<pre>\n",
    "      *\n",
    "    * * *\n",
    "  * * * * *\n",
    "* * * * * * *\n",
    "\n",
    "\n",
    "</pre>"
   ]
  },
  {
   "cell_type": "code",
   "execution_count": null,
   "metadata": {},
   "outputs": [],
   "source": []
  },
  {
   "cell_type": "code",
   "execution_count": null,
   "metadata": {},
   "outputs": [],
   "source": []
  },
  {
   "cell_type": "markdown",
   "metadata": {},
   "source": [
    "<p>i\n",
    "\n",
    "<pre>\n",
    "* * * * * * * * *\n",
    "  *           *\n",
    "    *       *\n",
    "        *\n",
    "\n",
    "</pre>"
   ]
  },
  {
   "cell_type": "markdown",
   "metadata": {},
   "source": [
    "<p>j\n",
    "\n",
    "<pre>\n",
    "\n",
    "  * * * * * * * \n",
    "   * * * * * * \n",
    "     * * * *\n",
    "      * * *\n",
    "       * *\n",
    "        * \n",
    "\n",
    "</pre>"
   ]
  },
  {
   "cell_type": "markdown",
   "metadata": {},
   "source": [
    "<p>k\n",
    "\n",
    "<pre>\n",
    "         * \n",
    "       *   *\n",
    "     *       * \n",
    "   *           *\n",
    " *               *\n",
    "  *            *\n",
    "    *        * \n",
    "      *   * \n",
    "        *  \n",
    "\n",
    "</pre>"
   ]
  },
  {
   "cell_type": "markdown",
   "metadata": {},
   "source": [
    "<p>l\n",
    "\n",
    "<pre>\n",
    "\n",
    "       * \n",
    "     * * * \n",
    "   * * * * *  \n",
    " * * * * * * * \n",
    "   * * * * * \n",
    "     * * *\n",
    "       * \n",
    "</pre>"
   ]
  },
  {
   "cell_type": "markdown",
   "metadata": {},
   "source": [
    "<p>m\n",
    "\n",
    "<pre>\n",
    "\n",
    "    $ $ $ $ $\n",
    "      $ $ $ $ \n",
    "        $ $ $ \n",
    "          $ $ \n",
    "            $\n",
    "</pre>"
   ]
  },
  {
   "cell_type": "markdown",
   "metadata": {},
   "source": [
    "<p>n\n",
    "\n",
    "<pre>\n",
    "         #\n",
    "       # #\n",
    "     # # #\n",
    "   # # # #\n",
    " # # # # #\n",
    "\n",
    "</pre>"
   ]
  },
  {
   "cell_type": "markdown",
   "metadata": {},
   "source": [
    "<p>\n",
    "\n",
    "<pre>\n",
    "\n",
    "\n",
    "</pre>"
   ]
  },
  {
   "cell_type": "markdown",
   "metadata": {},
   "source": [
    "\n",
    "\n",
    "<h4>Question 13</h4>\n",
    "<p>Write a function that finds the sum of the n terms of the following series:\n",
    "a. \\( \\frac{1 - x^2}{2!} + \\frac{x^4}{4!} - \\frac{x^6}{6!} + \\ldots + \\frac{x^n}{n!} \\)\n",
    "b. \\( e^x = 1 + \\frac{x}{1!} + \\frac{x^2}{2!} + \\frac{x^3}{3!} + \\ldots \\)</p>\n"
   ]
  },
  {
   "cell_type": "code",
   "execution_count": 7,
   "metadata": {},
   "outputs": [
    {
     "name": "stdout",
     "output_type": "stream",
     "text": [
      "-5.1463\n"
     ]
    }
   ],
   "source": [
    "import math\n",
    "\n",
    "def Series(x, n):\n",
    "    sum = 1\n",
    "    term = 1\n",
    "    y = 2\n",
    "    \n",
    "    for i in range(1, n):\n",
    "        term *= -1\n",
    "        fact = math.factorial(y)\n",
    "        m = term * (x ** y) / fact\n",
    "\n",
    "        sum += m\n",
    "        y += 2\n",
    "    \n",
    "    return sum\n",
    "\n",
    "x = 9\n",
    "n = 10\n",
    "print('%.4f' % Series(x, n))\n"
   ]
  },
  {
   "cell_type": "markdown",
   "metadata": {},
   "source": [
    "\n",
    "<h4>Question 14</h4>\n",
    "<p>Write a function that returns True or False depending on whether the given number is a palindrome.</p>\n"
   ]
  },
  {
   "cell_type": "code",
   "execution_count": 8,
   "metadata": {},
   "outputs": [
    {
     "name": "stdout",
     "output_type": "stream",
     "text": [
      "True\n"
     ]
    }
   ],
   "source": [
    "def is_palindrome(number): \n",
    "    return number == int(str(number)[::-1])\n",
    "\n",
    "print(is_palindrome(12321))\n"
   ]
  },
  {
   "cell_type": "markdown",
   "metadata": {},
   "source": [
    "\n",
    "<h4>Question 15</h4>\n",
    "<p>Write a function that returns the sum of digits of a number, passed to it as an argument.</p>\n"
   ]
  },
  {
   "cell_type": "code",
   "execution_count": null,
   "metadata": {},
   "outputs": [],
   "source": [
    "'''Write a function that returns the sum of digits of a number, passed to it as an argument'''\n",
    "\n",
    "def sum_of_digits(number):\n",
    "    sum = 0\n",
    "    while number > 0:\n",
    "        digit = number % 10\n",
    "        sum += digit\n",
    "        number //= 10\n",
    "    return sum"
   ]
  },
  {
   "cell_type": "markdown",
   "metadata": {},
   "source": [
    "\n",
    "<h4>Question 16</h4>\n",
    "<p>Write a program that prints Armstrong numbers in the range 1 to 1000. An Armstrong number is a number whose sum of the cubes of the cubes of the digits is equal to the number itself. For Example, 370 = \\(3^3 + 7^3 + 0^3\\)</p>\n"
   ]
  },
  {
   "cell_type": "code",
   "execution_count": 16,
   "metadata": {},
   "outputs": [
    {
     "name": "stdout",
     "output_type": "stream",
     "text": [
      "1 153 370 371 407 "
     ]
    }
   ],
   "source": [
    "# Function to check if a number is an Armstrong number\n",
    "def is_armstrong(number):\n",
    "    sum = 0\n",
    "    temp = number  # Store the original number to compare later\n",
    "    while temp > 0:\n",
    "        digit = temp % 10\n",
    "        sum += digit ** 3\n",
    "        temp //= 10\n",
    "    return sum == number\n",
    "\n",
    "# Printing Armstrong numbers in the range 1 to 1000\n",
    "for i in range(1, 1001):\n",
    "    if is_armstrong(i):\n",
    "        print(i, end=\" \")\n"
   ]
  },
  {
   "cell_type": "markdown",
   "metadata": {},
   "source": [
    "\n",
    "<h4>Question 17</h4>\n",
    "<p>Write a function that takes two numbers as input parameters and returns True or False depending on whether they are co-primes. Two numbers are said to be co-prime if they do not have any common divisor other than one.</p>\n"
   ]
  },
  {
   "cell_type": "code",
   "execution_count": 17,
   "metadata": {},
   "outputs": [
    {
     "name": "stdout",
     "output_type": "stream",
     "text": [
      "True\n"
     ]
    }
   ],
   "source": [
    "import math\n",
    "\n",
    "def is_coprime(a, b):\n",
    "    return math.gcd(a, b) == 1\n",
    "\n",
    "print(is_coprime(12, 13))"
   ]
  },
  {
   "cell_type": "markdown",
   "metadata": {},
   "source": [
    "\n",
    "<h4>Question 18</h4>\n",
    "<p>Write a function to multiply two non-negative numbers by repeated addition, for example, (7 * 5 = 7+7+7+7+7).</p>\n"
   ]
  },
  {
   "cell_type": "code",
   "execution_count": 19,
   "metadata": {},
   "outputs": [
    {
     "name": "stdout",
     "output_type": "stream",
     "text": [
      "9 * 8 = 72\n"
     ]
    }
   ],
   "source": [
    "def multiply_by_repeated_addition(a, b):\n",
    "    # Ensure both numbers are non-negative\n",
    "    if a < 0 or b < 0:\n",
    "        return \"Both numbers must be non-negative.\"\n",
    "\n",
    "    result = 0\n",
    "    for i in range(b):\n",
    "        result += a\n",
    "\n",
    "    return result\n",
    "\n",
    "# Get user input\n",
    "num1 = int(input(\"Enter the first non-negative number: \"))\n",
    "num2 = int(input(\"Enter the second non-negative number: \"))\n",
    "\n",
    "# Call the function with user input\n",
    "result = multiply_by_repeated_addition(num1, num2)\n",
    "\n",
    "print(f\"{num1} * {num2} = {result}\")\n"
   ]
  },
  {
   "cell_type": "markdown",
   "metadata": {},
   "source": [
    "<h4>Question 19</h4>\n",
    "<p>Write a program that computes the average of a collection of values entered by the user. The user will enter 0 as a sentinel value to indicate that no further values will be provided. The program should display an appropriate error message if the first value entered by the user is 0.</p>\n"
   ]
  },
  {
   "cell_type": "code",
   "execution_count": 20,
   "metadata": {},
   "outputs": [
    {
     "name": "stdout",
     "output_type": "stream",
     "text": [
      "The average of the entered values is: 8.5\n"
     ]
    }
   ],
   "source": [
    "# Initialize variables\n",
    "total = 0\n",
    "count = 0\n",
    "\n",
    "# Get the first value from the user\n",
    "value = float(input(\"Enter a value (enter 0 to finish): \"))\n",
    "\n",
    "# Check if the first value is 0\n",
    "if value == 0:\n",
    "    print(\"Error: The first value cannot be 0.\")\n",
    "else:\n",
    "    # Process values until the sentinel value is entered\n",
    "    while value != 0:\n",
    "        # Accumulate the total and increment the count\n",
    "        total += value\n",
    "        count += 1\n",
    "\n",
    "        # Get the next value from the user\n",
    "        value = float(input(\"Enter a value (enter 0 to finish): \"))\n",
    "\n",
    "    # Check if there are values entered before computing the average\n",
    "    if count > 0:\n",
    "        average = total / count\n",
    "        print(\"The average of the entered values is:\",average)\n",
    "    else:\n",
    "        print(\"No values entered.\")\n"
   ]
  },
  {
   "cell_type": "markdown",
   "metadata": {},
   "source": [
    "\n",
    "\n",
    "<h4>Question 20</h4>\n",
    "<p>A particular retailer is having a 60 percent off sale on a variety of discontinued products. The retailer would like to help its customers determine the reduced price of the merchandise by having a printed discount table on the shelf that shows the original prices and the prices after the discount has been applied. Write a program that uses a loop to generate this table, showing the original price, the discount amount, and the new price for purchases of $4.95, $9.95, $14.95, $19.95, and $24.95. Ensure that the discount amounts and the new prices are rounded to 2 decimal places when displayed.</p>\n"
   ]
  },
  {
   "cell_type": "code",
   "execution_count": 20,
   "metadata": {},
   "outputs": [
    {
     "name": "stdout",
     "output_type": "stream",
     "text": [
      "Original Price   Discount Amount   New Price\n",
      "$ 4.95          $ 2.97           $ 1.98\n",
      "$ 9.95          $ 5.97           $ 3.98\n",
      "$ 14.95          $ 8.97           $ 5.98\n",
      "$ 19.95          $ 11.97           $ 7.98\n",
      "$ 24.95          $ 14.97           $ 9.98\n"
     ]
    }
   ],
   "source": [
    "# Percentage discount\n",
    "discount_percentage = 60\n",
    "\n",
    "# List of original prices\n",
    "original_prices = [4.95, 9.95, 14.95, 19.95, 24.95]\n",
    "\n",
    "# Display table header\n",
    "print(\"Original Price   Discount Amount   New Price\")\n",
    "\n",
    "# Generate and display the discount table\n",
    "for price in original_prices:\n",
    "    # Calculate discount amount and new price\n",
    "    discount_amount = price * (discount_percentage / 100)\n",
    "    new_price = price - discount_amount\n",
    "\n",
    "    # Display the values rounded to 2 decimal places using format\n",
    "    print(\"$\",round(price, 2),\"         $\",round(discount_amount, 2),\"          $\",round(new_price, 2))\n",
    "   "
   ]
  },
  {
   "cell_type": "markdown",
   "metadata": {},
   "source": [
    "\n",
    "<h4>Question 21</h4>\n",
    "<p>Write a program that reads an integer from the user. If the value entered by the user is less than 2 then your program should display an appropriate error message. Otherwise, your program should display the prime numbers that can be multiplied together to compute n, with one factor appearing on each line. For example:\n",
    "<pre>\n",
    "Enter an integer (2 or greater): 72\n",
    "The prime factors of 72 are:\n",
    "2\n",
    "2\n",
    "2\n",
    "3\n",
    "3\n",
    "</pre>\n",
    "</p>"
   ]
  },
  {
   "cell_type": "code",
   "execution_count": 25,
   "metadata": {},
   "outputs": [
    {
     "name": "stdout",
     "output_type": "stream",
     "text": [
      "The prime factors of 125  are:\n",
      "5\n",
      "5\n",
      "5\n"
     ]
    }
   ],
   "source": [
    "import sympy\n",
    "def prime_factors(n):\n",
    "    list = []\n",
    "    i = 2\n",
    "    while i <= n:\n",
    "        if n % i == 0 and is_prime(i):\n",
    "            list.append(i)\n",
    "            n //= i\n",
    "        else:\n",
    "            i += 1\n",
    "    return list\n",
    "\n",
    "def is_prime(num):\n",
    "    return sympy.isprime(num) if num >= 2 else False\n",
    "\n",
    "user_input = int(input(\"Enter an integer (2 or greater): \"))\n",
    "\n",
    "if user_input < 2:\n",
    "    print(\"Error: Please enter an integer greater than or equal to 2.\")\n",
    "else:\n",
    "    result = prime_factors(user_input)\n",
    "    print(\"The prime factors of\",user_input,\" are:\")\n",
    "    for factor in result:\n",
    "        print(factor)\n"
   ]
  }
 ],
 "metadata": {
  "kernelspec": {
   "display_name": "tf_gpu",
   "language": "python",
   "name": "python3"
  },
  "language_info": {
   "codemirror_mode": {
    "name": "ipython",
    "version": 3
   },
   "file_extension": ".py",
   "mimetype": "text/x-python",
   "name": "python",
   "nbconvert_exporter": "python",
   "pygments_lexer": "ipython3",
   "version": "3.9.0"
  }
 },
 "nbformat": 4,
 "nbformat_minor": 2
}
